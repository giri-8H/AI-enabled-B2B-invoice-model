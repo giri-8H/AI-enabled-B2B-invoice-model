{
  "nbformat": 4,
  "nbformat_minor": 0,
  "metadata": {
    "colab": {
      "name": "H2HBABBA2893_GREESHMA_SATHEESH_HOUSE_JUDY.ipynb",
      "provenance": [],
      "collapsed_sections": []
    },
    "kernelspec": {
      "display_name": "Python 3",
      "language": "python",
      "name": "python3"
    },
    "language_info": {
      "codemirror_mode": {
        "name": "ipython",
        "version": 3
      },
      "file_extension": ".py",
      "mimetype": "text/x-python",
      "name": "python",
      "nbconvert_exporter": "python",
      "pygments_lexer": "ipython3",
      "version": "3.7.3"
    }
  },
  "cells": [
    {
      "cell_type": "markdown",
      "metadata": {
        "id": "UHrt5EvcOQhm"
      },
      "source": [
        "#B2B INVOICE PAYMENT DATE PREDICTION MODEL\n",
        "**To predict the payment date of the particular invoice with the help of calculated delay**"
      ]
    },
    {
      "cell_type": "code",
      "metadata": {
        "id": "NkMeqKTqdmQW"
      },
      "source": [
        "import pandas as pd\n",
        "import numpy as py\n",
        "import seaborn as sns\n",
        "from sklearn.model_selection import train_test_split\n",
        "from sklearn.preprocessing import LabelEncoder\n",
        "from sklearn.model_selection import train_test_split\n",
        "import matplotlib.pyplot as plt\n",
        "import warnings\n",
        "warnings.filterwarnings(\"ignore\")"
      ],
      "execution_count": null,
      "outputs": []
    },
    {
      "cell_type": "code",
      "metadata": {
        "id": "oB4BnFSm0vQj"
      },
      "source": [
        ""
      ],
      "execution_count": null,
      "outputs": []
    },
    {
      "cell_type": "code",
      "metadata": {
        "colab": {
          "base_uri": "https://localhost:8080/",
          "height": 301
        },
        "id": "3yt4SHoue1qb",
        "outputId": "521fb811-5f39-440a-c788-4247a34366de"
      },
      "source": [
        "df=pd.read_csv('H2HBABBA2893.csv') #reading the dataset\n",
        "df.head()"
      ],
      "execution_count": null,
      "outputs": [
        {
          "output_type": "execute_result",
          "data": {
            "text/html": [
              "<div>\n",
              "<style scoped>\n",
              "    .dataframe tbody tr th:only-of-type {\n",
              "        vertical-align: middle;\n",
              "    }\n",
              "\n",
              "    .dataframe tbody tr th {\n",
              "        vertical-align: top;\n",
              "    }\n",
              "\n",
              "    .dataframe thead th {\n",
              "        text-align: right;\n",
              "    }\n",
              "</style>\n",
              "<table border=\"1\" class=\"dataframe\">\n",
              "  <thead>\n",
              "    <tr style=\"text-align: right;\">\n",
              "      <th></th>\n",
              "      <th>business_code</th>\n",
              "      <th>cust_number</th>\n",
              "      <th>name_customer</th>\n",
              "      <th>clear_date</th>\n",
              "      <th>buisness_year</th>\n",
              "      <th>doc_id</th>\n",
              "      <th>posting_date</th>\n",
              "      <th>document_create_date</th>\n",
              "      <th>document_create_date.1</th>\n",
              "      <th>due_in_date</th>\n",
              "      <th>invoice_currency</th>\n",
              "      <th>document type</th>\n",
              "      <th>posting_id</th>\n",
              "      <th>area_business</th>\n",
              "      <th>total_open_amount</th>\n",
              "      <th>baseline_create_date</th>\n",
              "      <th>cust_payment_terms</th>\n",
              "      <th>invoice_id</th>\n",
              "      <th>isOpen</th>\n",
              "    </tr>\n",
              "  </thead>\n",
              "  <tbody>\n",
              "    <tr>\n",
              "      <th>0</th>\n",
              "      <td>U001</td>\n",
              "      <td>0200762301</td>\n",
              "      <td>C&amp;S WH llc</td>\n",
              "      <td>NaN</td>\n",
              "      <td>2020.0</td>\n",
              "      <td>1.930629e+09</td>\n",
              "      <td>2020-03-11</td>\n",
              "      <td>20200310</td>\n",
              "      <td>20200311</td>\n",
              "      <td>20200326.0</td>\n",
              "      <td>USD</td>\n",
              "      <td>RV</td>\n",
              "      <td>1.0</td>\n",
              "      <td>NaN</td>\n",
              "      <td>7901.99</td>\n",
              "      <td>20200311.0</td>\n",
              "      <td>NAC6</td>\n",
              "      <td>1.930629e+09</td>\n",
              "      <td>1.0</td>\n",
              "    </tr>\n",
              "    <tr>\n",
              "      <th>1</th>\n",
              "      <td>U001</td>\n",
              "      <td>0200793568</td>\n",
              "      <td>SUPE corporation</td>\n",
              "      <td>2019-11-29 00:00:00</td>\n",
              "      <td>2019.0</td>\n",
              "      <td>1.930137e+09</td>\n",
              "      <td>2019-11-10</td>\n",
              "      <td>20191111</td>\n",
              "      <td>20191110</td>\n",
              "      <td>20191125.0</td>\n",
              "      <td>USD</td>\n",
              "      <td>RV</td>\n",
              "      <td>1.0</td>\n",
              "      <td>NaN</td>\n",
              "      <td>5397.90</td>\n",
              "      <td>20191110.0</td>\n",
              "      <td>NAA8</td>\n",
              "      <td>1.930137e+09</td>\n",
              "      <td>0.0</td>\n",
              "    </tr>\n",
              "    <tr>\n",
              "      <th>2</th>\n",
              "      <td>U001</td>\n",
              "      <td>CCU002</td>\n",
              "      <td>KRFT FDS associates</td>\n",
              "      <td>2019-03-29 00:00:00</td>\n",
              "      <td>2019.0</td>\n",
              "      <td>1.928819e+09</td>\n",
              "      <td>2019-02-21</td>\n",
              "      <td>20190219</td>\n",
              "      <td>20190221</td>\n",
              "      <td>20190328.0</td>\n",
              "      <td>USD</td>\n",
              "      <td>RV</td>\n",
              "      <td>1.0</td>\n",
              "      <td>NaN</td>\n",
              "      <td>35338.14</td>\n",
              "      <td>20190221.0</td>\n",
              "      <td>NAG2</td>\n",
              "      <td>1.928819e+09</td>\n",
              "      <td>0.0</td>\n",
              "    </tr>\n",
              "    <tr>\n",
              "      <th>3</th>\n",
              "      <td>U001</td>\n",
              "      <td>0200769623</td>\n",
              "      <td>WAL-MAR corporation</td>\n",
              "      <td>2020-03-03 00:00:00</td>\n",
              "      <td>2020.0</td>\n",
              "      <td>1.930549e+09</td>\n",
              "      <td>2020-02-21</td>\n",
              "      <td>20200220</td>\n",
              "      <td>20200221</td>\n",
              "      <td>20200307.0</td>\n",
              "      <td>USD</td>\n",
              "      <td>RV</td>\n",
              "      <td>1.0</td>\n",
              "      <td>NaN</td>\n",
              "      <td>20517.15</td>\n",
              "      <td>20200221.0</td>\n",
              "      <td>NAH4</td>\n",
              "      <td>1.930549e+09</td>\n",
              "      <td>0.0</td>\n",
              "    </tr>\n",
              "    <tr>\n",
              "      <th>4</th>\n",
              "      <td>U001</td>\n",
              "      <td>0200762301</td>\n",
              "      <td>C&amp;S WH foundation</td>\n",
              "      <td>2019-10-09 00:00:00</td>\n",
              "      <td>2019.0</td>\n",
              "      <td>1.929916e+09</td>\n",
              "      <td>2019-09-24</td>\n",
              "      <td>20190924</td>\n",
              "      <td>20190924</td>\n",
              "      <td>20191009.0</td>\n",
              "      <td>USD</td>\n",
              "      <td>RV</td>\n",
              "      <td>1.0</td>\n",
              "      <td>NaN</td>\n",
              "      <td>146475.93</td>\n",
              "      <td>20190924.0</td>\n",
              "      <td>NAC6</td>\n",
              "      <td>1.929916e+09</td>\n",
              "      <td>0.0</td>\n",
              "    </tr>\n",
              "  </tbody>\n",
              "</table>\n",
              "</div>"
            ],
            "text/plain": [
              "  business_code cust_number  ...    invoice_id isOpen\n",
              "0          U001  0200762301  ...  1.930629e+09    1.0\n",
              "1          U001  0200793568  ...  1.930137e+09    0.0\n",
              "2          U001      CCU002  ...  1.928819e+09    0.0\n",
              "3          U001  0200769623  ...  1.930549e+09    0.0\n",
              "4          U001  0200762301  ...  1.929916e+09    0.0\n",
              "\n",
              "[5 rows x 19 columns]"
            ]
          },
          "metadata": {
            "tags": []
          },
          "execution_count": 2
        }
      ]
    },
    {
      "cell_type": "markdown",
      "metadata": {
        "id": "bpfdB1WyPOW1"
      },
      "source": [
        "**DATA CLEANING**"
      ]
    },
    {
      "cell_type": "code",
      "metadata": {
        "colab": {
          "base_uri": "https://localhost:8080/"
        },
        "id": "GrbIj9TBf_MG",
        "outputId": "689c1259-4f01-4dd2-8c7d-5498974463fe"
      },
      "source": [
        "df.shape"
      ],
      "execution_count": null,
      "outputs": [
        {
          "output_type": "execute_result",
          "data": {
            "text/plain": [
              "(13455, 19)"
            ]
          },
          "metadata": {
            "tags": []
          },
          "execution_count": 3
        }
      ]
    },
    {
      "cell_type": "code",
      "metadata": {
        "colab": {
          "base_uri": "https://localhost:8080/",
          "height": 310
        },
        "id": "8R7igeP0gLjR",
        "outputId": "67ff3e65-f401-452a-eb80-d7c8fcc4206b"
      },
      "source": [
        "df.describe()"
      ],
      "execution_count": null,
      "outputs": [
        {
          "output_type": "execute_result",
          "data": {
            "text/html": [
              "<div>\n",
              "<style scoped>\n",
              "    .dataframe tbody tr th:only-of-type {\n",
              "        vertical-align: middle;\n",
              "    }\n",
              "\n",
              "    .dataframe tbody tr th {\n",
              "        vertical-align: top;\n",
              "    }\n",
              "\n",
              "    .dataframe thead th {\n",
              "        text-align: right;\n",
              "    }\n",
              "</style>\n",
              "<table border=\"1\" class=\"dataframe\">\n",
              "  <thead>\n",
              "    <tr style=\"text-align: right;\">\n",
              "      <th></th>\n",
              "      <th>buisness_year</th>\n",
              "      <th>doc_id</th>\n",
              "      <th>document_create_date</th>\n",
              "      <th>document_create_date.1</th>\n",
              "      <th>due_in_date</th>\n",
              "      <th>posting_id</th>\n",
              "      <th>area_business</th>\n",
              "      <th>total_open_amount</th>\n",
              "      <th>baseline_create_date</th>\n",
              "      <th>invoice_id</th>\n",
              "      <th>isOpen</th>\n",
              "    </tr>\n",
              "  </thead>\n",
              "  <tbody>\n",
              "    <tr>\n",
              "      <th>count</th>\n",
              "      <td>13455.000000</td>\n",
              "      <td>1.345500e+04</td>\n",
              "      <td>1.345500e+04</td>\n",
              "      <td>1.345500e+04</td>\n",
              "      <td>1.345500e+04</td>\n",
              "      <td>13455.0</td>\n",
              "      <td>0.0</td>\n",
              "      <td>13455.000000</td>\n",
              "      <td>1.345500e+04</td>\n",
              "      <td>1.345400e+04</td>\n",
              "      <td>13454.000000</td>\n",
              "    </tr>\n",
              "    <tr>\n",
              "      <th>mean</th>\n",
              "      <td>2019.304051</td>\n",
              "      <td>2.011089e+09</td>\n",
              "      <td>2.019348e+07</td>\n",
              "      <td>2.019351e+07</td>\n",
              "      <td>2.019366e+07</td>\n",
              "      <td>1.0</td>\n",
              "      <td>NaN</td>\n",
              "      <td>32467.801511</td>\n",
              "      <td>2.019202e+07</td>\n",
              "      <td>2.011095e+09</td>\n",
              "      <td>0.198454</td>\n",
              "    </tr>\n",
              "    <tr>\n",
              "      <th>std</th>\n",
              "      <td>0.460021</td>\n",
              "      <td>2.760731e+08</td>\n",
              "      <td>4.481616e+03</td>\n",
              "      <td>4.459193e+03</td>\n",
              "      <td>4.461948e+03</td>\n",
              "      <td>0.0</td>\n",
              "      <td>NaN</td>\n",
              "      <td>39970.447636</td>\n",
              "      <td>1.741439e+05</td>\n",
              "      <td>2.760824e+08</td>\n",
              "      <td>0.398851</td>\n",
              "    </tr>\n",
              "    <tr>\n",
              "      <th>min</th>\n",
              "      <td>2019.000000</td>\n",
              "      <td>1.928490e+09</td>\n",
              "      <td>2.018123e+07</td>\n",
              "      <td>2.018123e+07</td>\n",
              "      <td>2.019010e+07</td>\n",
              "      <td>1.0</td>\n",
              "      <td>NaN</td>\n",
              "      <td>1.410000</td>\n",
              "      <td>2.010000e+02</td>\n",
              "      <td>1.928490e+09</td>\n",
              "      <td>0.000000</td>\n",
              "    </tr>\n",
              "    <tr>\n",
              "      <th>25%</th>\n",
              "      <td>2019.000000</td>\n",
              "      <td>1.929331e+09</td>\n",
              "      <td>2.019050e+07</td>\n",
              "      <td>2.019050e+07</td>\n",
              "      <td>2.019052e+07</td>\n",
              "      <td>1.0</td>\n",
              "      <td>NaN</td>\n",
              "      <td>4785.380000</td>\n",
              "      <td>2.019050e+07</td>\n",
              "      <td>1.929331e+09</td>\n",
              "      <td>0.000000</td>\n",
              "    </tr>\n",
              "    <tr>\n",
              "      <th>50%</th>\n",
              "      <td>2019.000000</td>\n",
              "      <td>1.929953e+09</td>\n",
              "      <td>2.019091e+07</td>\n",
              "      <td>2.019091e+07</td>\n",
              "      <td>2.019092e+07</td>\n",
              "      <td>1.0</td>\n",
              "      <td>NaN</td>\n",
              "      <td>17495.030000</td>\n",
              "      <td>2.019091e+07</td>\n",
              "      <td>1.929953e+09</td>\n",
              "      <td>0.000000</td>\n",
              "    </tr>\n",
              "    <tr>\n",
              "      <th>75%</th>\n",
              "      <td>2020.000000</td>\n",
              "      <td>1.930620e+09</td>\n",
              "      <td>2.020013e+07</td>\n",
              "      <td>2.020013e+07</td>\n",
              "      <td>2.020022e+07</td>\n",
              "      <td>1.0</td>\n",
              "      <td>NaN</td>\n",
              "      <td>47342.115000</td>\n",
              "      <td>2.020013e+07</td>\n",
              "      <td>1.930620e+09</td>\n",
              "      <td>0.000000</td>\n",
              "    </tr>\n",
              "    <tr>\n",
              "      <th>max</th>\n",
              "      <td>2020.000000</td>\n",
              "      <td>2.960635e+09</td>\n",
              "      <td>2.020052e+07</td>\n",
              "      <td>2.020052e+07</td>\n",
              "      <td>2.020071e+07</td>\n",
              "      <td>1.0</td>\n",
              "      <td>NaN</td>\n",
              "      <td>792766.350000</td>\n",
              "      <td>2.020052e+07</td>\n",
              "      <td>2.960635e+09</td>\n",
              "      <td>1.000000</td>\n",
              "    </tr>\n",
              "  </tbody>\n",
              "</table>\n",
              "</div>"
            ],
            "text/plain": [
              "       buisness_year        doc_id  ...    invoice_id        isOpen\n",
              "count   13455.000000  1.345500e+04  ...  1.345400e+04  13454.000000\n",
              "mean     2019.304051  2.011089e+09  ...  2.011095e+09      0.198454\n",
              "std         0.460021  2.760731e+08  ...  2.760824e+08      0.398851\n",
              "min      2019.000000  1.928490e+09  ...  1.928490e+09      0.000000\n",
              "25%      2019.000000  1.929331e+09  ...  1.929331e+09      0.000000\n",
              "50%      2019.000000  1.929953e+09  ...  1.929953e+09      0.000000\n",
              "75%      2020.000000  1.930620e+09  ...  1.930620e+09      0.000000\n",
              "max      2020.000000  2.960635e+09  ...  2.960635e+09      1.000000\n",
              "\n",
              "[8 rows x 11 columns]"
            ]
          },
          "metadata": {
            "tags": []
          },
          "execution_count": 4
        }
      ]
    },
    {
      "cell_type": "code",
      "metadata": {
        "colab": {
          "base_uri": "https://localhost:8080/"
        },
        "id": "VRA9FkccgUxa",
        "outputId": "986ba607-4b99-4123-cc02-4a031b5d2909"
      },
      "source": [
        "df.columns"
      ],
      "execution_count": null,
      "outputs": [
        {
          "output_type": "execute_result",
          "data": {
            "text/plain": [
              "Index(['business_code', 'cust_number', 'name_customer', 'clear_date',\n",
              "       'buisness_year', 'doc_id', 'posting_date', 'document_create_date',\n",
              "       'document_create_date.1', 'due_in_date', 'invoice_currency',\n",
              "       'document type', 'posting_id', 'area_business', 'total_open_amount',\n",
              "       'baseline_create_date', 'cust_payment_terms', 'invoice_id', 'isOpen'],\n",
              "      dtype='object')"
            ]
          },
          "metadata": {
            "tags": []
          },
          "execution_count": 5
        }
      ]
    },
    {
      "cell_type": "code",
      "metadata": {
        "colab": {
          "base_uri": "https://localhost:8080/"
        },
        "id": "Z9BexhaQ9egI",
        "outputId": "45331e51-c73b-4588-e514-04b56f30bf4b"
      },
      "source": [
        "df.info()"
      ],
      "execution_count": null,
      "outputs": [
        {
          "output_type": "stream",
          "text": [
            "<class 'pandas.core.frame.DataFrame'>\n",
            "RangeIndex: 13455 entries, 0 to 13454\n",
            "Data columns (total 19 columns):\n",
            " #   Column                  Non-Null Count  Dtype  \n",
            "---  ------                  --------------  -----  \n",
            " 0   business_code           13455 non-null  object \n",
            " 1   cust_number             13455 non-null  object \n",
            " 2   name_customer           13455 non-null  object \n",
            " 3   clear_date              10785 non-null  object \n",
            " 4   buisness_year           13455 non-null  float64\n",
            " 5   doc_id                  13455 non-null  float64\n",
            " 6   posting_date            13455 non-null  object \n",
            " 7   document_create_date    13455 non-null  int64  \n",
            " 8   document_create_date.1  13455 non-null  int64  \n",
            " 9   due_in_date             13455 non-null  float64\n",
            " 10  invoice_currency        13455 non-null  object \n",
            " 11  document type           13455 non-null  object \n",
            " 12  posting_id              13455 non-null  float64\n",
            " 13  area_business           0 non-null      float64\n",
            " 14  total_open_amount       13455 non-null  float64\n",
            " 15  baseline_create_date    13455 non-null  float64\n",
            " 16  cust_payment_terms      13454 non-null  object \n",
            " 17  invoice_id              13454 non-null  float64\n",
            " 18  isOpen                  13454 non-null  float64\n",
            "dtypes: float64(9), int64(2), object(8)\n",
            "memory usage: 2.0+ MB\n"
          ],
          "name": "stdout"
        }
      ]
    },
    {
      "cell_type": "markdown",
      "metadata": {
        "id": "WlVa03Rgg8Yl"
      },
      "source": [
        "#**DATA PREPROCESSING ON THE MAIN DATASET**\n"
      ]
    },
    {
      "cell_type": "markdown",
      "metadata": {
        "id": "3hbZ6uEciWtm"
      },
      "source": [
        "**FINDING THE COUNT OF NULL VALUES of TOTAL DATASET**"
      ]
    },
    {
      "cell_type": "code",
      "metadata": {
        "colab": {
          "base_uri": "https://localhost:8080/"
        },
        "id": "SRXsLPFLh0bY",
        "outputId": "bff56d07-c816-4bcb-eece-fdd1e8365b61"
      },
      "source": [
        "nullv=df.isnull().sum().to_frame(name = 'NULL_COUNTS')\n",
        "nullv = nullv[nullv['NULL_COUNTS']>0]\n",
        "null_features = nullv.index\n",
        "print(nullv)"
      ],
      "execution_count": null,
      "outputs": [
        {
          "output_type": "stream",
          "text": [
            "                    NULL_COUNTS\n",
            "clear_date                 2670\n",
            "area_business             13455\n",
            "cust_payment_terms            1\n",
            "invoice_id                    1\n",
            "isOpen                        1\n"
          ],
          "name": "stdout"
        }
      ]
    },
    {
      "cell_type": "markdown",
      "metadata": {
        "id": "eIa7k8VXPWIZ"
      },
      "source": [
        "**NULL IMPUTATION**"
      ]
    },
    {
      "cell_type": "code",
      "metadata": {
        "colab": {
          "base_uri": "https://localhost:8080/",
          "height": 131
        },
        "id": "6hpTHGQ_0KFi",
        "outputId": "ffab7a25-66ed-45a3-a11d-e6793e1f1ef4"
      },
      "source": [
        "df[df.invoice_id.isnull()]#null imputation"
      ],
      "execution_count": null,
      "outputs": [
        {
          "output_type": "execute_result",
          "data": {
            "text/html": [
              "<div>\n",
              "<style scoped>\n",
              "    .dataframe tbody tr th:only-of-type {\n",
              "        vertical-align: middle;\n",
              "    }\n",
              "\n",
              "    .dataframe tbody tr th {\n",
              "        vertical-align: top;\n",
              "    }\n",
              "\n",
              "    .dataframe thead th {\n",
              "        text-align: right;\n",
              "    }\n",
              "</style>\n",
              "<table border=\"1\" class=\"dataframe\">\n",
              "  <thead>\n",
              "    <tr style=\"text-align: right;\">\n",
              "      <th></th>\n",
              "      <th>business_code</th>\n",
              "      <th>cust_number</th>\n",
              "      <th>name_customer</th>\n",
              "      <th>clear_date</th>\n",
              "      <th>buisness_year</th>\n",
              "      <th>doc_id</th>\n",
              "      <th>posting_date</th>\n",
              "      <th>document_create_date</th>\n",
              "      <th>document_create_date.1</th>\n",
              "      <th>due_in_date</th>\n",
              "      <th>invoice_currency</th>\n",
              "      <th>document type</th>\n",
              "      <th>posting_id</th>\n",
              "      <th>area_business</th>\n",
              "      <th>total_open_amount</th>\n",
              "      <th>baseline_create_date</th>\n",
              "      <th>cust_payment_terms</th>\n",
              "      <th>invoice_id</th>\n",
              "      <th>isOpen</th>\n",
              "    </tr>\n",
              "  </thead>\n",
              "  <tbody>\n",
              "    <tr>\n",
              "      <th>13454</th>\n",
              "      <td>U001</td>\n",
              "      <td>0200729942</td>\n",
              "      <td>SA</td>\n",
              "      <td>2019-07-30 00:00:00</td>\n",
              "      <td>2019.0</td>\n",
              "      <td>1.929625e+09</td>\n",
              "      <td>2019-07-16</td>\n",
              "      <td>20190716</td>\n",
              "      <td>20190716</td>\n",
              "      <td>20190731.0</td>\n",
              "      <td>USD</td>\n",
              "      <td>RV</td>\n",
              "      <td>1.0</td>\n",
              "      <td>NaN</td>\n",
              "      <td>1555.42</td>\n",
              "      <td>201.0</td>\n",
              "      <td>NaN</td>\n",
              "      <td>NaN</td>\n",
              "      <td>NaN</td>\n",
              "    </tr>\n",
              "  </tbody>\n",
              "</table>\n",
              "</div>"
            ],
            "text/plain": [
              "      business_code cust_number  ... invoice_id isOpen\n",
              "13454          U001  0200729942  ...        NaN    NaN\n",
              "\n",
              "[1 rows x 19 columns]"
            ]
          },
          "metadata": {
            "tags": []
          },
          "execution_count": 8
        }
      ]
    },
    {
      "cell_type": "code",
      "metadata": {
        "id": "rjvMnLuG0x0D"
      },
      "source": [
        "df=df[df.invoice_id.isnull()==False]#dropping the record containing NULL value"
      ],
      "execution_count": null,
      "outputs": []
    },
    {
      "cell_type": "markdown",
      "metadata": {
        "id": "IwdCHEyWih2g"
      },
      "source": [
        "**DROPPING THE AREA_BUSINESS COLUMN & BASELINE_CREATE_DATE**"
      ]
    },
    {
      "cell_type": "code",
      "metadata": {
        "colab": {
          "base_uri": "https://localhost:8080/",
          "height": 301
        },
        "id": "9tn77A0Khoqo",
        "outputId": "23a842ab-5d1c-4bcb-eb80-b9740156676e"
      },
      "source": [
        "df.drop('area_business',axis=1,inplace = True)\n",
        "df.drop('baseline_create_date',axis=1,inplace = True)\n",
        "\n",
        "\n",
        "df.head()"
      ],
      "execution_count": null,
      "outputs": [
        {
          "output_type": "execute_result",
          "data": {
            "text/html": [
              "<div>\n",
              "<style scoped>\n",
              "    .dataframe tbody tr th:only-of-type {\n",
              "        vertical-align: middle;\n",
              "    }\n",
              "\n",
              "    .dataframe tbody tr th {\n",
              "        vertical-align: top;\n",
              "    }\n",
              "\n",
              "    .dataframe thead th {\n",
              "        text-align: right;\n",
              "    }\n",
              "</style>\n",
              "<table border=\"1\" class=\"dataframe\">\n",
              "  <thead>\n",
              "    <tr style=\"text-align: right;\">\n",
              "      <th></th>\n",
              "      <th>business_code</th>\n",
              "      <th>cust_number</th>\n",
              "      <th>name_customer</th>\n",
              "      <th>clear_date</th>\n",
              "      <th>buisness_year</th>\n",
              "      <th>doc_id</th>\n",
              "      <th>posting_date</th>\n",
              "      <th>document_create_date</th>\n",
              "      <th>document_create_date.1</th>\n",
              "      <th>due_in_date</th>\n",
              "      <th>invoice_currency</th>\n",
              "      <th>document type</th>\n",
              "      <th>posting_id</th>\n",
              "      <th>total_open_amount</th>\n",
              "      <th>cust_payment_terms</th>\n",
              "      <th>invoice_id</th>\n",
              "      <th>isOpen</th>\n",
              "    </tr>\n",
              "  </thead>\n",
              "  <tbody>\n",
              "    <tr>\n",
              "      <th>0</th>\n",
              "      <td>U001</td>\n",
              "      <td>0200762301</td>\n",
              "      <td>C&amp;S WH llc</td>\n",
              "      <td>NaN</td>\n",
              "      <td>2020.0</td>\n",
              "      <td>1.930629e+09</td>\n",
              "      <td>2020-03-11</td>\n",
              "      <td>20200310</td>\n",
              "      <td>20200311</td>\n",
              "      <td>20200326.0</td>\n",
              "      <td>USD</td>\n",
              "      <td>RV</td>\n",
              "      <td>1.0</td>\n",
              "      <td>7901.99</td>\n",
              "      <td>NAC6</td>\n",
              "      <td>1.930629e+09</td>\n",
              "      <td>1.0</td>\n",
              "    </tr>\n",
              "    <tr>\n",
              "      <th>1</th>\n",
              "      <td>U001</td>\n",
              "      <td>0200793568</td>\n",
              "      <td>SUPE corporation</td>\n",
              "      <td>2019-11-29 00:00:00</td>\n",
              "      <td>2019.0</td>\n",
              "      <td>1.930137e+09</td>\n",
              "      <td>2019-11-10</td>\n",
              "      <td>20191111</td>\n",
              "      <td>20191110</td>\n",
              "      <td>20191125.0</td>\n",
              "      <td>USD</td>\n",
              "      <td>RV</td>\n",
              "      <td>1.0</td>\n",
              "      <td>5397.90</td>\n",
              "      <td>NAA8</td>\n",
              "      <td>1.930137e+09</td>\n",
              "      <td>0.0</td>\n",
              "    </tr>\n",
              "    <tr>\n",
              "      <th>2</th>\n",
              "      <td>U001</td>\n",
              "      <td>CCU002</td>\n",
              "      <td>KRFT FDS associates</td>\n",
              "      <td>2019-03-29 00:00:00</td>\n",
              "      <td>2019.0</td>\n",
              "      <td>1.928819e+09</td>\n",
              "      <td>2019-02-21</td>\n",
              "      <td>20190219</td>\n",
              "      <td>20190221</td>\n",
              "      <td>20190328.0</td>\n",
              "      <td>USD</td>\n",
              "      <td>RV</td>\n",
              "      <td>1.0</td>\n",
              "      <td>35338.14</td>\n",
              "      <td>NAG2</td>\n",
              "      <td>1.928819e+09</td>\n",
              "      <td>0.0</td>\n",
              "    </tr>\n",
              "    <tr>\n",
              "      <th>3</th>\n",
              "      <td>U001</td>\n",
              "      <td>0200769623</td>\n",
              "      <td>WAL-MAR corporation</td>\n",
              "      <td>2020-03-03 00:00:00</td>\n",
              "      <td>2020.0</td>\n",
              "      <td>1.930549e+09</td>\n",
              "      <td>2020-02-21</td>\n",
              "      <td>20200220</td>\n",
              "      <td>20200221</td>\n",
              "      <td>20200307.0</td>\n",
              "      <td>USD</td>\n",
              "      <td>RV</td>\n",
              "      <td>1.0</td>\n",
              "      <td>20517.15</td>\n",
              "      <td>NAH4</td>\n",
              "      <td>1.930549e+09</td>\n",
              "      <td>0.0</td>\n",
              "    </tr>\n",
              "    <tr>\n",
              "      <th>4</th>\n",
              "      <td>U001</td>\n",
              "      <td>0200762301</td>\n",
              "      <td>C&amp;S WH foundation</td>\n",
              "      <td>2019-10-09 00:00:00</td>\n",
              "      <td>2019.0</td>\n",
              "      <td>1.929916e+09</td>\n",
              "      <td>2019-09-24</td>\n",
              "      <td>20190924</td>\n",
              "      <td>20190924</td>\n",
              "      <td>20191009.0</td>\n",
              "      <td>USD</td>\n",
              "      <td>RV</td>\n",
              "      <td>1.0</td>\n",
              "      <td>146475.93</td>\n",
              "      <td>NAC6</td>\n",
              "      <td>1.929916e+09</td>\n",
              "      <td>0.0</td>\n",
              "    </tr>\n",
              "  </tbody>\n",
              "</table>\n",
              "</div>"
            ],
            "text/plain": [
              "  business_code cust_number  ...    invoice_id isOpen\n",
              "0          U001  0200762301  ...  1.930629e+09    1.0\n",
              "1          U001  0200793568  ...  1.930137e+09    0.0\n",
              "2          U001      CCU002  ...  1.928819e+09    0.0\n",
              "3          U001  0200769623  ...  1.930549e+09    0.0\n",
              "4          U001  0200762301  ...  1.929916e+09    0.0\n",
              "\n",
              "[5 rows x 17 columns]"
            ]
          },
          "metadata": {
            "tags": []
          },
          "execution_count": 10
        }
      ]
    },
    {
      "cell_type": "markdown",
      "metadata": {
        "id": "PjsWOkosmwXs"
      },
      "source": [
        "#DIVIDING DATASET INTO TRAINED AND TEST DATA BASED ON NULL VALUES OF CLEAR_DATE"
      ]
    },
    {
      "cell_type": "code",
      "metadata": {
        "colab": {
          "base_uri": "https://localhost:8080/"
        },
        "id": "saqOLoDFm-YY",
        "outputId": "3969f34a-b771-4d3f-d2ca-e69f6c43058d"
      },
      "source": [
        "test_dataset = df[df['clear_date'].isnull()]#test_dataset have the rows that have clear_date=NULL & df have the rows that have clear_date!=NULL\n",
        "df=df.dropna()\n",
        "test_dataset.shape\n",
        "df.shape"
      ],
      "execution_count": null,
      "outputs": [
        {
          "output_type": "execute_result",
          "data": {
            "text/plain": [
              "(10784, 17)"
            ]
          },
          "metadata": {
            "tags": []
          },
          "execution_count": 11
        }
      ]
    },
    {
      "cell_type": "markdown",
      "metadata": {
        "id": "99gWeO-IPo2y"
      },
      "source": [
        "CHECKING FOR THE NUMBER OF NULL VALUES IN BOTH DATASET"
      ]
    },
    {
      "cell_type": "code",
      "metadata": {
        "colab": {
          "base_uri": "https://localhost:8080/"
        },
        "id": "1QILf-28z9qE",
        "outputId": "9929403f-6b0c-4ceb-9acb-3736f91ff115"
      },
      "source": [
        "test_dataset.isna().sum() #checked for null values in test_datset"
      ],
      "execution_count": null,
      "outputs": [
        {
          "output_type": "execute_result",
          "data": {
            "text/plain": [
              "business_code                0\n",
              "cust_number                  0\n",
              "name_customer                0\n",
              "clear_date                2670\n",
              "buisness_year                0\n",
              "doc_id                       0\n",
              "posting_date                 0\n",
              "document_create_date         0\n",
              "document_create_date.1       0\n",
              "due_in_date                  0\n",
              "invoice_currency             0\n",
              "document type                0\n",
              "posting_id                   0\n",
              "total_open_amount            0\n",
              "cust_payment_terms           0\n",
              "invoice_id                   0\n",
              "isOpen                       0\n",
              "dtype: int64"
            ]
          },
          "metadata": {
            "tags": []
          },
          "execution_count": 12
        }
      ]
    },
    {
      "cell_type": "code",
      "metadata": {
        "colab": {
          "base_uri": "https://localhost:8080/"
        },
        "id": "yOZYfSzinGUF",
        "outputId": "9ee2293b-6b03-4027-ee7c-7d8e47d34fad"
      },
      "source": [
        "df.isna().sum() #checked for null values in df"
      ],
      "execution_count": null,
      "outputs": [
        {
          "output_type": "execute_result",
          "data": {
            "text/plain": [
              "business_code             0\n",
              "cust_number               0\n",
              "name_customer             0\n",
              "clear_date                0\n",
              "buisness_year             0\n",
              "doc_id                    0\n",
              "posting_date              0\n",
              "document_create_date      0\n",
              "document_create_date.1    0\n",
              "due_in_date               0\n",
              "invoice_currency          0\n",
              "document type             0\n",
              "posting_id                0\n",
              "total_open_amount         0\n",
              "cust_payment_terms        0\n",
              "invoice_id                0\n",
              "isOpen                    0\n",
              "dtype: int64"
            ]
          },
          "metadata": {
            "tags": []
          },
          "execution_count": 13
        }
      ]
    },
    {
      "cell_type": "markdown",
      "metadata": {
        "id": "nxoA7tio-42T"
      },
      "source": [
        "#SORTING USING POSTING_DATE"
      ]
    },
    {
      "cell_type": "code",
      "metadata": {
        "colab": {
          "base_uri": "https://localhost:8080/",
          "height": 317
        },
        "id": "L0X_aLvKA6SB",
        "outputId": "c37239c6-f01a-46f2-e95b-3d58f03bb971"
      },
      "source": [
        "df.sort_values(by=['posting_date'], inplace=True)#ascending\n",
        "df.head()"
      ],
      "execution_count": null,
      "outputs": [
        {
          "output_type": "execute_result",
          "data": {
            "text/html": [
              "<div>\n",
              "<style scoped>\n",
              "    .dataframe tbody tr th:only-of-type {\n",
              "        vertical-align: middle;\n",
              "    }\n",
              "\n",
              "    .dataframe tbody tr th {\n",
              "        vertical-align: top;\n",
              "    }\n",
              "\n",
              "    .dataframe thead th {\n",
              "        text-align: right;\n",
              "    }\n",
              "</style>\n",
              "<table border=\"1\" class=\"dataframe\">\n",
              "  <thead>\n",
              "    <tr style=\"text-align: right;\">\n",
              "      <th></th>\n",
              "      <th>business_code</th>\n",
              "      <th>cust_number</th>\n",
              "      <th>name_customer</th>\n",
              "      <th>clear_date</th>\n",
              "      <th>buisness_year</th>\n",
              "      <th>doc_id</th>\n",
              "      <th>posting_date</th>\n",
              "      <th>document_create_date</th>\n",
              "      <th>document_create_date.1</th>\n",
              "      <th>due_in_date</th>\n",
              "      <th>invoice_currency</th>\n",
              "      <th>document type</th>\n",
              "      <th>posting_id</th>\n",
              "      <th>total_open_amount</th>\n",
              "      <th>cust_payment_terms</th>\n",
              "      <th>invoice_id</th>\n",
              "      <th>isOpen</th>\n",
              "    </tr>\n",
              "  </thead>\n",
              "  <tbody>\n",
              "    <tr>\n",
              "      <th>6489</th>\n",
              "      <td>U001</td>\n",
              "      <td>0200769623</td>\n",
              "      <td>WAL-MAR co</td>\n",
              "      <td>2019-01-10 00:00:00</td>\n",
              "      <td>2019.0</td>\n",
              "      <td>1.928543e+09</td>\n",
              "      <td>2018-12-30</td>\n",
              "      <td>20181230</td>\n",
              "      <td>20181230</td>\n",
              "      <td>20190114.0</td>\n",
              "      <td>USD</td>\n",
              "      <td>RV</td>\n",
              "      <td>1.0</td>\n",
              "      <td>52196.68</td>\n",
              "      <td>NAH4</td>\n",
              "      <td>1.928543e+09</td>\n",
              "      <td>0.0</td>\n",
              "    </tr>\n",
              "    <tr>\n",
              "      <th>1012</th>\n",
              "      <td>U001</td>\n",
              "      <td>0200769623</td>\n",
              "      <td>WAL-MAR us</td>\n",
              "      <td>2019-01-09 00:00:00</td>\n",
              "      <td>2019.0</td>\n",
              "      <td>1.928544e+09</td>\n",
              "      <td>2018-12-30</td>\n",
              "      <td>20181230</td>\n",
              "      <td>20181230</td>\n",
              "      <td>20190114.0</td>\n",
              "      <td>USD</td>\n",
              "      <td>RV</td>\n",
              "      <td>1.0</td>\n",
              "      <td>23589.38</td>\n",
              "      <td>NAH4</td>\n",
              "      <td>1.928544e+09</td>\n",
              "      <td>0.0</td>\n",
              "    </tr>\n",
              "    <tr>\n",
              "      <th>13305</th>\n",
              "      <td>U001</td>\n",
              "      <td>0200769623</td>\n",
              "      <td>WAL-MAR in</td>\n",
              "      <td>2019-01-09 00:00:00</td>\n",
              "      <td>2019.0</td>\n",
              "      <td>1.928538e+09</td>\n",
              "      <td>2018-12-30</td>\n",
              "      <td>20181229</td>\n",
              "      <td>20181230</td>\n",
              "      <td>20190114.0</td>\n",
              "      <td>USD</td>\n",
              "      <td>RV</td>\n",
              "      <td>1.0</td>\n",
              "      <td>16263.71</td>\n",
              "      <td>NAH4</td>\n",
              "      <td>1.928538e+09</td>\n",
              "      <td>0.0</td>\n",
              "    </tr>\n",
              "    <tr>\n",
              "      <th>6207</th>\n",
              "      <td>U001</td>\n",
              "      <td>0200759878</td>\n",
              "      <td>SA us</td>\n",
              "      <td>2019-01-15 00:00:00</td>\n",
              "      <td>2019.0</td>\n",
              "      <td>1.928541e+09</td>\n",
              "      <td>2018-12-30</td>\n",
              "      <td>20181229</td>\n",
              "      <td>20181230</td>\n",
              "      <td>20190114.0</td>\n",
              "      <td>USD</td>\n",
              "      <td>RV</td>\n",
              "      <td>1.0</td>\n",
              "      <td>16035.11</td>\n",
              "      <td>NAH4</td>\n",
              "      <td>1.928541e+09</td>\n",
              "      <td>0.0</td>\n",
              "    </tr>\n",
              "    <tr>\n",
              "      <th>2349</th>\n",
              "      <td>U001</td>\n",
              "      <td>0200769623</td>\n",
              "      <td>WAL-MAR us</td>\n",
              "      <td>2019-01-09 00:00:00</td>\n",
              "      <td>2019.0</td>\n",
              "      <td>1.928541e+09</td>\n",
              "      <td>2018-12-30</td>\n",
              "      <td>20181229</td>\n",
              "      <td>20181230</td>\n",
              "      <td>20190114.0</td>\n",
              "      <td>USD</td>\n",
              "      <td>RV</td>\n",
              "      <td>1.0</td>\n",
              "      <td>1433.67</td>\n",
              "      <td>NAH4</td>\n",
              "      <td>1.928541e+09</td>\n",
              "      <td>0.0</td>\n",
              "    </tr>\n",
              "  </tbody>\n",
              "</table>\n",
              "</div>"
            ],
            "text/plain": [
              "      business_code cust_number  ...    invoice_id isOpen\n",
              "6489           U001  0200769623  ...  1.928543e+09    0.0\n",
              "1012           U001  0200769623  ...  1.928544e+09    0.0\n",
              "13305          U001  0200769623  ...  1.928538e+09    0.0\n",
              "6207           U001  0200759878  ...  1.928541e+09    0.0\n",
              "2349           U001  0200769623  ...  1.928541e+09    0.0\n",
              "\n",
              "[5 rows x 17 columns]"
            ]
          },
          "metadata": {
            "tags": []
          },
          "execution_count": 14
        }
      ]
    },
    {
      "cell_type": "markdown",
      "metadata": {
        "id": "adKJ9OZ3BF7D"
      },
      "source": [
        "**DATE-TIME CONVERSION**"
      ]
    },
    {
      "cell_type": "code",
      "metadata": {
        "id": "2v1wVskLBM5z"
      },
      "source": [
        "df['document_create_date'] = pd.to_datetime(df['document_create_date'], format='%Y%m%d')\n",
        "#df['baseline_create_date'] = pd.to_datetime(df['baseline_create_date'], format='%Y%m%d')\n",
        "df['due_in_date'] = pd.to_datetime(df['due_in_date'], format='%Y%m%d')\n",
        "df['document_create_date.1'] = pd.to_datetime(df['document_create_date.1'], format='%Y%m%d')\n",
        "df['clear_date']=pd.to_datetime(df['clear_date'],)\n",
        "df['posting_date']=pd.to_datetime(df['posting_date'])\n",
        "\n",
        "\n",
        "\n",
        " \n"
      ],
      "execution_count": null,
      "outputs": []
    },
    {
      "cell_type": "markdown",
      "metadata": {
        "id": "4bABlBcZAuQy"
      },
      "source": [
        "#CONSTANT/DUPLICATE REMOVAL"
      ]
    },
    {
      "cell_type": "markdown",
      "metadata": {
        "id": "C_0OBSWez_Q9"
      },
      "source": [
        "**FINDING UNIQUE VALUES IN ROWS**"
      ]
    },
    {
      "cell_type": "code",
      "metadata": {
        "colab": {
          "base_uri": "https://localhost:8080/"
        },
        "id": "4iim3lmm1N_R",
        "outputId": "528f2881-e3e4-402e-bbad-4c18feda0f53"
      },
      "source": [
        "df.nunique()"
      ],
      "execution_count": null,
      "outputs": [
        {
          "output_type": "execute_result",
          "data": {
            "text/plain": [
              "business_code                 5\n",
              "cust_number                 828\n",
              "name_customer              2130\n",
              "clear_date                  355\n",
              "buisness_year                 2\n",
              "doc_id                    10718\n",
              "posting_date                420\n",
              "document_create_date        425\n",
              "document_create_date.1      420\n",
              "due_in_date                 470\n",
              "invoice_currency              2\n",
              "document type                 1\n",
              "posting_id                    1\n",
              "total_open_amount         10196\n",
              "cust_payment_terms           58\n",
              "invoice_id                10718\n",
              "isOpen                        1\n",
              "dtype: int64"
            ]
          },
          "metadata": {
            "tags": []
          },
          "execution_count": 16
        }
      ]
    },
    {
      "cell_type": "code",
      "metadata": {
        "colab": {
          "base_uri": "https://localhost:8080/"
        },
        "id": "K-PnVqiS1pzA",
        "outputId": "4a545b42-51a5-467b-b86d-489fa5ca8743"
      },
      "source": [
        "#uniqueness in categorical columns\n",
        "for col in df.columns: \n",
        "    if df[col].nunique()<= 6:\n",
        "        print(df[col].value_counts())\n",
        "        print('#########################')"
      ],
      "execution_count": null,
      "outputs": [
        {
          "output_type": "stream",
          "text": [
            "U001    9743\n",
            "CA02     857\n",
            "U013     140\n",
            "U002      41\n",
            "U005       3\n",
            "Name: business_code, dtype: int64\n",
            "#########################\n",
            "2019.0    9363\n",
            "2020.0    1421\n",
            "Name: buisness_year, dtype: int64\n",
            "#########################\n",
            "USD    9926\n",
            "CAD     858\n",
            "Name: invoice_currency, dtype: int64\n",
            "#########################\n",
            "RV    10784\n",
            "Name: document type, dtype: int64\n",
            "#########################\n",
            "1.0    10784\n",
            "Name: posting_id, dtype: int64\n",
            "#########################\n",
            "0.0    10784\n",
            "Name: isOpen, dtype: int64\n",
            "#########################\n"
          ],
          "name": "stdout"
        }
      ]
    },
    {
      "cell_type": "markdown",
      "metadata": {
        "id": "PaFRKo94QRGH"
      },
      "source": [
        "**FILTERING_OUT CONSTANT FEATURES**"
      ]
    },
    {
      "cell_type": "code",
      "metadata": {
        "colab": {
          "base_uri": "https://localhost:8080/"
        },
        "id": "a-FtANQD0RDu",
        "outputId": "547646a0-85fd-4a76-c2b8-5af55c8d080f"
      },
      "source": [
        "const_feature = []\n",
        "uniq_val_count = []\n",
        "unique_cols = dict()\n",
        "for col in list(df.columns):\n",
        "    uniq_val_count.append(df[col].nunique())\n",
        "    if(df[col].nunique()==1):\n",
        "        const_feature.append(col)\n",
        "    \n",
        "print('\\n\\n\\nConstant Features are   :',const_feature)\n",
        "print('\\n\\nALL FEATURES WITH UNIQUE VALUES : \\n')\n",
        "pd.DataFrame({'COLUMN NAMES':list(df.columns) ,'UNIQUE VALUES COUNT':uniq_val_count})\n",
        "\n",
        "# Removing the constant feature\n",
        "df=df.drop(columns=const_feature)"
      ],
      "execution_count": null,
      "outputs": [
        {
          "output_type": "stream",
          "text": [
            "\n",
            "\n",
            "\n",
            "Constant Features are   : ['document type', 'posting_id', 'isOpen']\n",
            "\n",
            "\n",
            "ALL FEATURES WITH UNIQUE VALUES : \n",
            "\n"
          ],
          "name": "stdout"
        }
      ]
    },
    {
      "cell_type": "markdown",
      "metadata": {
        "id": "j2T0_oYz6d2C"
      },
      "source": [
        "**CREATING TARGET COLUMN-DELAY**"
      ]
    },
    {
      "cell_type": "code",
      "metadata": {
        "colab": {
          "base_uri": "https://localhost:8080/"
        },
        "id": "Hm6UqSSM5USh",
        "outputId": "2536c11b-6b55-4299-c3c1-0d7aa2db140a"
      },
      "source": [
        "\n",
        "df['delay'] = df.loc[:, 'clear_date'] - df.loc[:, 'due_in_date']\n",
        "df['delay']=df['delay'].dt.days\n",
        "df.shape"
      ],
      "execution_count": null,
      "outputs": [
        {
          "output_type": "execute_result",
          "data": {
            "text/plain": [
              "(10784, 15)"
            ]
          },
          "metadata": {
            "tags": []
          },
          "execution_count": 19
        }
      ]
    },
    {
      "cell_type": "code",
      "metadata": {
        "colab": {
          "base_uri": "https://localhost:8080/"
        },
        "id": "ecsch1qW4yhk",
        "outputId": "cb2ae2a1-d2af-49a9-b884-5e1a7198596b"
      },
      "source": [
        "\n",
        "df.info()"
      ],
      "execution_count": null,
      "outputs": [
        {
          "output_type": "stream",
          "text": [
            "<class 'pandas.core.frame.DataFrame'>\n",
            "Int64Index: 10784 entries, 6489 to 13173\n",
            "Data columns (total 15 columns):\n",
            " #   Column                  Non-Null Count  Dtype         \n",
            "---  ------                  --------------  -----         \n",
            " 0   business_code           10784 non-null  object        \n",
            " 1   cust_number             10784 non-null  object        \n",
            " 2   name_customer           10784 non-null  object        \n",
            " 3   clear_date              10784 non-null  datetime64[ns]\n",
            " 4   buisness_year           10784 non-null  float64       \n",
            " 5   doc_id                  10784 non-null  float64       \n",
            " 6   posting_date            10784 non-null  datetime64[ns]\n",
            " 7   document_create_date    10784 non-null  datetime64[ns]\n",
            " 8   document_create_date.1  10784 non-null  datetime64[ns]\n",
            " 9   due_in_date             10784 non-null  datetime64[ns]\n",
            " 10  invoice_currency        10784 non-null  object        \n",
            " 11  total_open_amount       10784 non-null  float64       \n",
            " 12  cust_payment_terms      10784 non-null  object        \n",
            " 13  invoice_id              10784 non-null  float64       \n",
            " 14  delay                   10784 non-null  int64         \n",
            "dtypes: datetime64[ns](5), float64(4), int64(1), object(5)\n",
            "memory usage: 1.3+ MB\n"
          ],
          "name": "stdout"
        }
      ]
    },
    {
      "cell_type": "markdown",
      "metadata": {
        "id": "J6VbNiRw3TvZ"
      },
      "source": [
        "#LEVEL ENCODING FOR CATEOGRICAL VALUES 'buisness_year','cust_number','name_customer','business_code','cust_payment_terms','invoice_currency'"
      ]
    },
    {
      "cell_type": "code",
      "metadata": {
        "id": "K4u6iKNpozia"
      },
      "source": [
        "class LabelEncoderExt(object):# a class is coded that consisting of fit,transform functions fro encoding\n",
        "    def __init__(self):\n",
        "        self.label_encoder = LabelEncoder()\n",
        "\n",
        "    def fit(self, data_list):\n",
        "        self.label_encoder = self.label_encoder.fit(list(data_list) + ['Unknown'])\n",
        "        self.classes_ = self.label_encoder.classes_\n",
        "        return self\n",
        "\n",
        "    def transform(self, data_list):\n",
        "        new_data_list = list(data_list)\n",
        "        for unique_item in py.unique(data_list):\n",
        "            if unique_item not in self.label_encoder.classes_:\n",
        "                new_data_list = ['Unknown' if x==unique_item else x for x in new_data_list]\n",
        "        return self.label_encoder.transform(new_data_list)"
      ],
      "execution_count": null,
      "outputs": []
    },
    {
      "cell_type": "code",
      "metadata": {
        "id": "VYGHzoR6o6t7"
      },
      "source": [
        "list_cust_details = ['buisness_year','cust_number','name_customer','business_code','cust_payment_terms','invoice_currency']#calling the list that consisting of all the object values to convert to int\n",
        "\n",
        "label_enc_list = dict()\n",
        "for col in range(len(list_cust_details)):\n",
        "    label_encoder = LabelEncoderExt()\n",
        "    label_encoder.fit(df[list_cust_details[col]])\n",
        "    df[list_cust_details[col]] = label_encoder.transform(df[list_cust_details[col]])\n",
        "    label_enc_list[list_cust_details[col]]=label_encoder"
      ],
      "execution_count": null,
      "outputs": []
    },
    {
      "cell_type": "code",
      "metadata": {
        "id": "PQlifTKwpXah"
      },
      "source": [
        "for col in range(len(list_cust_details)): # using the same for test_dataset\n",
        "    test_dataset[list_cust_details[col]] = label_enc_list[list_cust_details[col]].transform(test_dataset[list_cust_details[col]])"
      ],
      "execution_count": null,
      "outputs": []
    },
    {
      "cell_type": "code",
      "metadata": {
        "colab": {
          "base_uri": "https://localhost:8080/"
        },
        "id": "EUKd_R3GpfUi",
        "outputId": "31864fc7-3158-4c74-f8a7-b9f82f5ffd8a"
      },
      "source": [
        "for col in list_cust_details:                                     #printing the unique values with encoded values\n",
        "    print(col,\"   :     \\n\",df[col].unique(),\"   \\n     \\n\")"
      ],
      "execution_count": null,
      "outputs": [
        {
          "output_type": "stream",
          "text": [
            "buisness_year    :     \n",
            " [2]    \n",
            "     \n",
            "\n",
            "cust_number    :     \n",
            " [520 502 451 480 341 484 316 417 214 320 178 596 827 421 464 334 418 624\n",
            " 526 236 272 278 590 507 582 308 229 498 621 505  14 182 196 559 610 331\n",
            " 467 633 564 493 468 819 415 349 824 246 536 195 323 416 524  71 193 194\n",
            " 424 628 333 174 213 525 312 309 573 458 579 544 825 211 340 430 327 457\n",
            " 491 405 504 589 156 414 594 351 519 376 580 281 382 483 807  89 543 220\n",
            " 620 293 445   5 642 575  83  86 542 476 428 438 541 518 471  56 280 419\n",
            " 386 413 583 168 587 186  70 452 255 586 104 191 549 225 366  88 618 134\n",
            " 254 513  48 704 527 612 749 752 273 461 475 321 574 826 722 304 801 757\n",
            " 210 447 439 534 576 614 427 547 554 345 313   3 275 786  50  12  58 821\n",
            " 243 290 407  40 175  17 488 354 584 616 560 112 205 395 726 360  79 763\n",
            " 479 364 444 745 551 157 758 688 314 325 450 455 777 606  42 353 532 634\n",
            " 404 762 258 401 125 622 511 683 368 362 570 477 338 499 346 671 719 566\n",
            " 808 432 721 296 755 663 261 200 809 781 263 795 301  19 111 393 446   6\n",
            " 714 235 748  53 665 487 350 245 161 420 431 426 441 601 206 625 474 282\n",
            " 490 249 344 128 122 436 538 556 264 180 788 739 641 789 756  59 731 460\n",
            " 782 322 120 701 537 510 400 720  63 164  92 434  21  37 443 183  36 463\n",
            " 503 385 126  25  43 113 408  62 423 626 640  91 135 708 100 766 820 160\n",
            " 531 465 787 292 462   2 654 390 110 485 759 592 337 639 145 709 339  67\n",
            " 429 363 712 645  18 707 744 347  69  90 561 736 742 723 695 212 482 500\n",
            "  78 670 730  87 247 774 767 713 501 637 242 734 336 253 630 456 357 367\n",
            " 361 664 159 169  27 533 572 597 681 629 593 508 453 813 523 372 459 409\n",
            " 310 653  10 130 814 388 147 199 693  73 374 818 657 398 342 674 644  80\n",
            " 685 187  94 189 335 494 188 548 792 291 328  31 648  51 769 797 771 794\n",
            " 689 793 724 790 528 222 727 735  46 673 492 658 740 705 581 806 761  97\n",
            "  65 817 176 667 676  34 163 141 691 770 497 772 694 651 470 588 286 798\n",
            " 684 577 396 649 392  66 696 535 179 710 591 197 677 746 209   0 666 449\n",
            " 711 643 352 303 686 716 733 472 715 158 702 389 703 812 725 750 680 121\n",
            " 555 119 262 529  44 512   7 682 442 605 747 655  41 545 356 768 810 425\n",
            " 687 411 486 402 571 775 265 765 173 647 137 240 241  93  68 221 760 332\n",
            " 435  20  28 326 617 373 231 192 509 330 348 679 257 697 184  98 234 816\n",
            " 162 170 223  55 675 230 167 672  77 823 150  32 700 198 522 133 268 732\n",
            " 557 329 166 546 698 228 378 778 615  74 690 743 116 802 165  54 669 202\n",
            " 319 539 776 754 171 646 604 785 804 780 585  64 783 753 738 279 218 784\n",
            " 284 636 288  38 478 659 114 298 638 377 454 260 287 517 305 127 578 371\n",
            " 106 355 224 267  75 764 668 656 238 283 791 317 805 611 143 603 662 796\n",
            " 117 172 660 741 514 822  16 607  84 237 803 779 294 800 718 737 678 799\n",
            " 384 699 285 277 359 185 270 515 251 469 635 380 608   1 343 506 140 496\n",
            " 553 149 204 208 387 661 751  33 811 516 381 552 729 139 619 773 203 706\n",
            " 717   4 233 568 181 495 103 259 613 422 129 274  11 473 324 107 256 219\n",
            " 399 227 627 370 631 632 358 271 250 412  52 118 623 131 530 365 295 565\n",
            "  85  29 595 217 190 244 226 239  13 369 406 558 201 109 138 600 466 563\n",
            " 609 440 394 397 248 315 569  95 815 148 599 598  23 567 318 383 154 252\n",
            " 299 410   9 375  82 177 123 105 403 215 207  47 297 269 300 481 379 448\n",
            " 266 306 144 136  99   8 132 521 289 101 437 311 562  96 307 489  39 652\n",
            " 232 124  35 540 102  72  24  15  81 151 602 152 153 302  30 155 391  49\n",
            "  61  60 728 276 108 146  22  57 216 692  26  45 142  76 115 550 433 650]    \n",
            "     \n",
            "\n",
            "name_customer    :     \n",
            " [2064 2072 2068 ...  828  953  177]    \n",
            "     \n",
            "\n",
            "business_code    :     \n",
            " [1 0 4 2 3]    \n",
            "     \n",
            "\n",
            "cust_payment_terms    :     \n",
            " [29 16 15  4 44 27 57 39 18 21 23  9 48 32 31 17 25 30 11  7 47 50 53 28\n",
            " 49 22 55  3 51 45 33 34 12 19 14 24  8  5 35 52 20  6 54 40 10 42 36 43\n",
            " 46 56 37  0 26 38  1 41  2 13]    \n",
            "     \n",
            "\n",
            "invoice_currency    :     \n",
            " [1 0]    \n",
            "     \n",
            "\n"
          ],
          "name": "stdout"
        }
      ]
    },
    {
      "cell_type": "code",
      "metadata": {
        "id": "vEfi4x7Bd18T"
      },
      "source": [
        "df=df.drop(['clear_date'],axis=1)#dropping the clear_date for training the model"
      ],
      "execution_count": null,
      "outputs": []
    },
    {
      "cell_type": "markdown",
      "metadata": {
        "id": "JrBwWxb7t4M1"
      },
      "source": [
        "#SPLIT DATA"
      ]
    },
    {
      "cell_type": "code",
      "metadata": {
        "id": "gZc1HS9iAoWe"
      },
      "source": [
        "#Converting the df into X and y to pass on train_test_split function\n",
        "X=df.drop(['delay'],axis=1)# dataframe without the target column\n",
        "y=df['delay']\n"
      ],
      "execution_count": null,
      "outputs": []
    },
    {
      "cell_type": "markdown",
      "metadata": {
        "id": "yyirOCZFeOuP"
      },
      "source": [
        "**TEST AND TRAIN**"
      ]
    },
    {
      "cell_type": "code",
      "metadata": {
        "id": "4q36GUhXeS4F"
      },
      "source": [
        "#splitting the data first into two part -- doing a 70:30 split i.e 30% data fed to intermediate test data set\n",
        "X_train,X_inter_test,y_train,y_inter_test = train_test_split(X,y,test_size=0.3,random_state=0 , shuffle = False)\n"
      ],
      "execution_count": null,
      "outputs": []
    },
    {
      "cell_type": "markdown",
      "metadata": {
        "id": "Nd0XhLHcgEYd"
      },
      "source": [
        "**TEST AND VALIDATE**"
      ]
    },
    {
      "cell_type": "code",
      "metadata": {
        "id": "x905X3wZgMMn"
      },
      "source": [
        "#splitting the test part into 2 parts --doing a 15:15 split \n",
        "X_val,X_test,y_val,y_test = train_test_split(X_inter_test,y_inter_test,test_size=0.5,random_state=0 , shuffle = False)\n"
      ],
      "execution_count": null,
      "outputs": []
    },
    {
      "cell_type": "code",
      "metadata": {
        "colab": {
          "base_uri": "https://localhost:8080/"
        },
        "id": "4_ygC3OHCuie",
        "outputId": "697e59c3-1384-4152-e19c-069fb6d1bf8d"
      },
      "source": [
        "X_train.shape,X_val.shape,X_test.shape"
      ],
      "execution_count": null,
      "outputs": [
        {
          "output_type": "execute_result",
          "data": {
            "text/plain": [
              "((7548, 13), (1618, 13), (1618, 13))"
            ]
          },
          "metadata": {
            "tags": []
          },
          "execution_count": 29
        }
      ]
    },
    {
      "cell_type": "markdown",
      "metadata": {
        "id": "DTEs80tC86wR"
      },
      "source": [
        ""
      ]
    },
    {
      "cell_type": "markdown",
      "metadata": {
        "id": "sg8lm_nn4Z_1"
      },
      "source": [
        "**EXPLORATORY DATA ANALYSIS**"
      ]
    },
    {
      "cell_type": "code",
      "metadata": {
        "colab": {
          "base_uri": "https://localhost:8080/",
          "height": 278
        },
        "id": "3GaeyRDF4d5L",
        "outputId": "6f01f749-d083-419c-d724-e9c5cb0880f2"
      },
      "source": [
        "sns.distplot(df.delay)#distribution of target column\n",
        "plt.show()"
      ],
      "execution_count": null,
      "outputs": [
        {
          "output_type": "display_data",
          "data": {
            "image/png": "[encoded data removed]",
            "text/plain": [
              "<Figure size 432x288 with 1 Axes>"
            ]
          },
          "metadata": {
            "tags": [],
            "needs_background": "light"
          }
        }
      ]
    },
    {
      "cell_type": "code",
      "metadata": {
        "colab": {
          "base_uri": "https://localhost:8080/",
          "height": 428
        },
        "id": "AXH6u2k75rpP",
        "outputId": "722c8892-30d9-4d86-81f3-1c9a8230a661"
      },
      "source": [
        "X_train.merge(y_train,on = X_train.index)#merging with delay column"
      ],
      "execution_count": null,
      "outputs": [
        {
          "output_type": "execute_result",
          "data": {
            "text/html": [
              "<div>\n",
              "<style scoped>\n",
              "    .dataframe tbody tr th:only-of-type {\n",
              "        vertical-align: middle;\n",
              "    }\n",
              "\n",
              "    .dataframe tbody tr th {\n",
              "        vertical-align: top;\n",
              "    }\n",
              "\n",
              "    .dataframe thead th {\n",
              "        text-align: right;\n",
              "    }\n",
              "</style>\n",
              "<table border=\"1\" class=\"dataframe\">\n",
              "  <thead>\n",
              "    <tr style=\"text-align: right;\">\n",
              "      <th></th>\n",
              "      <th>key_0</th>\n",
              "      <th>business_code</th>\n",
              "      <th>cust_number</th>\n",
              "      <th>name_customer</th>\n",
              "      <th>buisness_year</th>\n",
              "      <th>doc_id</th>\n",
              "      <th>posting_date</th>\n",
              "      <th>document_create_date</th>\n",
              "      <th>document_create_date.1</th>\n",
              "      <th>due_in_date</th>\n",
              "      <th>invoice_currency</th>\n",
              "      <th>total_open_amount</th>\n",
              "      <th>cust_payment_terms</th>\n",
              "      <th>invoice_id</th>\n",
              "      <th>delay</th>\n",
              "    </tr>\n",
              "  </thead>\n",
              "  <tbody>\n",
              "    <tr>\n",
              "      <th>0</th>\n",
              "      <td>6489</td>\n",
              "      <td>1</td>\n",
              "      <td>520</td>\n",
              "      <td>2064</td>\n",
              "      <td>2</td>\n",
              "      <td>1.928543e+09</td>\n",
              "      <td>2018-12-30</td>\n",
              "      <td>2018-12-30</td>\n",
              "      <td>2018-12-30</td>\n",
              "      <td>2019-01-14</td>\n",
              "      <td>1</td>\n",
              "      <td>52196.68</td>\n",
              "      <td>29</td>\n",
              "      <td>1.928543e+09</td>\n",
              "      <td>-4</td>\n",
              "    </tr>\n",
              "    <tr>\n",
              "      <th>1</th>\n",
              "      <td>1012</td>\n",
              "      <td>1</td>\n",
              "      <td>520</td>\n",
              "      <td>2072</td>\n",
              "      <td>2</td>\n",
              "      <td>1.928544e+09</td>\n",
              "      <td>2018-12-30</td>\n",
              "      <td>2018-12-30</td>\n",
              "      <td>2018-12-30</td>\n",
              "      <td>2019-01-14</td>\n",
              "      <td>1</td>\n",
              "      <td>23589.38</td>\n",
              "      <td>29</td>\n",
              "      <td>1.928544e+09</td>\n",
              "      <td>-5</td>\n",
              "    </tr>\n",
              "    <tr>\n",
              "      <th>2</th>\n",
              "      <td>13305</td>\n",
              "      <td>1</td>\n",
              "      <td>520</td>\n",
              "      <td>2068</td>\n",
              "      <td>2</td>\n",
              "      <td>1.928538e+09</td>\n",
              "      <td>2018-12-30</td>\n",
              "      <td>2018-12-29</td>\n",
              "      <td>2018-12-30</td>\n",
              "      <td>2019-01-14</td>\n",
              "      <td>1</td>\n",
              "      <td>16263.71</td>\n",
              "      <td>29</td>\n",
              "      <td>1.928538e+09</td>\n",
              "      <td>-5</td>\n",
              "    </tr>\n",
              "    <tr>\n",
              "      <th>3</th>\n",
              "      <td>6207</td>\n",
              "      <td>1</td>\n",
              "      <td>502</td>\n",
              "      <td>1618</td>\n",
              "      <td>2</td>\n",
              "      <td>1.928541e+09</td>\n",
              "      <td>2018-12-30</td>\n",
              "      <td>2018-12-29</td>\n",
              "      <td>2018-12-30</td>\n",
              "      <td>2019-01-14</td>\n",
              "      <td>1</td>\n",
              "      <td>16035.11</td>\n",
              "      <td>29</td>\n",
              "      <td>1.928541e+09</td>\n",
              "      <td>1</td>\n",
              "    </tr>\n",
              "    <tr>\n",
              "      <th>4</th>\n",
              "      <td>2349</td>\n",
              "      <td>1</td>\n",
              "      <td>520</td>\n",
              "      <td>2072</td>\n",
              "      <td>2</td>\n",
              "      <td>1.928541e+09</td>\n",
              "      <td>2018-12-30</td>\n",
              "      <td>2018-12-29</td>\n",
              "      <td>2018-12-30</td>\n",
              "      <td>2019-01-14</td>\n",
              "      <td>1</td>\n",
              "      <td>1433.67</td>\n",
              "      <td>29</td>\n",
              "      <td>1.928541e+09</td>\n",
              "      <td>-5</td>\n",
              "    </tr>\n",
              "    <tr>\n",
              "      <th>...</th>\n",
              "      <td>...</td>\n",
              "      <td>...</td>\n",
              "      <td>...</td>\n",
              "      <td>...</td>\n",
              "      <td>...</td>\n",
              "      <td>...</td>\n",
              "      <td>...</td>\n",
              "      <td>...</td>\n",
              "      <td>...</td>\n",
              "      <td>...</td>\n",
              "      <td>...</td>\n",
              "      <td>...</td>\n",
              "      <td>...</td>\n",
              "      <td>...</td>\n",
              "      <td>...</td>\n",
              "    </tr>\n",
              "    <tr>\n",
              "      <th>7543</th>\n",
              "      <td>13364</td>\n",
              "      <td>1</td>\n",
              "      <td>520</td>\n",
              "      <td>2072</td>\n",
              "      <td>2</td>\n",
              "      <td>1.929972e+09</td>\n",
              "      <td>2019-10-07</td>\n",
              "      <td>2019-10-05</td>\n",
              "      <td>2019-10-07</td>\n",
              "      <td>2019-10-22</td>\n",
              "      <td>1</td>\n",
              "      <td>16252.94</td>\n",
              "      <td>29</td>\n",
              "      <td>1.929972e+09</td>\n",
              "      <td>-1</td>\n",
              "    </tr>\n",
              "    <tr>\n",
              "      <th>7544</th>\n",
              "      <td>3685</td>\n",
              "      <td>1</td>\n",
              "      <td>543</td>\n",
              "      <td>1280</td>\n",
              "      <td>2</td>\n",
              "      <td>1.929976e+09</td>\n",
              "      <td>2019-10-07</td>\n",
              "      <td>2019-10-07</td>\n",
              "      <td>2019-10-07</td>\n",
              "      <td>2019-10-22</td>\n",
              "      <td>1</td>\n",
              "      <td>70102.05</td>\n",
              "      <td>16</td>\n",
              "      <td>1.929976e+09</td>\n",
              "      <td>0</td>\n",
              "    </tr>\n",
              "    <tr>\n",
              "      <th>7545</th>\n",
              "      <td>1439</td>\n",
              "      <td>1</td>\n",
              "      <td>480</td>\n",
              "      <td>1917</td>\n",
              "      <td>2</td>\n",
              "      <td>1.929974e+09</td>\n",
              "      <td>2019-10-07</td>\n",
              "      <td>2019-10-05</td>\n",
              "      <td>2019-10-07</td>\n",
              "      <td>2019-10-22</td>\n",
              "      <td>1</td>\n",
              "      <td>47056.20</td>\n",
              "      <td>16</td>\n",
              "      <td>1.929974e+09</td>\n",
              "      <td>6</td>\n",
              "    </tr>\n",
              "    <tr>\n",
              "      <th>7546</th>\n",
              "      <td>9927</td>\n",
              "      <td>1</td>\n",
              "      <td>397</td>\n",
              "      <td>855</td>\n",
              "      <td>2</td>\n",
              "      <td>1.929973e+09</td>\n",
              "      <td>2019-10-07</td>\n",
              "      <td>2019-10-05</td>\n",
              "      <td>2019-10-07</td>\n",
              "      <td>2019-10-22</td>\n",
              "      <td>1</td>\n",
              "      <td>56902.51</td>\n",
              "      <td>16</td>\n",
              "      <td>1.929973e+09</td>\n",
              "      <td>0</td>\n",
              "    </tr>\n",
              "    <tr>\n",
              "      <th>7547</th>\n",
              "      <td>2589</td>\n",
              "      <td>1</td>\n",
              "      <td>248</td>\n",
              "      <td>581</td>\n",
              "      <td>2</td>\n",
              "      <td>1.929981e+09</td>\n",
              "      <td>2019-10-07</td>\n",
              "      <td>2019-10-07</td>\n",
              "      <td>2019-10-07</td>\n",
              "      <td>2019-10-22</td>\n",
              "      <td>1</td>\n",
              "      <td>19864.71</td>\n",
              "      <td>16</td>\n",
              "      <td>1.929981e+09</td>\n",
              "      <td>2</td>\n",
              "    </tr>\n",
              "  </tbody>\n",
              "</table>\n",
              "<p>7548 rows × 15 columns</p>\n",
              "</div>"
            ],
            "text/plain": [
              "      key_0  business_code  ...    invoice_id  delay\n",
              "0      6489              1  ...  1.928543e+09     -4\n",
              "1      1012              1  ...  1.928544e+09     -5\n",
              "2     13305              1  ...  1.928538e+09     -5\n",
              "3      6207              1  ...  1.928541e+09      1\n",
              "4      2349              1  ...  1.928541e+09     -5\n",
              "...     ...            ...  ...           ...    ...\n",
              "7543  13364              1  ...  1.929972e+09     -1\n",
              "7544   3685              1  ...  1.929976e+09      0\n",
              "7545   1439              1  ...  1.929974e+09      6\n",
              "7546   9927              1  ...  1.929973e+09      0\n",
              "7547   2589              1  ...  1.929981e+09      2\n",
              "\n",
              "[7548 rows x 15 columns]"
            ]
          },
          "metadata": {
            "tags": []
          },
          "execution_count": 31
        }
      ]
    },
    {
      "cell_type": "code",
      "metadata": {
        "colab": {
          "base_uri": "https://localhost:8080/",
          "height": 295
        },
        "id": "_pp-mVPedzRG",
        "outputId": "4cc5992a-fc5c-437b-ab8a-593325d3c209"
      },
      "source": [
        "#in the scatter plot below,delay is plotted aganist the posting_date\n",
        "sns.scatterplot(data=X_train.merge(y_train,on = X_train.index), x=\"delay\", y=\"posting_date\") "
      ],
      "execution_count": null,
      "outputs": [
        {
          "output_type": "execute_result",
          "data": {
            "text/plain": [
              "<matplotlib.axes._subplots.AxesSubplot at 0x7f2d9b65c650>"
            ]
          },
          "metadata": {
            "tags": []
          },
          "execution_count": 32
        },
        {
          "output_type": "display_data",
          "data": {
            "image/png": "[encoded data removed]",
            "text/plain": [
              "<Figure size 432x288 with 1 Axes>"
            ]
          },
          "metadata": {
            "tags": [],
            "needs_background": "light"
          }
        }
      ]
    },
    {
      "cell_type": "markdown",
      "metadata": {
        "id": "eoOxiH4V8_08"
      },
      "source": [
        "**FEATURE ENG**"
      ]
    },
    {
      "cell_type": "code",
      "metadata": {
        "colab": {
          "base_uri": "https://localhost:8080/"
        },
        "id": "oEZ_36139FdM",
        "outputId": "9e5a9c12-df1c-4115-c357-666ddfeeed30"
      },
      "source": [
        "X_train.info()"
      ],
      "execution_count": null,
      "outputs": [
        {
          "output_type": "stream",
          "text": [
            "<class 'pandas.core.frame.DataFrame'>\n",
            "Int64Index: 7548 entries, 6489 to 2589\n",
            "Data columns (total 13 columns):\n",
            " #   Column                  Non-Null Count  Dtype         \n",
            "---  ------                  --------------  -----         \n",
            " 0   business_code           7548 non-null   int64         \n",
            " 1   cust_number             7548 non-null   int64         \n",
            " 2   name_customer           7548 non-null   int64         \n",
            " 3   buisness_year           7548 non-null   int64         \n",
            " 4   doc_id                  7548 non-null   float64       \n",
            " 5   posting_date            7548 non-null   datetime64[ns]\n",
            " 6   document_create_date    7548 non-null   datetime64[ns]\n",
            " 7   document_create_date.1  7548 non-null   datetime64[ns]\n",
            " 8   due_in_date             7548 non-null   datetime64[ns]\n",
            " 9   invoice_currency        7548 non-null   int64         \n",
            " 10  total_open_amount       7548 non-null   float64       \n",
            " 11  cust_payment_terms      7548 non-null   int64         \n",
            " 12  invoice_id              7548 non-null   float64       \n",
            "dtypes: datetime64[ns](4), float64(3), int64(6)\n",
            "memory usage: 825.6 KB\n"
          ],
          "name": "stdout"
        }
      ]
    },
    {
      "cell_type": "code",
      "metadata": {
        "colab": {
          "base_uri": "https://localhost:8080/",
          "height": 428
        },
        "id": "SjgoXYitxefK",
        "outputId": "f26cf385-b9e7-4c7d-9bb3-10e6b4e61ef8"
      },
      "source": [
        "df"
      ],
      "execution_count": null,
      "outputs": [
        {
          "output_type": "execute_result",
          "data": {
            "text/html": [
              "<div>\n",
              "<style scoped>\n",
              "    .dataframe tbody tr th:only-of-type {\n",
              "        vertical-align: middle;\n",
              "    }\n",
              "\n",
              "    .dataframe tbody tr th {\n",
              "        vertical-align: top;\n",
              "    }\n",
              "\n",
              "    .dataframe thead th {\n",
              "        text-align: right;\n",
              "    }\n",
              "</style>\n",
              "<table border=\"1\" class=\"dataframe\">\n",
              "  <thead>\n",
              "    <tr style=\"text-align: right;\">\n",
              "      <th></th>\n",
              "      <th>business_code</th>\n",
              "      <th>cust_number</th>\n",
              "      <th>name_customer</th>\n",
              "      <th>buisness_year</th>\n",
              "      <th>doc_id</th>\n",
              "      <th>posting_date</th>\n",
              "      <th>document_create_date</th>\n",
              "      <th>document_create_date.1</th>\n",
              "      <th>due_in_date</th>\n",
              "      <th>invoice_currency</th>\n",
              "      <th>total_open_amount</th>\n",
              "      <th>cust_payment_terms</th>\n",
              "      <th>invoice_id</th>\n",
              "      <th>delay</th>\n",
              "    </tr>\n",
              "  </thead>\n",
              "  <tbody>\n",
              "    <tr>\n",
              "      <th>6489</th>\n",
              "      <td>1</td>\n",
              "      <td>520</td>\n",
              "      <td>2064</td>\n",
              "      <td>2</td>\n",
              "      <td>1.928543e+09</td>\n",
              "      <td>2018-12-30</td>\n",
              "      <td>2018-12-30</td>\n",
              "      <td>2018-12-30</td>\n",
              "      <td>2019-01-14</td>\n",
              "      <td>1</td>\n",
              "      <td>52196.68</td>\n",
              "      <td>29</td>\n",
              "      <td>1.928543e+09</td>\n",
              "      <td>-4</td>\n",
              "    </tr>\n",
              "    <tr>\n",
              "      <th>1012</th>\n",
              "      <td>1</td>\n",
              "      <td>520</td>\n",
              "      <td>2072</td>\n",
              "      <td>2</td>\n",
              "      <td>1.928544e+09</td>\n",
              "      <td>2018-12-30</td>\n",
              "      <td>2018-12-30</td>\n",
              "      <td>2018-12-30</td>\n",
              "      <td>2019-01-14</td>\n",
              "      <td>1</td>\n",
              "      <td>23589.38</td>\n",
              "      <td>29</td>\n",
              "      <td>1.928544e+09</td>\n",
              "      <td>-5</td>\n",
              "    </tr>\n",
              "    <tr>\n",
              "      <th>13305</th>\n",
              "      <td>1</td>\n",
              "      <td>520</td>\n",
              "      <td>2068</td>\n",
              "      <td>2</td>\n",
              "      <td>1.928538e+09</td>\n",
              "      <td>2018-12-30</td>\n",
              "      <td>2018-12-29</td>\n",
              "      <td>2018-12-30</td>\n",
              "      <td>2019-01-14</td>\n",
              "      <td>1</td>\n",
              "      <td>16263.71</td>\n",
              "      <td>29</td>\n",
              "      <td>1.928538e+09</td>\n",
              "      <td>-5</td>\n",
              "    </tr>\n",
              "    <tr>\n",
              "      <th>6207</th>\n",
              "      <td>1</td>\n",
              "      <td>502</td>\n",
              "      <td>1618</td>\n",
              "      <td>2</td>\n",
              "      <td>1.928541e+09</td>\n",
              "      <td>2018-12-30</td>\n",
              "      <td>2018-12-29</td>\n",
              "      <td>2018-12-30</td>\n",
              "      <td>2019-01-14</td>\n",
              "      <td>1</td>\n",
              "      <td>16035.11</td>\n",
              "      <td>29</td>\n",
              "      <td>1.928541e+09</td>\n",
              "      <td>1</td>\n",
              "    </tr>\n",
              "    <tr>\n",
              "      <th>2349</th>\n",
              "      <td>1</td>\n",
              "      <td>520</td>\n",
              "      <td>2072</td>\n",
              "      <td>2</td>\n",
              "      <td>1.928541e+09</td>\n",
              "      <td>2018-12-30</td>\n",
              "      <td>2018-12-29</td>\n",
              "      <td>2018-12-30</td>\n",
              "      <td>2019-01-14</td>\n",
              "      <td>1</td>\n",
              "      <td>1433.67</td>\n",
              "      <td>29</td>\n",
              "      <td>1.928541e+09</td>\n",
              "      <td>-5</td>\n",
              "    </tr>\n",
              "    <tr>\n",
              "      <th>...</th>\n",
              "      <td>...</td>\n",
              "      <td>...</td>\n",
              "      <td>...</td>\n",
              "      <td>...</td>\n",
              "      <td>...</td>\n",
              "      <td>...</td>\n",
              "      <td>...</td>\n",
              "      <td>...</td>\n",
              "      <td>...</td>\n",
              "      <td>...</td>\n",
              "      <td>...</td>\n",
              "      <td>...</td>\n",
              "      <td>...</td>\n",
              "      <td>...</td>\n",
              "    </tr>\n",
              "    <tr>\n",
              "      <th>13089</th>\n",
              "      <td>1</td>\n",
              "      <td>505</td>\n",
              "      <td>304</td>\n",
              "      <td>2</td>\n",
              "      <td>1.930566e+09</td>\n",
              "      <td>2020-02-26</td>\n",
              "      <td>2020-02-25</td>\n",
              "      <td>2020-02-26</td>\n",
              "      <td>2020-03-12</td>\n",
              "      <td>1</td>\n",
              "      <td>1535.38</td>\n",
              "      <td>21</td>\n",
              "      <td>1.930566e+09</td>\n",
              "      <td>0</td>\n",
              "    </tr>\n",
              "    <tr>\n",
              "      <th>4049</th>\n",
              "      <td>1</td>\n",
              "      <td>278</td>\n",
              "      <td>552</td>\n",
              "      <td>2</td>\n",
              "      <td>1.930567e+09</td>\n",
              "      <td>2020-02-26</td>\n",
              "      <td>2020-02-25</td>\n",
              "      <td>2020-02-26</td>\n",
              "      <td>2020-03-12</td>\n",
              "      <td>1</td>\n",
              "      <td>15428.16</td>\n",
              "      <td>16</td>\n",
              "      <td>1.930567e+09</td>\n",
              "      <td>0</td>\n",
              "    </tr>\n",
              "    <tr>\n",
              "      <th>5012</th>\n",
              "      <td>1</td>\n",
              "      <td>525</td>\n",
              "      <td>1620</td>\n",
              "      <td>2</td>\n",
              "      <td>1.930556e+09</td>\n",
              "      <td>2020-02-26</td>\n",
              "      <td>2020-02-21</td>\n",
              "      <td>2020-02-26</td>\n",
              "      <td>2020-03-12</td>\n",
              "      <td>1</td>\n",
              "      <td>80759.41</td>\n",
              "      <td>16</td>\n",
              "      <td>1.930556e+09</td>\n",
              "      <td>4</td>\n",
              "    </tr>\n",
              "    <tr>\n",
              "      <th>10813</th>\n",
              "      <td>1</td>\n",
              "      <td>334</td>\n",
              "      <td>77</td>\n",
              "      <td>2</td>\n",
              "      <td>1.930561e+09</td>\n",
              "      <td>2020-02-26</td>\n",
              "      <td>2020-02-24</td>\n",
              "      <td>2020-02-26</td>\n",
              "      <td>2020-03-12</td>\n",
              "      <td>1</td>\n",
              "      <td>59422.85</td>\n",
              "      <td>16</td>\n",
              "      <td>1.930561e+09</td>\n",
              "      <td>0</td>\n",
              "    </tr>\n",
              "    <tr>\n",
              "      <th>13173</th>\n",
              "      <td>1</td>\n",
              "      <td>513</td>\n",
              "      <td>1868</td>\n",
              "      <td>2</td>\n",
              "      <td>1.930544e+09</td>\n",
              "      <td>2020-02-26</td>\n",
              "      <td>2020-02-19</td>\n",
              "      <td>2020-02-26</td>\n",
              "      <td>2020-03-29</td>\n",
              "      <td>1</td>\n",
              "      <td>13036.93</td>\n",
              "      <td>9</td>\n",
              "      <td>1.930544e+09</td>\n",
              "      <td>5</td>\n",
              "    </tr>\n",
              "  </tbody>\n",
              "</table>\n",
              "<p>10784 rows × 14 columns</p>\n",
              "</div>"
            ],
            "text/plain": [
              "       business_code  cust_number  ...    invoice_id  delay\n",
              "6489               1          520  ...  1.928543e+09     -4\n",
              "1012               1          520  ...  1.928544e+09     -5\n",
              "13305              1          520  ...  1.928538e+09     -5\n",
              "6207               1          502  ...  1.928541e+09      1\n",
              "2349               1          520  ...  1.928541e+09     -5\n",
              "...              ...          ...  ...           ...    ...\n",
              "13089              1          505  ...  1.930566e+09      0\n",
              "4049               1          278  ...  1.930567e+09      0\n",
              "5012               1          525  ...  1.930556e+09      4\n",
              "10813              1          334  ...  1.930561e+09      0\n",
              "13173              1          513  ...  1.930544e+09      5\n",
              "\n",
              "[10784 rows x 14 columns]"
            ]
          },
          "metadata": {
            "tags": []
          },
          "execution_count": 34
        }
      ]
    },
    {
      "cell_type": "markdown",
      "metadata": {
        "id": "mysve7OF70VU"
      },
      "source": [
        "**LABEL ENCODING FOR DATES**"
      ]
    },
    {
      "cell_type": "code",
      "metadata": {
        "id": "YwWpO8BKrtDh"
      },
      "source": [
        "#encoding due_in_date by splitting into day_of_week,day,month,year\n",
        "X_train['day_of_week_due'] = X_train['due_in_date'].dt.weekday \n",
        "X_val['day_of_week_due'] = X_val['due_in_date'].dt.weekday \n",
        "X_test['day_of_week_due'] = X_test['due_in_date'].dt.weekday\n",
        "\n",
        "X_train['day_of_due_in_date'] = X_train['due_in_date'].dt.day\n",
        "X_train['month_of_due_in_date'] = X_train['due_in_date'].dt.month\n",
        "X_train['year_of_due_in_date'] = X_train['due_in_date'].dt.year\n",
        "\n",
        "X_val['day_of_due_in_date'] = X_val['due_in_date'].dt.day\n",
        "X_val['month_of_due_in_date'] = X_val['due_in_date'].dt.month\n",
        "X_val['year_of_due_in_date'] = X_val['due_in_date'].dt.year\n",
        "\n",
        "X_test['day_of_due_in_date'] = X_test['due_in_date'].dt.day\n",
        "X_test['month_of_due_in_date'] = X_test['due_in_date'].dt.month\n",
        "X_test['year_of_due_in_date'] = X_test['due_in_date'].dt.year"
      ],
      "execution_count": null,
      "outputs": []
    },
    {
      "cell_type": "code",
      "metadata": {
        "id": "eVWKy9c4Bt9c"
      },
      "source": [
        "#encoding document_create_date.1 by splitting into day_of_week,day,month,year\n",
        "X_train['day_of_week_document_create_date.1'] = X_train['document_create_date.1'].dt.weekday \n",
        "X_val['day_of_week_document_create_date.1'] = X_val['document_create_date.1'].dt.weekday \n",
        "X_test['day_of_week_document_create_date.1'] = X_test['document_create_date.1'].dt.weekday\n",
        "#to get day,month,year\n",
        "X_train['day_of_document_create_date.1'] = X_train['document_create_date.1'].dt.day\n",
        "X_train['month_of_document_create_date.1'] = X_train['document_create_date.1'].dt.month\n",
        "X_train['year_of_document_create_date.1'] = X_train['document_create_date.1'].dt.year\n",
        "\n",
        "X_val['day_of_document_create_date.1'] = X_val['document_create_date.1'].dt.day\n",
        "X_val['month_of_document_create_date.1'] = X_val['document_create_date.1'].dt.month\n",
        "X_val['year_of_document_create_date.1'] = X_val['document_create_date.1'].dt.year\n",
        "\n",
        "X_test['day_of_document_create_date.1'] = X_test['document_create_date.1'].dt.day\n",
        "X_test['month_of_document_create_date.1'] = X_test['document_create_date.1'].dt.month\n",
        "X_test['year_of_document_create_date.1'] = X_test['document_create_date.1'].dt.year"
      ],
      "execution_count": null,
      "outputs": []
    },
    {
      "cell_type": "code",
      "metadata": {
        "id": "CCu0VCu4DRnT"
      },
      "source": [
        "#encoding posting_date by splitting into day_of_week,day,month,year\n",
        "\n",
        "X_train['day_of_week'] = X_train['posting_date'].dt.weekday \n",
        "X_val['day_of_week'] = X_val['posting_date'].dt.weekday \n",
        "X_test['day_of_week'] = X_test['posting_date'].dt.weekday\n",
        "#to get day,month,year\n",
        "X_train['day_of_posting_date'] = X_train['posting_date'].dt.day\n",
        "X_train['month_of_posting_date'] = X_train['posting_date'].dt.month\n",
        "X_train['year_of_posting_date'] = X_train['posting_date'].dt.year\n",
        "\n",
        "X_val['day_of_posting_date'] = X_val['posting_date'].dt.day\n",
        "X_val['month_of_posting_date'] = X_val['posting_date'].dt.month\n",
        "X_val['year_of_posting_date'] = X_val['posting_date'].dt.year\n",
        "\n",
        "X_test['day_of_posting_date'] = X_test['posting_date'].dt.day\n",
        "X_test['month_of_posting_date'] = X_test['posting_date'].dt.month\n",
        "X_test['year_of_posting_date'] = X_test['posting_date'].dt.year"
      ],
      "execution_count": null,
      "outputs": []
    },
    {
      "cell_type": "code",
      "metadata": {
        "id": "5W8Eyo3cIi71"
      },
      "source": [
        "#encoding document_create_date by splitting into day_of_week,day,month,year\n",
        "\n",
        "X_train['day_of_week_document_create_date'] = X_train['document_create_date'].dt.weekday \n",
        "X_val['day_of_week_document_create_date'] = X_val['document_create_date'].dt.weekday \n",
        "X_test['day_of_week_document_create_date'] = X_test['document_create_date'].dt.weekday\n",
        "#to get day,month,year\n",
        "X_train['day_of_document_create_date'] = X_train['document_create_date'].dt.day\n",
        "X_train['month_of_document_create_date'] = X_train['document_create_date'].dt.month\n",
        "X_train['year_of_document_create_date_date'] = X_train['posting_date'].dt.year\n",
        "\n",
        "X_val['day_of_document_create_date'] = X_val['document_create_date'].dt.day\n",
        "X_val['month_of_document_create_date'] = X_val['document_create_date'].dt.month\n",
        "X_val['year_of_document_create_date'] = X_val['document_create_date'].dt.year\n",
        "\n",
        "X_test['day_of_document_create_date'] = X_test['document_create_date'].dt.day\n",
        "X_test['month_of_document_create_date'] = X_test['document_create_date'].dt.month\n",
        "X_test['year_of_document_create_date'] = X_test['document_create_date'].dt.year"
      ],
      "execution_count": null,
      "outputs": []
    },
    {
      "cell_type": "code",
      "metadata": {
        "id": "80RZfsiMDh-j"
      },
      "source": [
        "# function will delete a column from train , val and test\n",
        "def drop_col(col ,traindf = X_train,valdf = X_val,testdf = X_test):\n",
        "    traindf.drop(col, axis =1,inplace=True)\n",
        "    valdf.drop(col,axis=1 , inplace=True)\n",
        "    testdf.drop(col,axis=1 , inplace=True)\n",
        "\n",
        "    return traindf,valdf ,testdf"
      ],
      "execution_count": null,
      "outputs": []
    },
    {
      "cell_type": "code",
      "metadata": {
        "id": "2enKKpDGajP1"
      },
      "source": [
        "# wrote a custom function to do a status check  on all the dataframes \n",
        "def status_check(traindf = X_train,valdf = X_val,testdf = X_test):\n",
        "    print(traindf.info())\n",
        "    print(\"****************************\")\n",
        "    print(traindf.shape,valdf.shape,testdf.shape)\n",
        "    print(\"************Train Null Count****************\")\n",
        "    print(traindf.isna().sum())\n",
        "    print(\"************Test Null Count ****************\")\n",
        "    print(testdf.isna().sum())    \n",
        "    print(\"************Val Null Count ****************\")\n",
        "    print(valdf.isna().sum())"
      ],
      "execution_count": null,
      "outputs": []
    },
    {
      "cell_type": "code",
      "metadata": {
        "id": "ijrzDeyPEmWO"
      },
      "source": [
        "X_train ,X_val, X_test = drop_col(['due_in_date'])\n",
        "X_train ,X_val, X_test = drop_col(['document_create_date.1'])\n",
        "X_train ,X_val, X_test = drop_col(['posting_date'])\n",
        "X_train ,X_val, X_test = drop_col(['document_create_date'])\n",
        "\n"
      ],
      "execution_count": null,
      "outputs": []
    },
    {
      "cell_type": "code",
      "metadata": {
        "colab": {
          "base_uri": "https://localhost:8080/",
          "height": 428
        },
        "id": "hQnWjhnp9-IW",
        "outputId": "dcde5d41-8e70-464a-b863-75128c76703d"
      },
      "source": [
        "X_train"
      ],
      "execution_count": null,
      "outputs": [
        {
          "output_type": "execute_result",
          "data": {
            "text/html": [
              "<div>\n",
              "<style scoped>\n",
              "    .dataframe tbody tr th:only-of-type {\n",
              "        vertical-align: middle;\n",
              "    }\n",
              "\n",
              "    .dataframe tbody tr th {\n",
              "        vertical-align: top;\n",
              "    }\n",
              "\n",
              "    .dataframe thead th {\n",
              "        text-align: right;\n",
              "    }\n",
              "</style>\n",
              "<table border=\"1\" class=\"dataframe\">\n",
              "  <thead>\n",
              "    <tr style=\"text-align: right;\">\n",
              "      <th></th>\n",
              "      <th>business_code</th>\n",
              "      <th>cust_number</th>\n",
              "      <th>name_customer</th>\n",
              "      <th>buisness_year</th>\n",
              "      <th>doc_id</th>\n",
              "      <th>invoice_currency</th>\n",
              "      <th>total_open_amount</th>\n",
              "      <th>cust_payment_terms</th>\n",
              "      <th>invoice_id</th>\n",
              "      <th>day_of_week_due</th>\n",
              "      <th>day_of_due_in_date</th>\n",
              "      <th>month_of_due_in_date</th>\n",
              "      <th>year_of_due_in_date</th>\n",
              "      <th>day_of_week_document_create_date.1</th>\n",
              "      <th>day_of_document_create_date.1</th>\n",
              "      <th>month_of_document_create_date.1</th>\n",
              "      <th>year_of_document_create_date.1</th>\n",
              "      <th>day_of_week</th>\n",
              "      <th>day_of_posting_date</th>\n",
              "      <th>month_of_posting_date</th>\n",
              "      <th>year_of_posting_date</th>\n",
              "      <th>day_of_week_document_create_date</th>\n",
              "      <th>day_of_document_create_date</th>\n",
              "      <th>month_of_document_create_date</th>\n",
              "      <th>year_of_document_create_date_date</th>\n",
              "    </tr>\n",
              "  </thead>\n",
              "  <tbody>\n",
              "    <tr>\n",
              "      <th>6489</th>\n",
              "      <td>1</td>\n",
              "      <td>520</td>\n",
              "      <td>2064</td>\n",
              "      <td>2</td>\n",
              "      <td>1.928543e+09</td>\n",
              "      <td>1</td>\n",
              "      <td>52196.68</td>\n",
              "      <td>29</td>\n",
              "      <td>1.928543e+09</td>\n",
              "      <td>0</td>\n",
              "      <td>14</td>\n",
              "      <td>1</td>\n",
              "      <td>2019</td>\n",
              "      <td>6</td>\n",
              "      <td>30</td>\n",
              "      <td>12</td>\n",
              "      <td>2018</td>\n",
              "      <td>6</td>\n",
              "      <td>30</td>\n",
              "      <td>12</td>\n",
              "      <td>2018</td>\n",
              "      <td>6</td>\n",
              "      <td>30</td>\n",
              "      <td>12</td>\n",
              "      <td>2018</td>\n",
              "    </tr>\n",
              "    <tr>\n",
              "      <th>1012</th>\n",
              "      <td>1</td>\n",
              "      <td>520</td>\n",
              "      <td>2072</td>\n",
              "      <td>2</td>\n",
              "      <td>1.928544e+09</td>\n",
              "      <td>1</td>\n",
              "      <td>23589.38</td>\n",
              "      <td>29</td>\n",
              "      <td>1.928544e+09</td>\n",
              "      <td>0</td>\n",
              "      <td>14</td>\n",
              "      <td>1</td>\n",
              "      <td>2019</td>\n",
              "      <td>6</td>\n",
              "      <td>30</td>\n",
              "      <td>12</td>\n",
              "      <td>2018</td>\n",
              "      <td>6</td>\n",
              "      <td>30</td>\n",
              "      <td>12</td>\n",
              "      <td>2018</td>\n",
              "      <td>6</td>\n",
              "      <td>30</td>\n",
              "      <td>12</td>\n",
              "      <td>2018</td>\n",
              "    </tr>\n",
              "    <tr>\n",
              "      <th>13305</th>\n",
              "      <td>1</td>\n",
              "      <td>520</td>\n",
              "      <td>2068</td>\n",
              "      <td>2</td>\n",
              "      <td>1.928538e+09</td>\n",
              "      <td>1</td>\n",
              "      <td>16263.71</td>\n",
              "      <td>29</td>\n",
              "      <td>1.928538e+09</td>\n",
              "      <td>0</td>\n",
              "      <td>14</td>\n",
              "      <td>1</td>\n",
              "      <td>2019</td>\n",
              "      <td>6</td>\n",
              "      <td>30</td>\n",
              "      <td>12</td>\n",
              "      <td>2018</td>\n",
              "      <td>6</td>\n",
              "      <td>30</td>\n",
              "      <td>12</td>\n",
              "      <td>2018</td>\n",
              "      <td>5</td>\n",
              "      <td>29</td>\n",
              "      <td>12</td>\n",
              "      <td>2018</td>\n",
              "    </tr>\n",
              "    <tr>\n",
              "      <th>6207</th>\n",
              "      <td>1</td>\n",
              "      <td>502</td>\n",
              "      <td>1618</td>\n",
              "      <td>2</td>\n",
              "      <td>1.928541e+09</td>\n",
              "      <td>1</td>\n",
              "      <td>16035.11</td>\n",
              "      <td>29</td>\n",
              "      <td>1.928541e+09</td>\n",
              "      <td>0</td>\n",
              "      <td>14</td>\n",
              "      <td>1</td>\n",
              "      <td>2019</td>\n",
              "      <td>6</td>\n",
              "      <td>30</td>\n",
              "      <td>12</td>\n",
              "      <td>2018</td>\n",
              "      <td>6</td>\n",
              "      <td>30</td>\n",
              "      <td>12</td>\n",
              "      <td>2018</td>\n",
              "      <td>5</td>\n",
              "      <td>29</td>\n",
              "      <td>12</td>\n",
              "      <td>2018</td>\n",
              "    </tr>\n",
              "    <tr>\n",
              "      <th>2349</th>\n",
              "      <td>1</td>\n",
              "      <td>520</td>\n",
              "      <td>2072</td>\n",
              "      <td>2</td>\n",
              "      <td>1.928541e+09</td>\n",
              "      <td>1</td>\n",
              "      <td>1433.67</td>\n",
              "      <td>29</td>\n",
              "      <td>1.928541e+09</td>\n",
              "      <td>0</td>\n",
              "      <td>14</td>\n",
              "      <td>1</td>\n",
              "      <td>2019</td>\n",
              "      <td>6</td>\n",
              "      <td>30</td>\n",
              "      <td>12</td>\n",
              "      <td>2018</td>\n",
              "      <td>6</td>\n",
              "      <td>30</td>\n",
              "      <td>12</td>\n",
              "      <td>2018</td>\n",
              "      <td>5</td>\n",
              "      <td>29</td>\n",
              "      <td>12</td>\n",
              "      <td>2018</td>\n",
              "    </tr>\n",
              "    <tr>\n",
              "      <th>...</th>\n",
              "      <td>...</td>\n",
              "      <td>...</td>\n",
              "      <td>...</td>\n",
              "      <td>...</td>\n",
              "      <td>...</td>\n",
              "      <td>...</td>\n",
              "      <td>...</td>\n",
              "      <td>...</td>\n",
              "      <td>...</td>\n",
              "      <td>...</td>\n",
              "      <td>...</td>\n",
              "      <td>...</td>\n",
              "      <td>...</td>\n",
              "      <td>...</td>\n",
              "      <td>...</td>\n",
              "      <td>...</td>\n",
              "      <td>...</td>\n",
              "      <td>...</td>\n",
              "      <td>...</td>\n",
              "      <td>...</td>\n",
              "      <td>...</td>\n",
              "      <td>...</td>\n",
              "      <td>...</td>\n",
              "      <td>...</td>\n",
              "      <td>...</td>\n",
              "    </tr>\n",
              "    <tr>\n",
              "      <th>13364</th>\n",
              "      <td>1</td>\n",
              "      <td>520</td>\n",
              "      <td>2072</td>\n",
              "      <td>2</td>\n",
              "      <td>1.929972e+09</td>\n",
              "      <td>1</td>\n",
              "      <td>16252.94</td>\n",
              "      <td>29</td>\n",
              "      <td>1.929972e+09</td>\n",
              "      <td>1</td>\n",
              "      <td>22</td>\n",
              "      <td>10</td>\n",
              "      <td>2019</td>\n",
              "      <td>0</td>\n",
              "      <td>7</td>\n",
              "      <td>10</td>\n",
              "      <td>2019</td>\n",
              "      <td>0</td>\n",
              "      <td>7</td>\n",
              "      <td>10</td>\n",
              "      <td>2019</td>\n",
              "      <td>5</td>\n",
              "      <td>5</td>\n",
              "      <td>10</td>\n",
              "      <td>2019</td>\n",
              "    </tr>\n",
              "    <tr>\n",
              "      <th>3685</th>\n",
              "      <td>1</td>\n",
              "      <td>543</td>\n",
              "      <td>1280</td>\n",
              "      <td>2</td>\n",
              "      <td>1.929976e+09</td>\n",
              "      <td>1</td>\n",
              "      <td>70102.05</td>\n",
              "      <td>16</td>\n",
              "      <td>1.929976e+09</td>\n",
              "      <td>1</td>\n",
              "      <td>22</td>\n",
              "      <td>10</td>\n",
              "      <td>2019</td>\n",
              "      <td>0</td>\n",
              "      <td>7</td>\n",
              "      <td>10</td>\n",
              "      <td>2019</td>\n",
              "      <td>0</td>\n",
              "      <td>7</td>\n",
              "      <td>10</td>\n",
              "      <td>2019</td>\n",
              "      <td>0</td>\n",
              "      <td>7</td>\n",
              "      <td>10</td>\n",
              "      <td>2019</td>\n",
              "    </tr>\n",
              "    <tr>\n",
              "      <th>1439</th>\n",
              "      <td>1</td>\n",
              "      <td>480</td>\n",
              "      <td>1917</td>\n",
              "      <td>2</td>\n",
              "      <td>1.929974e+09</td>\n",
              "      <td>1</td>\n",
              "      <td>47056.20</td>\n",
              "      <td>16</td>\n",
              "      <td>1.929974e+09</td>\n",
              "      <td>1</td>\n",
              "      <td>22</td>\n",
              "      <td>10</td>\n",
              "      <td>2019</td>\n",
              "      <td>0</td>\n",
              "      <td>7</td>\n",
              "      <td>10</td>\n",
              "      <td>2019</td>\n",
              "      <td>0</td>\n",
              "      <td>7</td>\n",
              "      <td>10</td>\n",
              "      <td>2019</td>\n",
              "      <td>5</td>\n",
              "      <td>5</td>\n",
              "      <td>10</td>\n",
              "      <td>2019</td>\n",
              "    </tr>\n",
              "    <tr>\n",
              "      <th>9927</th>\n",
              "      <td>1</td>\n",
              "      <td>397</td>\n",
              "      <td>855</td>\n",
              "      <td>2</td>\n",
              "      <td>1.929973e+09</td>\n",
              "      <td>1</td>\n",
              "      <td>56902.51</td>\n",
              "      <td>16</td>\n",
              "      <td>1.929973e+09</td>\n",
              "      <td>1</td>\n",
              "      <td>22</td>\n",
              "      <td>10</td>\n",
              "      <td>2019</td>\n",
              "      <td>0</td>\n",
              "      <td>7</td>\n",
              "      <td>10</td>\n",
              "      <td>2019</td>\n",
              "      <td>0</td>\n",
              "      <td>7</td>\n",
              "      <td>10</td>\n",
              "      <td>2019</td>\n",
              "      <td>5</td>\n",
              "      <td>5</td>\n",
              "      <td>10</td>\n",
              "      <td>2019</td>\n",
              "    </tr>\n",
              "    <tr>\n",
              "      <th>2589</th>\n",
              "      <td>1</td>\n",
              "      <td>248</td>\n",
              "      <td>581</td>\n",
              "      <td>2</td>\n",
              "      <td>1.929981e+09</td>\n",
              "      <td>1</td>\n",
              "      <td>19864.71</td>\n",
              "      <td>16</td>\n",
              "      <td>1.929981e+09</td>\n",
              "      <td>1</td>\n",
              "      <td>22</td>\n",
              "      <td>10</td>\n",
              "      <td>2019</td>\n",
              "      <td>0</td>\n",
              "      <td>7</td>\n",
              "      <td>10</td>\n",
              "      <td>2019</td>\n",
              "      <td>0</td>\n",
              "      <td>7</td>\n",
              "      <td>10</td>\n",
              "      <td>2019</td>\n",
              "      <td>0</td>\n",
              "      <td>7</td>\n",
              "      <td>10</td>\n",
              "      <td>2019</td>\n",
              "    </tr>\n",
              "  </tbody>\n",
              "</table>\n",
              "<p>7548 rows × 25 columns</p>\n",
              "</div>"
            ],
            "text/plain": [
              "       business_code  ...  year_of_document_create_date_date\n",
              "6489               1  ...                               2018\n",
              "1012               1  ...                               2018\n",
              "13305              1  ...                               2018\n",
              "6207               1  ...                               2018\n",
              "2349               1  ...                               2018\n",
              "...              ...  ...                                ...\n",
              "13364              1  ...                               2019\n",
              "3685               1  ...                               2019\n",
              "1439               1  ...                               2019\n",
              "9927               1  ...                               2019\n",
              "2589               1  ...                               2019\n",
              "\n",
              "[7548 rows x 25 columns]"
            ]
          },
          "metadata": {
            "tags": []
          },
          "execution_count": 42
        }
      ]
    },
    {
      "cell_type": "code",
      "metadata": {
        "colab": {
          "base_uri": "https://localhost:8080/"
        },
        "id": "Z78QNSRK1Cux",
        "outputId": "8b0e4991-ba4d-4d8a-ee74-bc9d12a15cdb"
      },
      "source": [
        "X_train.info()#coverted all the values into float/int"
      ],
      "execution_count": null,
      "outputs": [
        {
          "output_type": "stream",
          "text": [
            "<class 'pandas.core.frame.DataFrame'>\n",
            "Int64Index: 7548 entries, 6489 to 2589\n",
            "Data columns (total 25 columns):\n",
            " #   Column                              Non-Null Count  Dtype  \n",
            "---  ------                              --------------  -----  \n",
            " 0   business_code                       7548 non-null   int64  \n",
            " 1   cust_number                         7548 non-null   int64  \n",
            " 2   name_customer                       7548 non-null   int64  \n",
            " 3   buisness_year                       7548 non-null   int64  \n",
            " 4   doc_id                              7548 non-null   float64\n",
            " 5   invoice_currency                    7548 non-null   int64  \n",
            " 6   total_open_amount                   7548 non-null   float64\n",
            " 7   cust_payment_terms                  7548 non-null   int64  \n",
            " 8   invoice_id                          7548 non-null   float64\n",
            " 9   day_of_week_due                     7548 non-null   int64  \n",
            " 10  day_of_due_in_date                  7548 non-null   int64  \n",
            " 11  month_of_due_in_date                7548 non-null   int64  \n",
            " 12  year_of_due_in_date                 7548 non-null   int64  \n",
            " 13  day_of_week_document_create_date.1  7548 non-null   int64  \n",
            " 14  day_of_document_create_date.1       7548 non-null   int64  \n",
            " 15  month_of_document_create_date.1     7548 non-null   int64  \n",
            " 16  year_of_document_create_date.1      7548 non-null   int64  \n",
            " 17  day_of_week                         7548 non-null   int64  \n",
            " 18  day_of_posting_date                 7548 non-null   int64  \n",
            " 19  month_of_posting_date               7548 non-null   int64  \n",
            " 20  year_of_posting_date                7548 non-null   int64  \n",
            " 21  day_of_week_document_create_date    7548 non-null   int64  \n",
            " 22  day_of_document_create_date         7548 non-null   int64  \n",
            " 23  month_of_document_create_date       7548 non-null   int64  \n",
            " 24  year_of_document_create_date_date   7548 non-null   int64  \n",
            "dtypes: float64(3), int64(22)\n",
            "memory usage: 1.5 MB\n"
          ],
          "name": "stdout"
        }
      ]
    },
    {
      "cell_type": "markdown",
      "metadata": {
        "id": "xN5hlYhfQ2yr"
      },
      "source": [
        "**FEATURE SELECTION**"
      ]
    },
    {
      "cell_type": "code",
      "metadata": {
        "colab": {
          "base_uri": "https://localhost:8080/",
          "height": 1000
        },
        "id": "8cfC-3RoQ6k2",
        "outputId": "e4670216-5ad6-48b2-dcf7-bdf8e1239b99"
      },
      "source": [
        "#data visulaization by heatmap\n",
        "colormap = plt.cm.RdBu\n",
        "plt.figure(figsize=(30,30))\n",
        "plt.title('Pearson Correlation of Features', y=1.05, size=15)\n",
        "sns.heatmap(X_train.merge(y_train , on = X_train.index ).corr(),linewidths=0.1,vmax=1.0, \n",
        "            square=True, cmap=colormap, linecolor='white', annot=True)"
      ],
      "execution_count": null,
      "outputs": [
        {
          "output_type": "execute_result",
          "data": {
            "text/plain": [
              "<matplotlib.axes._subplots.AxesSubplot at 0x7f2d9b141cd0>"
            ]
          },
          "metadata": {
            "tags": []
          },
          "execution_count": 44
        },
        {
          "output_type": "display_data",
          "data": {
            "image/png": "[encoded data removed]",
            "text/plain": [
              "<Figure size 2160x2160 with 2 Axes>"
            ]
          },
          "metadata": {
            "tags": [],
            "needs_background": "light"
          }
        }
      ]
    },
    {
      "cell_type": "code",
      "metadata": {
        "colab": {
          "base_uri": "https://localhost:8080/"
        },
        "id": "20qf9raTXRD0",
        "outputId": "d99b6152-c10b-4b56-bb30-b4ddbc234c8d"
      },
      "source": [
        "# also since all the columns have been converted to int/ float , you can use variance threshold -- ;-\n",
        "from sklearn.feature_selection import VarianceThreshold\n",
        "sel = VarianceThreshold(0.8)\n",
        "sel.fit(X_train)"
      ],
      "execution_count": null,
      "outputs": [
        {
          "output_type": "execute_result",
          "data": {
            "text/plain": [
              "VarianceThreshold(threshold=0.8)"
            ]
          },
          "metadata": {
            "tags": []
          },
          "execution_count": 45
        }
      ]
    },
    {
      "cell_type": "code",
      "metadata": {
        "colab": {
          "base_uri": "https://localhost:8080/"
        },
        "id": "YU-0A7V3YrSB",
        "outputId": "493d9563-e115-4b6a-8510-e70fdb47bda1"
      },
      "source": [
        "\n",
        "sel.variances_"
      ],
      "execution_count": null,
      "outputs": [
        {
          "output_type": "execute_result",
          "data": {
            "text/plain": [
              "array([2.02382968e-01, 2.83983732e+04, 5.04852889e+05, 0.00000000e+00,\n",
              "       7.62866000e+16, 7.19446242e-02, 1.65991954e+09, 1.11854274e+02,\n",
              "       7.62866000e+16, 3.53908587e+00, 7.44330534e+01, 7.04906946e+00,\n",
              "       0.00000000e+00, 3.30480368e+00, 7.81739844e+01, 6.93190790e+00,\n",
              "       3.56431083e-03, 3.30480368e+00, 7.81739844e+01, 6.93190790e+00,\n",
              "       3.56431083e-03, 3.30255227e+00, 7.81403084e+01, 6.99683613e+00,\n",
              "       3.56431083e-03])"
            ]
          },
          "metadata": {
            "tags": []
          },
          "execution_count": 46
        }
      ]
    },
    {
      "cell_type": "code",
      "metadata": {
        "id": "_C7QYSTvYwyh"
      },
      "source": [
        "X_train,X_val ,X_test = drop_col(['buisness_year'])#since from the heatmap,buisness year is constant"
      ],
      "execution_count": null,
      "outputs": []
    },
    {
      "cell_type": "code",
      "metadata": {
        "colab": {
          "base_uri": "https://localhost:8080/"
        },
        "id": "mOpPaAdFY_uf",
        "outputId": "978fb412-4721-4edf-86b6-94f51de14b88"
      },
      "source": [
        "status_check()"
      ],
      "execution_count": null,
      "outputs": [
        {
          "output_type": "stream",
          "text": [
            "<class 'pandas.core.frame.DataFrame'>\n",
            "Int64Index: 7548 entries, 6489 to 2589\n",
            "Data columns (total 24 columns):\n",
            " #   Column                              Non-Null Count  Dtype  \n",
            "---  ------                              --------------  -----  \n",
            " 0   business_code                       7548 non-null   int64  \n",
            " 1   cust_number                         7548 non-null   int64  \n",
            " 2   name_customer                       7548 non-null   int64  \n",
            " 3   doc_id                              7548 non-null   float64\n",
            " 4   invoice_currency                    7548 non-null   int64  \n",
            " 5   total_open_amount                   7548 non-null   float64\n",
            " 6   cust_payment_terms                  7548 non-null   int64  \n",
            " 7   invoice_id                          7548 non-null   float64\n",
            " 8   day_of_week_due                     7548 non-null   int64  \n",
            " 9   day_of_due_in_date                  7548 non-null   int64  \n",
            " 10  month_of_due_in_date                7548 non-null   int64  \n",
            " 11  year_of_due_in_date                 7548 non-null   int64  \n",
            " 12  day_of_week_document_create_date.1  7548 non-null   int64  \n",
            " 13  day_of_document_create_date.1       7548 non-null   int64  \n",
            " 14  month_of_document_create_date.1     7548 non-null   int64  \n",
            " 15  year_of_document_create_date.1      7548 non-null   int64  \n",
            " 16  day_of_week                         7548 non-null   int64  \n",
            " 17  day_of_posting_date                 7548 non-null   int64  \n",
            " 18  month_of_posting_date               7548 non-null   int64  \n",
            " 19  year_of_posting_date                7548 non-null   int64  \n",
            " 20  day_of_week_document_create_date    7548 non-null   int64  \n",
            " 21  day_of_document_create_date         7548 non-null   int64  \n",
            " 22  month_of_document_create_date       7548 non-null   int64  \n",
            " 23  year_of_document_create_date_date   7548 non-null   int64  \n",
            "dtypes: float64(3), int64(21)\n",
            "memory usage: 1.4 MB\n",
            "None\n",
            "****************************\n",
            "(7548, 24) (1618, 24) (1618, 24)\n",
            "************Train Null Count****************\n",
            "business_code                         0\n",
            "cust_number                           0\n",
            "name_customer                         0\n",
            "doc_id                                0\n",
            "invoice_currency                      0\n",
            "total_open_amount                     0\n",
            "cust_payment_terms                    0\n",
            "invoice_id                            0\n",
            "day_of_week_due                       0\n",
            "day_of_due_in_date                    0\n",
            "month_of_due_in_date                  0\n",
            "year_of_due_in_date                   0\n",
            "day_of_week_document_create_date.1    0\n",
            "day_of_document_create_date.1         0\n",
            "month_of_document_create_date.1       0\n",
            "year_of_document_create_date.1        0\n",
            "day_of_week                           0\n",
            "day_of_posting_date                   0\n",
            "month_of_posting_date                 0\n",
            "year_of_posting_date                  0\n",
            "day_of_week_document_create_date      0\n",
            "day_of_document_create_date           0\n",
            "month_of_document_create_date         0\n",
            "year_of_document_create_date_date     0\n",
            "dtype: int64\n",
            "************Test Null Count ****************\n",
            "business_code                         0\n",
            "cust_number                           0\n",
            "name_customer                         0\n",
            "doc_id                                0\n",
            "invoice_currency                      0\n",
            "total_open_amount                     0\n",
            "cust_payment_terms                    0\n",
            "invoice_id                            0\n",
            "day_of_week_due                       0\n",
            "day_of_due_in_date                    0\n",
            "month_of_due_in_date                  0\n",
            "year_of_due_in_date                   0\n",
            "day_of_week_document_create_date.1    0\n",
            "day_of_document_create_date.1         0\n",
            "month_of_document_create_date.1       0\n",
            "year_of_document_create_date.1        0\n",
            "day_of_week                           0\n",
            "day_of_posting_date                   0\n",
            "month_of_posting_date                 0\n",
            "year_of_posting_date                  0\n",
            "day_of_week_document_create_date      0\n",
            "day_of_document_create_date           0\n",
            "month_of_document_create_date         0\n",
            "year_of_document_create_date          0\n",
            "dtype: int64\n",
            "************Val Null Count ****************\n",
            "business_code                         0\n",
            "cust_number                           0\n",
            "name_customer                         0\n",
            "doc_id                                0\n",
            "invoice_currency                      0\n",
            "total_open_amount                     0\n",
            "cust_payment_terms                    0\n",
            "invoice_id                            0\n",
            "day_of_week_due                       0\n",
            "day_of_due_in_date                    0\n",
            "month_of_due_in_date                  0\n",
            "year_of_due_in_date                   0\n",
            "day_of_week_document_create_date.1    0\n",
            "day_of_document_create_date.1         0\n",
            "month_of_document_create_date.1       0\n",
            "year_of_document_create_date.1        0\n",
            "day_of_week                           0\n",
            "day_of_posting_date                   0\n",
            "month_of_posting_date                 0\n",
            "year_of_posting_date                  0\n",
            "day_of_week_document_create_date      0\n",
            "day_of_document_create_date           0\n",
            "month_of_document_create_date         0\n",
            "year_of_document_create_date          0\n",
            "dtype: int64\n"
          ],
          "name": "stdout"
        }
      ]
    },
    {
      "cell_type": "markdown",
      "metadata": {
        "id": "omrTcR5bcSmn"
      },
      "source": [
        "#MODELLING"
      ]
    },
    {
      "cell_type": "markdown",
      "metadata": {
        "id": "jdHKqZRfGpfa"
      },
      "source": [
        "**BASE MODEL**"
      ]
    },
    {
      "cell_type": "code",
      "metadata": {
        "colab": {
          "base_uri": "https://localhost:8080/"
        },
        "id": "RmwSduB_caNx",
        "outputId": "4d27838e-b8fa-4c13-9fd4-87229122dfbe"
      },
      "source": [
        "from sklearn.linear_model import LinearRegression\n",
        "base_model = LinearRegression()\n",
        "base_model.fit(X_train, y_train)"
      ],
      "execution_count": null,
      "outputs": [
        {
          "output_type": "execute_result",
          "data": {
            "text/plain": [
              "LinearRegression(copy_X=True, fit_intercept=True, n_jobs=None, normalize=False)"
            ]
          },
          "metadata": {
            "tags": []
          },
          "execution_count": 49
        }
      ]
    },
    {
      "cell_type": "code",
      "metadata": {
        "id": "p5F__Hnnq4E-"
      },
      "source": [
        "y_predict = base_model.predict(X_val)"
      ],
      "execution_count": null,
      "outputs": []
    },
    {
      "cell_type": "code",
      "metadata": {
        "colab": {
          "base_uri": "https://localhost:8080/"
        },
        "id": "5dH14tOpq-c0",
        "outputId": "0e36a468-2a22-4d44-e248-55c617f3d103"
      },
      "source": [
        "from sklearn.metrics import mean_squared_error\n",
        "\n",
        "mean_squared_error(y_val, y_predict, squared=False)"
      ],
      "execution_count": null,
      "outputs": [
        {
          "output_type": "execute_result",
          "data": {
            "text/plain": [
              "8.340853749990163"
            ]
          },
          "metadata": {
            "tags": []
          },
          "execution_count": 51
        }
      ]
    },
    {
      "cell_type": "code",
      "metadata": {
        "id": "9DjZx6ZMrEDH"
      },
      "source": [
        "met = pd.DataFrame(zip(y_predict , y_test),columns=['Predicted','Actuals'])"
      ],
      "execution_count": null,
      "outputs": []
    },
    {
      "cell_type": "code",
      "metadata": {
        "colab": {
          "base_uri": "https://localhost:8080/"
        },
        "id": "wN3LuTTjzeP3",
        "outputId": "05e1a808-22f7-45b8-e8cb-a12d35c413be"
      },
      "source": [
        "X_train.info()"
      ],
      "execution_count": null,
      "outputs": [
        {
          "output_type": "stream",
          "text": [
            "<class 'pandas.core.frame.DataFrame'>\n",
            "Int64Index: 7548 entries, 6489 to 2589\n",
            "Data columns (total 24 columns):\n",
            " #   Column                              Non-Null Count  Dtype  \n",
            "---  ------                              --------------  -----  \n",
            " 0   business_code                       7548 non-null   int64  \n",
            " 1   cust_number                         7548 non-null   int64  \n",
            " 2   name_customer                       7548 non-null   int64  \n",
            " 3   doc_id                              7548 non-null   float64\n",
            " 4   invoice_currency                    7548 non-null   int64  \n",
            " 5   total_open_amount                   7548 non-null   float64\n",
            " 6   cust_payment_terms                  7548 non-null   int64  \n",
            " 7   invoice_id                          7548 non-null   float64\n",
            " 8   day_of_week_due                     7548 non-null   int64  \n",
            " 9   day_of_due_in_date                  7548 non-null   int64  \n",
            " 10  month_of_due_in_date                7548 non-null   int64  \n",
            " 11  year_of_due_in_date                 7548 non-null   int64  \n",
            " 12  day_of_week_document_create_date.1  7548 non-null   int64  \n",
            " 13  day_of_document_create_date.1       7548 non-null   int64  \n",
            " 14  month_of_document_create_date.1     7548 non-null   int64  \n",
            " 15  year_of_document_create_date.1      7548 non-null   int64  \n",
            " 16  day_of_week                         7548 non-null   int64  \n",
            " 17  day_of_posting_date                 7548 non-null   int64  \n",
            " 18  month_of_posting_date               7548 non-null   int64  \n",
            " 19  year_of_posting_date                7548 non-null   int64  \n",
            " 20  day_of_week_document_create_date    7548 non-null   int64  \n",
            " 21  day_of_document_create_date         7548 non-null   int64  \n",
            " 22  month_of_document_create_date       7548 non-null   int64  \n",
            " 23  year_of_document_create_date_date   7548 non-null   int64  \n",
            "dtypes: float64(3), int64(21)\n",
            "memory usage: 1.4 MB\n"
          ],
          "name": "stdout"
        }
      ]
    },
    {
      "cell_type": "code",
      "metadata": {
        "colab": {
          "base_uri": "https://localhost:8080/"
        },
        "id": "iWPsn5GNzeP3",
        "outputId": "7471d084-f400-4557-ad81-23a47accc320"
      },
      "source": [
        "X_val.info()"
      ],
      "execution_count": null,
      "outputs": [
        {
          "output_type": "stream",
          "text": [
            "<class 'pandas.core.frame.DataFrame'>\n",
            "Int64Index: 1618 entries, 7271 to 4270\n",
            "Data columns (total 24 columns):\n",
            " #   Column                              Non-Null Count  Dtype  \n",
            "---  ------                              --------------  -----  \n",
            " 0   business_code                       1618 non-null   int64  \n",
            " 1   cust_number                         1618 non-null   int64  \n",
            " 2   name_customer                       1618 non-null   int64  \n",
            " 3   doc_id                              1618 non-null   float64\n",
            " 4   invoice_currency                    1618 non-null   int64  \n",
            " 5   total_open_amount                   1618 non-null   float64\n",
            " 6   cust_payment_terms                  1618 non-null   int64  \n",
            " 7   invoice_id                          1618 non-null   float64\n",
            " 8   day_of_week_due                     1618 non-null   int64  \n",
            " 9   day_of_due_in_date                  1618 non-null   int64  \n",
            " 10  month_of_due_in_date                1618 non-null   int64  \n",
            " 11  year_of_due_in_date                 1618 non-null   int64  \n",
            " 12  day_of_week_document_create_date.1  1618 non-null   int64  \n",
            " 13  day_of_document_create_date.1       1618 non-null   int64  \n",
            " 14  month_of_document_create_date.1     1618 non-null   int64  \n",
            " 15  year_of_document_create_date.1      1618 non-null   int64  \n",
            " 16  day_of_week                         1618 non-null   int64  \n",
            " 17  day_of_posting_date                 1618 non-null   int64  \n",
            " 18  month_of_posting_date               1618 non-null   int64  \n",
            " 19  year_of_posting_date                1618 non-null   int64  \n",
            " 20  day_of_week_document_create_date    1618 non-null   int64  \n",
            " 21  day_of_document_create_date         1618 non-null   int64  \n",
            " 22  month_of_document_create_date       1618 non-null   int64  \n",
            " 23  year_of_document_create_date        1618 non-null   int64  \n",
            "dtypes: float64(3), int64(21)\n",
            "memory usage: 316.0 KB\n"
          ],
          "name": "stdout"
        }
      ]
    },
    {
      "cell_type": "code",
      "metadata": {
        "id": "_kG2lmq7zeP4"
      },
      "source": [
        "X_val = X_val.rename(columns={\"year_of_document_create_date\": \"year_of_document_create_date_date\"})\n",
        "X_test = X_test.rename(columns={\"year_of_document_create_date\": \"year_of_document_create_date_date\"})"
      ],
      "execution_count": null,
      "outputs": []
    },
    {
      "cell_type": "markdown",
      "metadata": {
        "id": "i8bJgnRNrp6R"
      },
      "source": [
        "**TREE BASED MODEL**"
      ]
    },
    {
      "cell_type": "code",
      "metadata": {
        "id": "5YEiv_wQr8JC"
      },
      "source": [
        "from sklearn.tree import DecisionTreeRegressor\n"
      ],
      "execution_count": null,
      "outputs": []
    },
    {
      "cell_type": "code",
      "metadata": {
        "id": "hr3cPu80umdK"
      },
      "source": [
        "regressor = DecisionTreeRegressor(random_state=42 , max_depth=5, min_samples_split=3)"
      ],
      "execution_count": null,
      "outputs": []
    },
    {
      "cell_type": "code",
      "metadata": {
        "colab": {
          "base_uri": "https://localhost:8080/"
        },
        "id": "ObZp_8jksBBp",
        "outputId": "e88990f5-c98c-41f1-a9bf-425cb284729d"
      },
      "source": [
        "regressor.fit(X_train, y_train)"
      ],
      "execution_count": null,
      "outputs": [
        {
          "output_type": "execute_result",
          "data": {
            "text/plain": [
              "DecisionTreeRegressor(ccp_alpha=0.0, criterion='mse', max_depth=5,\n",
              "                      max_features=None, max_leaf_nodes=None,\n",
              "                      min_impurity_decrease=0.0, min_impurity_split=None,\n",
              "                      min_samples_leaf=1, min_samples_split=3,\n",
              "                      min_weight_fraction_leaf=0.0, presort='deprecated',\n",
              "                      random_state=42, splitter='best')"
            ]
          },
          "metadata": {
            "tags": []
          },
          "execution_count": 58
        }
      ]
    },
    {
      "cell_type": "code",
      "metadata": {
        "id": "te82AM5JsFFj"
      },
      "source": [
        "y_predict2 = regressor.predict(X_val)"
      ],
      "execution_count": null,
      "outputs": []
    },
    {
      "cell_type": "code",
      "metadata": {
        "colab": {
          "base_uri": "https://localhost:8080/"
        },
        "id": "NJDvN2sssI52",
        "outputId": "57a2ebd2-795e-4449-baba-9109252c32ef"
      },
      "source": [
        "mean_squared_error(y_val, y_predict2, squared=False)"
      ],
      "execution_count": null,
      "outputs": [
        {
          "output_type": "execute_result",
          "data": {
            "text/plain": [
              "5.85370077461762"
            ]
          },
          "metadata": {
            "tags": []
          },
          "execution_count": 60
        }
      ]
    },
    {
      "cell_type": "code",
      "metadata": {
        "colab": {
          "base_uri": "https://localhost:8080/"
        },
        "id": "dJ9fvYfMzeP6",
        "outputId": "09944f90-780c-4837-cbd4-bf8c54693bcf"
      },
      "source": [
        "y_predict_test = regressor.predict(X_test)\n",
        "mean_squared_error(y_test, y_predict_test, squared=False)"
      ],
      "execution_count": null,
      "outputs": [
        {
          "output_type": "execute_result",
          "data": {
            "text/plain": [
              "7.337345401373267"
            ]
          },
          "metadata": {
            "tags": []
          },
          "execution_count": 61
        }
      ]
    },
    {
      "cell_type": "markdown",
      "metadata": {
        "id": "G-LSind31Opo"
      },
      "source": [
        "**XGBOOST MODEL**"
      ]
    },
    {
      "cell_type": "code",
      "metadata": {
        "colab": {
          "base_uri": "https://localhost:8080/"
        },
        "id": "e590mE5LzeP7",
        "outputId": "47967375-a59d-49df-c6d1-25f5a27a7c28"
      },
      "source": [
        "import xgboost as xgb\n",
        "xgb_model = xgb.XGBRegressor(learning_rate=0.09,random_state=42,objective='reg:squarederror')\n",
        "xgb_model.fit(X_train,y_train)"
      ],
      "execution_count": null,
      "outputs": [
        {
          "output_type": "execute_result",
          "data": {
            "text/plain": [
              "XGBRegressor(base_score=0.5, booster='gbtree', colsample_bylevel=1,\n",
              "             colsample_bynode=1, colsample_bytree=1, gamma=0,\n",
              "             importance_type='gain', learning_rate=0.09, max_delta_step=0,\n",
              "             max_depth=3, min_child_weight=1, missing=None, n_estimators=100,\n",
              "             n_jobs=1, nthread=None, objective='reg:squarederror',\n",
              "             random_state=42, reg_alpha=0, reg_lambda=1, scale_pos_weight=1,\n",
              "             seed=None, silent=None, subsample=1, verbosity=1)"
            ]
          },
          "metadata": {
            "tags": []
          },
          "execution_count": 62
        }
      ]
    },
    {
      "cell_type": "code",
      "metadata": {
        "colab": {
          "base_uri": "https://localhost:8080/"
        },
        "id": "lmqX1LPozeP8",
        "outputId": "5e0977d7-280f-4d3b-ef6f-17a32480666d"
      },
      "source": [
        "y_pred1 = xgb_model.predict(X_val)\n",
        "mean_squared_error(y_val, y_pred1, squared=False)"
      ],
      "execution_count": null,
      "outputs": [
        {
          "output_type": "execute_result",
          "data": {
            "text/plain": [
              "5.6783479052855546"
            ]
          },
          "metadata": {
            "tags": []
          },
          "execution_count": 63
        }
      ]
    },
    {
      "cell_type": "code",
      "metadata": {
        "colab": {
          "base_uri": "https://localhost:8080/"
        },
        "id": "r_fKYnZdzeP-",
        "outputId": "bd7b8c75-4493-4754-a4aa-91edfa346559"
      },
      "source": [
        "y_pred1 = xgb_model.predict(X_test)\n",
        "mean_squared_error(y_val, y_pred1, squared=False)"
      ],
      "execution_count": null,
      "outputs": [
        {
          "output_type": "execute_result",
          "data": {
            "text/plain": [
              "9.38906100102032"
            ]
          },
          "metadata": {
            "tags": []
          },
          "execution_count": 64
        }
      ]
    },
    {
      "cell_type": "markdown",
      "metadata": {
        "id": "5SYnzjMf1U47"
      },
      "source": [
        "**RANDOMFOREST REGRESSOR**"
      ]
    },
    {
      "cell_type": "code",
      "metadata": {
        "colab": {
          "base_uri": "https://localhost:8080/"
        },
        "id": "Mr3MCktHzeQA",
        "outputId": "8c80c9ac-6324-47b6-e470-bf0205088883"
      },
      "source": [
        "from sklearn.ensemble import RandomForestRegressor\n",
        "regr = RandomForestRegressor(random_state=0)\n",
        "regr.fit(X_train, y_train)"
      ],
      "execution_count": null,
      "outputs": [
        {
          "output_type": "execute_result",
          "data": {
            "text/plain": [
              "RandomForestRegressor(bootstrap=True, ccp_alpha=0.0, criterion='mse',\n",
              "                      max_depth=None, max_features='auto', max_leaf_nodes=None,\n",
              "                      max_samples=None, min_impurity_decrease=0.0,\n",
              "                      min_impurity_split=None, min_samples_leaf=1,\n",
              "                      min_samples_split=2, min_weight_fraction_leaf=0.0,\n",
              "                      n_estimators=100, n_jobs=None, oob_score=False,\n",
              "                      random_state=0, verbose=0, warm_start=False)"
            ]
          },
          "metadata": {
            "tags": []
          },
          "execution_count": 65
        }
      ]
    },
    {
      "cell_type": "code",
      "metadata": {
        "colab": {
          "base_uri": "https://localhost:8080/"
        },
        "id": "rBGeTOm5zeQB",
        "outputId": "69e7034b-cc93-41e4-bdec-923f6abe9b69"
      },
      "source": [
        "y_pred1 = regr.predict(X_val)\n",
        "mean_squared_error(y_val, y_pred1, squared=False)"
      ],
      "execution_count": null,
      "outputs": [
        {
          "output_type": "execute_result",
          "data": {
            "text/plain": [
              "6.421875022218112"
            ]
          },
          "metadata": {
            "tags": []
          },
          "execution_count": 66
        }
      ]
    },
    {
      "cell_type": "code",
      "metadata": {
        "colab": {
          "base_uri": "https://localhost:8080/"
        },
        "id": "HLjFq9RUzeQB",
        "outputId": "fd7b28ef-3672-4f70-efba-9da4b697f964"
      },
      "source": [
        "y_pred1 = regr.predict(X_test)\n",
        "mean_squared_error(y_test, y_pred1, squared=False)"
      ],
      "execution_count": null,
      "outputs": [
        {
          "output_type": "execute_result",
          "data": {
            "text/plain": [
              "7.978680457430286"
            ]
          },
          "metadata": {
            "tags": []
          },
          "execution_count": 67
        }
      ]
    },
    {
      "cell_type": "markdown",
      "metadata": {
        "id": "rCWdtWljtzc7"
      },
      "source": [
        "#WORKING WITH THE TEST_DATASET"
      ]
    },
    {
      "cell_type": "markdown",
      "metadata": {
        "id": "rgBrWEQUHm0u"
      },
      "source": [
        "1.PREPROCESSING \n",
        "2.DROPPING CLEAR_DATE COL\n",
        "3.ENCODERS TO MAP "
      ]
    },
    {
      "cell_type": "code",
      "metadata": {
        "colab": {
          "base_uri": "https://localhost:8080/",
          "height": 445
        },
        "id": "iOnXVFUUt4D6",
        "outputId": "a5817d09-bee4-4664-c1b4-60e1c66571f0"
      },
      "source": [
        "test_dataset"
      ],
      "execution_count": null,
      "outputs": [
        {
          "output_type": "execute_result",
          "data": {
            "text/html": [
              "<div>\n",
              "<style scoped>\n",
              "    .dataframe tbody tr th:only-of-type {\n",
              "        vertical-align: middle;\n",
              "    }\n",
              "\n",
              "    .dataframe tbody tr th {\n",
              "        vertical-align: top;\n",
              "    }\n",
              "\n",
              "    .dataframe thead th {\n",
              "        text-align: right;\n",
              "    }\n",
              "</style>\n",
              "<table border=\"1\" class=\"dataframe\">\n",
              "  <thead>\n",
              "    <tr style=\"text-align: right;\">\n",
              "      <th></th>\n",
              "      <th>business_code</th>\n",
              "      <th>cust_number</th>\n",
              "      <th>name_customer</th>\n",
              "      <th>clear_date</th>\n",
              "      <th>buisness_year</th>\n",
              "      <th>doc_id</th>\n",
              "      <th>posting_date</th>\n",
              "      <th>document_create_date</th>\n",
              "      <th>document_create_date.1</th>\n",
              "      <th>due_in_date</th>\n",
              "      <th>invoice_currency</th>\n",
              "      <th>document type</th>\n",
              "      <th>posting_id</th>\n",
              "      <th>total_open_amount</th>\n",
              "      <th>cust_payment_terms</th>\n",
              "      <th>invoice_id</th>\n",
              "      <th>isOpen</th>\n",
              "    </tr>\n",
              "  </thead>\n",
              "  <tbody>\n",
              "    <tr>\n",
              "      <th>0</th>\n",
              "      <td>1</td>\n",
              "      <td>505</td>\n",
              "      <td>308</td>\n",
              "      <td>NaN</td>\n",
              "      <td>2</td>\n",
              "      <td>1.930629e+09</td>\n",
              "      <td>2020-03-11</td>\n",
              "      <td>20200310</td>\n",
              "      <td>20200311</td>\n",
              "      <td>20200326.0</td>\n",
              "      <td>1</td>\n",
              "      <td>RV</td>\n",
              "      <td>1.0</td>\n",
              "      <td>7901.99</td>\n",
              "      <td>21</td>\n",
              "      <td>1.930629e+09</td>\n",
              "      <td>1.0</td>\n",
              "    </tr>\n",
              "    <tr>\n",
              "      <th>6</th>\n",
              "      <td>1</td>\n",
              "      <td>520</td>\n",
              "      <td>2062</td>\n",
              "      <td>NaN</td>\n",
              "      <td>2</td>\n",
              "      <td>1.930710e+09</td>\n",
              "      <td>2020-03-28</td>\n",
              "      <td>20200327</td>\n",
              "      <td>20200328</td>\n",
              "      <td>20200412.0</td>\n",
              "      <td>1</td>\n",
              "      <td>RV</td>\n",
              "      <td>1.0</td>\n",
              "      <td>20271.96</td>\n",
              "      <td>29</td>\n",
              "      <td>1.930710e+09</td>\n",
              "      <td>1.0</td>\n",
              "    </tr>\n",
              "    <tr>\n",
              "      <th>16</th>\n",
              "      <td>1</td>\n",
              "      <td>520</td>\n",
              "      <td>2070</td>\n",
              "      <td>NaN</td>\n",
              "      <td>2</td>\n",
              "      <td>1.930604e+09</td>\n",
              "      <td>2020-03-06</td>\n",
              "      <td>20200304</td>\n",
              "      <td>20200306</td>\n",
              "      <td>20200321.0</td>\n",
              "      <td>1</td>\n",
              "      <td>RV</td>\n",
              "      <td>1.0</td>\n",
              "      <td>9731.38</td>\n",
              "      <td>29</td>\n",
              "      <td>1.930604e+09</td>\n",
              "      <td>1.0</td>\n",
              "    </tr>\n",
              "    <tr>\n",
              "      <th>21</th>\n",
              "      <td>1</td>\n",
              "      <td>505</td>\n",
              "      <td>303</td>\n",
              "      <td>NaN</td>\n",
              "      <td>2</td>\n",
              "      <td>1.930701e+09</td>\n",
              "      <td>2020-03-25</td>\n",
              "      <td>20200325</td>\n",
              "      <td>20200325</td>\n",
              "      <td>20200409.0</td>\n",
              "      <td>1</td>\n",
              "      <td>RV</td>\n",
              "      <td>1.0</td>\n",
              "      <td>72568.88</td>\n",
              "      <td>21</td>\n",
              "      <td>1.930701e+09</td>\n",
              "      <td>1.0</td>\n",
              "    </tr>\n",
              "    <tr>\n",
              "      <th>22</th>\n",
              "      <td>1</td>\n",
              "      <td>520</td>\n",
              "      <td>2070</td>\n",
              "      <td>NaN</td>\n",
              "      <td>2</td>\n",
              "      <td>1.930699e+09</td>\n",
              "      <td>2020-03-25</td>\n",
              "      <td>20200325</td>\n",
              "      <td>20200325</td>\n",
              "      <td>20200409.0</td>\n",
              "      <td>1</td>\n",
              "      <td>RV</td>\n",
              "      <td>1.0</td>\n",
              "      <td>20459.51</td>\n",
              "      <td>29</td>\n",
              "      <td>1.930699e+09</td>\n",
              "      <td>1.0</td>\n",
              "    </tr>\n",
              "    <tr>\n",
              "      <th>...</th>\n",
              "      <td>...</td>\n",
              "      <td>...</td>\n",
              "      <td>...</td>\n",
              "      <td>...</td>\n",
              "      <td>...</td>\n",
              "      <td>...</td>\n",
              "      <td>...</td>\n",
              "      <td>...</td>\n",
              "      <td>...</td>\n",
              "      <td>...</td>\n",
              "      <td>...</td>\n",
              "      <td>...</td>\n",
              "      <td>...</td>\n",
              "      <td>...</td>\n",
              "      <td>...</td>\n",
              "      <td>...</td>\n",
              "      <td>...</td>\n",
              "    </tr>\n",
              "    <tr>\n",
              "      <th>13404</th>\n",
              "      <td>1</td>\n",
              "      <td>520</td>\n",
              "      <td>2066</td>\n",
              "      <td>NaN</td>\n",
              "      <td>2</td>\n",
              "      <td>1.930818e+09</td>\n",
              "      <td>2020-04-23</td>\n",
              "      <td>20200423</td>\n",
              "      <td>20200423</td>\n",
              "      <td>20200508.0</td>\n",
              "      <td>1</td>\n",
              "      <td>RV</td>\n",
              "      <td>1.0</td>\n",
              "      <td>1717.34</td>\n",
              "      <td>29</td>\n",
              "      <td>1.930818e+09</td>\n",
              "      <td>1.0</td>\n",
              "    </tr>\n",
              "    <tr>\n",
              "      <th>13423</th>\n",
              "      <td>1</td>\n",
              "      <td>480</td>\n",
              "      <td>1921</td>\n",
              "      <td>NaN</td>\n",
              "      <td>2</td>\n",
              "      <td>1.930716e+09</td>\n",
              "      <td>2020-03-27</td>\n",
              "      <td>20200328</td>\n",
              "      <td>20200327</td>\n",
              "      <td>20200411.0</td>\n",
              "      <td>1</td>\n",
              "      <td>RV</td>\n",
              "      <td>1.0</td>\n",
              "      <td>33515.14</td>\n",
              "      <td>16</td>\n",
              "      <td>1.930716e+09</td>\n",
              "      <td>1.0</td>\n",
              "    </tr>\n",
              "    <tr>\n",
              "      <th>13426</th>\n",
              "      <td>0</td>\n",
              "      <td>236</td>\n",
              "      <td>2056</td>\n",
              "      <td>NaN</td>\n",
              "      <td>2</td>\n",
              "      <td>2.960622e+09</td>\n",
              "      <td>2020-03-21</td>\n",
              "      <td>20200321</td>\n",
              "      <td>20200321</td>\n",
              "      <td>20200331.0</td>\n",
              "      <td>0</td>\n",
              "      <td>RV</td>\n",
              "      <td>1.0</td>\n",
              "      <td>12918.11</td>\n",
              "      <td>4</td>\n",
              "      <td>2.960622e+09</td>\n",
              "      <td>1.0</td>\n",
              "    </tr>\n",
              "    <tr>\n",
              "      <th>13431</th>\n",
              "      <td>1</td>\n",
              "      <td>278</td>\n",
              "      <td>551</td>\n",
              "      <td>NaN</td>\n",
              "      <td>2</td>\n",
              "      <td>1.930709e+09</td>\n",
              "      <td>2020-03-26</td>\n",
              "      <td>20200326</td>\n",
              "      <td>20200326</td>\n",
              "      <td>20200410.0</td>\n",
              "      <td>1</td>\n",
              "      <td>RV</td>\n",
              "      <td>1.0</td>\n",
              "      <td>10454.77</td>\n",
              "      <td>16</td>\n",
              "      <td>1.930709e+09</td>\n",
              "      <td>1.0</td>\n",
              "    </tr>\n",
              "    <tr>\n",
              "      <th>13444</th>\n",
              "      <td>0</td>\n",
              "      <td>193</td>\n",
              "      <td>1153</td>\n",
              "      <td>NaN</td>\n",
              "      <td>2</td>\n",
              "      <td>2.960619e+09</td>\n",
              "      <td>2020-03-05</td>\n",
              "      <td>20200305</td>\n",
              "      <td>20200305</td>\n",
              "      <td>20200319.0</td>\n",
              "      <td>0</td>\n",
              "      <td>RV</td>\n",
              "      <td>1.0</td>\n",
              "      <td>73720.90</td>\n",
              "      <td>4</td>\n",
              "      <td>2.960619e+09</td>\n",
              "      <td>1.0</td>\n",
              "    </tr>\n",
              "  </tbody>\n",
              "</table>\n",
              "<p>2670 rows × 17 columns</p>\n",
              "</div>"
            ],
            "text/plain": [
              "       business_code  cust_number  ...    invoice_id isOpen\n",
              "0                  1          505  ...  1.930629e+09    1.0\n",
              "6                  1          520  ...  1.930710e+09    1.0\n",
              "16                 1          520  ...  1.930604e+09    1.0\n",
              "21                 1          505  ...  1.930701e+09    1.0\n",
              "22                 1          520  ...  1.930699e+09    1.0\n",
              "...              ...          ...  ...           ...    ...\n",
              "13404              1          520  ...  1.930818e+09    1.0\n",
              "13423              1          480  ...  1.930716e+09    1.0\n",
              "13426              0          236  ...  2.960622e+09    1.0\n",
              "13431              1          278  ...  1.930709e+09    1.0\n",
              "13444              0          193  ...  2.960619e+09    1.0\n",
              "\n",
              "[2670 rows x 17 columns]"
            ]
          },
          "metadata": {
            "tags": []
          },
          "execution_count": 68
        }
      ]
    },
    {
      "cell_type": "markdown",
      "metadata": {
        "id": "5sYGXlEruuY8"
      },
      "source": [
        "**NULL/CONSTANT/DUPLICATE**"
      ]
    },
    {
      "cell_type": "code",
      "metadata": {
        "colab": {
          "base_uri": "https://localhost:8080/"
        },
        "id": "bN2BHD2duK2s",
        "outputId": "bbb83c05-5de9-4107-fda6-b6626e30fa67"
      },
      "source": [
        "test_dataset.isna().sum()"
      ],
      "execution_count": null,
      "outputs": [
        {
          "output_type": "execute_result",
          "data": {
            "text/plain": [
              "business_code                0\n",
              "cust_number                  0\n",
              "name_customer                0\n",
              "clear_date                2670\n",
              "buisness_year                0\n",
              "doc_id                       0\n",
              "posting_date                 0\n",
              "document_create_date         0\n",
              "document_create_date.1       0\n",
              "due_in_date                  0\n",
              "invoice_currency             0\n",
              "document type                0\n",
              "posting_id                   0\n",
              "total_open_amount            0\n",
              "cust_payment_terms           0\n",
              "invoice_id                   0\n",
              "isOpen                       0\n",
              "dtype: int64"
            ]
          },
          "metadata": {
            "tags": []
          },
          "execution_count": 69
        }
      ]
    },
    {
      "cell_type": "markdown",
      "metadata": {
        "id": "NWGa9b8s230C"
      },
      "source": [
        "**DROPPING CONSTANT FEATURES**"
      ]
    },
    {
      "cell_type": "code",
      "metadata": {
        "colab": {
          "base_uri": "https://localhost:8080/"
        },
        "id": "Koks7Cx83HMk",
        "outputId": "5ad9f98a-d117-439c-d90b-66e4bf6745f5"
      },
      "source": [
        "const_feature = []\n",
        "uniq_val_count = []\n",
        "unique_cols = dict()\n",
        "for col in list(test_dataset.columns):\n",
        "    uniq_val_count.append(test_dataset[col].nunique())\n",
        "    if(test_dataset[col].nunique()==1):\n",
        "        const_feature.append(col)\n",
        "    \n",
        "print('\\n\\n\\nConstant Features are   :',const_feature)\n",
        "print('\\n\\nALL FEATURES WITH UNIQUE VALUES : \\n')\n",
        "pd.DataFrame({'COLUMN NAMES':list(test_dataset.columns) ,'UNIQUE VALUES COUNT':uniq_val_count})\n",
        "\n",
        "# Removing the constant feature\n",
        "test_dataset=test_dataset.drop(columns=const_feature)"
      ],
      "execution_count": null,
      "outputs": [
        {
          "output_type": "stream",
          "text": [
            "\n",
            "\n",
            "\n",
            "Constant Features are   : ['buisness_year', 'document type', 'posting_id', 'isOpen']\n",
            "\n",
            "\n",
            "ALL FEATURES WITH UNIQUE VALUES : \n",
            "\n"
          ],
          "name": "stdout"
        }
      ]
    },
    {
      "cell_type": "code",
      "metadata": {
        "colab": {
          "base_uri": "https://localhost:8080/"
        },
        "id": "-BNDGjaa3pxT",
        "outputId": "33def55d-1095-4429-8664-743e93fc134c"
      },
      "source": [
        "test_dataset.info()"
      ],
      "execution_count": null,
      "outputs": [
        {
          "output_type": "stream",
          "text": [
            "<class 'pandas.core.frame.DataFrame'>\n",
            "Int64Index: 2670 entries, 0 to 13444\n",
            "Data columns (total 13 columns):\n",
            " #   Column                  Non-Null Count  Dtype  \n",
            "---  ------                  --------------  -----  \n",
            " 0   business_code           2670 non-null   int64  \n",
            " 1   cust_number             2670 non-null   int64  \n",
            " 2   name_customer           2670 non-null   int64  \n",
            " 3   clear_date              0 non-null      object \n",
            " 4   doc_id                  2670 non-null   float64\n",
            " 5   posting_date            2670 non-null   object \n",
            " 6   document_create_date    2670 non-null   int64  \n",
            " 7   document_create_date.1  2670 non-null   int64  \n",
            " 8   due_in_date             2670 non-null   float64\n",
            " 9   invoice_currency        2670 non-null   int64  \n",
            " 10  total_open_amount       2670 non-null   float64\n",
            " 11  cust_payment_terms      2670 non-null   int64  \n",
            " 12  invoice_id              2670 non-null   float64\n",
            "dtypes: float64(4), int64(7), object(2)\n",
            "memory usage: 292.0+ KB\n"
          ],
          "name": "stdout"
        }
      ]
    },
    {
      "cell_type": "code",
      "metadata": {
        "id": "OXj6xe_ru6mE"
      },
      "source": [
        "X_test_dataset = test_dataset.drop(['clear_date'],axis=1)#drop clear_date to predict it\n",
        "X_test_dataset\n",
        "\n",
        "#  DROP clear_date FROM MAIN TEST ITSELF\n",
        "test_dataset.drop(['clear_date'], inplace =True,axis=1)"
      ],
      "execution_count": null,
      "outputs": []
    },
    {
      "cell_type": "code",
      "metadata": {
        "id": "tkvDJyt9vQdO"
      },
      "source": [
        "X_test_dataset['posting_date']=pd.to_datetime(test_dataset['posting_date'])\n",
        "X_test_dataset['due_in_date']=pd.to_datetime(test_dataset['due_in_date'],format='%Y%m%d')\n",
        "X_test_dataset['document_create_date']=pd.to_datetime(test_dataset['document_create_date'],format='%Y%m%d')\n",
        "X_test_dataset['document_create_date.1']=pd.to_datetime(test_dataset['document_create_date.1'],format='%Y%m%d')"
      ],
      "execution_count": null,
      "outputs": []
    },
    {
      "cell_type": "code",
      "metadata": {
        "colab": {
          "base_uri": "https://localhost:8080/",
          "height": 428
        },
        "id": "Rb8H3k3RzmPn",
        "outputId": "80604a4e-72a3-41a7-9cdf-435c85135a9b"
      },
      "source": [
        "test_dataset"
      ],
      "execution_count": null,
      "outputs": [
        {
          "output_type": "execute_result",
          "data": {
            "text/html": [
              "<div>\n",
              "<style scoped>\n",
              "    .dataframe tbody tr th:only-of-type {\n",
              "        vertical-align: middle;\n",
              "    }\n",
              "\n",
              "    .dataframe tbody tr th {\n",
              "        vertical-align: top;\n",
              "    }\n",
              "\n",
              "    .dataframe thead th {\n",
              "        text-align: right;\n",
              "    }\n",
              "</style>\n",
              "<table border=\"1\" class=\"dataframe\">\n",
              "  <thead>\n",
              "    <tr style=\"text-align: right;\">\n",
              "      <th></th>\n",
              "      <th>business_code</th>\n",
              "      <th>cust_number</th>\n",
              "      <th>name_customer</th>\n",
              "      <th>doc_id</th>\n",
              "      <th>posting_date</th>\n",
              "      <th>document_create_date</th>\n",
              "      <th>document_create_date.1</th>\n",
              "      <th>due_in_date</th>\n",
              "      <th>invoice_currency</th>\n",
              "      <th>total_open_amount</th>\n",
              "      <th>cust_payment_terms</th>\n",
              "      <th>invoice_id</th>\n",
              "    </tr>\n",
              "  </thead>\n",
              "  <tbody>\n",
              "    <tr>\n",
              "      <th>0</th>\n",
              "      <td>1</td>\n",
              "      <td>505</td>\n",
              "      <td>308</td>\n",
              "      <td>1.930629e+09</td>\n",
              "      <td>2020-03-11</td>\n",
              "      <td>20200310</td>\n",
              "      <td>20200311</td>\n",
              "      <td>20200326.0</td>\n",
              "      <td>1</td>\n",
              "      <td>7901.99</td>\n",
              "      <td>21</td>\n",
              "      <td>1.930629e+09</td>\n",
              "    </tr>\n",
              "    <tr>\n",
              "      <th>6</th>\n",
              "      <td>1</td>\n",
              "      <td>520</td>\n",
              "      <td>2062</td>\n",
              "      <td>1.930710e+09</td>\n",
              "      <td>2020-03-28</td>\n",
              "      <td>20200327</td>\n",
              "      <td>20200328</td>\n",
              "      <td>20200412.0</td>\n",
              "      <td>1</td>\n",
              "      <td>20271.96</td>\n",
              "      <td>29</td>\n",
              "      <td>1.930710e+09</td>\n",
              "    </tr>\n",
              "    <tr>\n",
              "      <th>16</th>\n",
              "      <td>1</td>\n",
              "      <td>520</td>\n",
              "      <td>2070</td>\n",
              "      <td>1.930604e+09</td>\n",
              "      <td>2020-03-06</td>\n",
              "      <td>20200304</td>\n",
              "      <td>20200306</td>\n",
              "      <td>20200321.0</td>\n",
              "      <td>1</td>\n",
              "      <td>9731.38</td>\n",
              "      <td>29</td>\n",
              "      <td>1.930604e+09</td>\n",
              "    </tr>\n",
              "    <tr>\n",
              "      <th>21</th>\n",
              "      <td>1</td>\n",
              "      <td>505</td>\n",
              "      <td>303</td>\n",
              "      <td>1.930701e+09</td>\n",
              "      <td>2020-03-25</td>\n",
              "      <td>20200325</td>\n",
              "      <td>20200325</td>\n",
              "      <td>20200409.0</td>\n",
              "      <td>1</td>\n",
              "      <td>72568.88</td>\n",
              "      <td>21</td>\n",
              "      <td>1.930701e+09</td>\n",
              "    </tr>\n",
              "    <tr>\n",
              "      <th>22</th>\n",
              "      <td>1</td>\n",
              "      <td>520</td>\n",
              "      <td>2070</td>\n",
              "      <td>1.930699e+09</td>\n",
              "      <td>2020-03-25</td>\n",
              "      <td>20200325</td>\n",
              "      <td>20200325</td>\n",
              "      <td>20200409.0</td>\n",
              "      <td>1</td>\n",
              "      <td>20459.51</td>\n",
              "      <td>29</td>\n",
              "      <td>1.930699e+09</td>\n",
              "    </tr>\n",
              "    <tr>\n",
              "      <th>...</th>\n",
              "      <td>...</td>\n",
              "      <td>...</td>\n",
              "      <td>...</td>\n",
              "      <td>...</td>\n",
              "      <td>...</td>\n",
              "      <td>...</td>\n",
              "      <td>...</td>\n",
              "      <td>...</td>\n",
              "      <td>...</td>\n",
              "      <td>...</td>\n",
              "      <td>...</td>\n",
              "      <td>...</td>\n",
              "    </tr>\n",
              "    <tr>\n",
              "      <th>13404</th>\n",
              "      <td>1</td>\n",
              "      <td>520</td>\n",
              "      <td>2066</td>\n",
              "      <td>1.930818e+09</td>\n",
              "      <td>2020-04-23</td>\n",
              "      <td>20200423</td>\n",
              "      <td>20200423</td>\n",
              "      <td>20200508.0</td>\n",
              "      <td>1</td>\n",
              "      <td>1717.34</td>\n",
              "      <td>29</td>\n",
              "      <td>1.930818e+09</td>\n",
              "    </tr>\n",
              "    <tr>\n",
              "      <th>13423</th>\n",
              "      <td>1</td>\n",
              "      <td>480</td>\n",
              "      <td>1921</td>\n",
              "      <td>1.930716e+09</td>\n",
              "      <td>2020-03-27</td>\n",
              "      <td>20200328</td>\n",
              "      <td>20200327</td>\n",
              "      <td>20200411.0</td>\n",
              "      <td>1</td>\n",
              "      <td>33515.14</td>\n",
              "      <td>16</td>\n",
              "      <td>1.930716e+09</td>\n",
              "    </tr>\n",
              "    <tr>\n",
              "      <th>13426</th>\n",
              "      <td>0</td>\n",
              "      <td>236</td>\n",
              "      <td>2056</td>\n",
              "      <td>2.960622e+09</td>\n",
              "      <td>2020-03-21</td>\n",
              "      <td>20200321</td>\n",
              "      <td>20200321</td>\n",
              "      <td>20200331.0</td>\n",
              "      <td>0</td>\n",
              "      <td>12918.11</td>\n",
              "      <td>4</td>\n",
              "      <td>2.960622e+09</td>\n",
              "    </tr>\n",
              "    <tr>\n",
              "      <th>13431</th>\n",
              "      <td>1</td>\n",
              "      <td>278</td>\n",
              "      <td>551</td>\n",
              "      <td>1.930709e+09</td>\n",
              "      <td>2020-03-26</td>\n",
              "      <td>20200326</td>\n",
              "      <td>20200326</td>\n",
              "      <td>20200410.0</td>\n",
              "      <td>1</td>\n",
              "      <td>10454.77</td>\n",
              "      <td>16</td>\n",
              "      <td>1.930709e+09</td>\n",
              "    </tr>\n",
              "    <tr>\n",
              "      <th>13444</th>\n",
              "      <td>0</td>\n",
              "      <td>193</td>\n",
              "      <td>1153</td>\n",
              "      <td>2.960619e+09</td>\n",
              "      <td>2020-03-05</td>\n",
              "      <td>20200305</td>\n",
              "      <td>20200305</td>\n",
              "      <td>20200319.0</td>\n",
              "      <td>0</td>\n",
              "      <td>73720.90</td>\n",
              "      <td>4</td>\n",
              "      <td>2.960619e+09</td>\n",
              "    </tr>\n",
              "  </tbody>\n",
              "</table>\n",
              "<p>2670 rows × 12 columns</p>\n",
              "</div>"
            ],
            "text/plain": [
              "       business_code  cust_number  ...  cust_payment_terms    invoice_id\n",
              "0                  1          505  ...                  21  1.930629e+09\n",
              "6                  1          520  ...                  29  1.930710e+09\n",
              "16                 1          520  ...                  29  1.930604e+09\n",
              "21                 1          505  ...                  21  1.930701e+09\n",
              "22                 1          520  ...                  29  1.930699e+09\n",
              "...              ...          ...  ...                 ...           ...\n",
              "13404              1          520  ...                  29  1.930818e+09\n",
              "13423              1          480  ...                  16  1.930716e+09\n",
              "13426              0          236  ...                   4  2.960622e+09\n",
              "13431              1          278  ...                  16  1.930709e+09\n",
              "13444              0          193  ...                   4  2.960619e+09\n",
              "\n",
              "[2670 rows x 12 columns]"
            ]
          },
          "metadata": {
            "tags": []
          },
          "execution_count": 74
        }
      ]
    },
    {
      "cell_type": "code",
      "metadata": {
        "colab": {
          "base_uri": "https://localhost:8080/"
        },
        "id": "Frr4o4GMxKKP",
        "outputId": "e241c2a7-a175-4e4f-81e1-e778c5884a40"
      },
      "source": [
        "test_dataset.info()"
      ],
      "execution_count": null,
      "outputs": [
        {
          "output_type": "stream",
          "text": [
            "<class 'pandas.core.frame.DataFrame'>\n",
            "Int64Index: 2670 entries, 0 to 13444\n",
            "Data columns (total 12 columns):\n",
            " #   Column                  Non-Null Count  Dtype  \n",
            "---  ------                  --------------  -----  \n",
            " 0   business_code           2670 non-null   int64  \n",
            " 1   cust_number             2670 non-null   int64  \n",
            " 2   name_customer           2670 non-null   int64  \n",
            " 3   doc_id                  2670 non-null   float64\n",
            " 4   posting_date            2670 non-null   object \n",
            " 5   document_create_date    2670 non-null   int64  \n",
            " 6   document_create_date.1  2670 non-null   int64  \n",
            " 7   due_in_date             2670 non-null   float64\n",
            " 8   invoice_currency        2670 non-null   int64  \n",
            " 9   total_open_amount       2670 non-null   float64\n",
            " 10  cust_payment_terms      2670 non-null   int64  \n",
            " 11  invoice_id              2670 non-null   float64\n",
            "dtypes: float64(4), int64(7), object(1)\n",
            "memory usage: 271.2+ KB\n"
          ],
          "name": "stdout"
        }
      ]
    },
    {
      "cell_type": "markdown",
      "metadata": {
        "id": "SqxQQbDP67o0"
      },
      "source": [
        "**LABEL ENCODING FOR TEST_DATASET DATES**"
      ]
    },
    {
      "cell_type": "code",
      "metadata": {
        "id": "CO4BZjif7Cgx"
      },
      "source": [
        "#due_in_date\n",
        "X_test_dataset['day_of_week_due_date'] = X_test_dataset['due_in_date'].dt.weekday \n",
        "X_test_dataset['day_of_due_date'] = X_test_dataset['due_in_date'].dt.day\n",
        "X_test_dataset['month_of_due_date'] = X_test_dataset['due_in_date'].dt.month\n",
        "X_test_dataset['year_of_due_date'] = X_test_dataset['due_in_date'].dt.year"
      ],
      "execution_count": null,
      "outputs": []
    },
    {
      "cell_type": "code",
      "metadata": {
        "id": "MF0BHmne-fY6"
      },
      "source": [
        "#posting_date\n",
        "X_test_dataset['day_of_week_posting_date'] = X_test_dataset['posting_date'].dt.weekday \n",
        "X_test_dataset['day_of_posting_date'] = X_test_dataset['posting_date'].dt.day\n",
        "X_test_dataset['month_of_posting_date'] = X_test_dataset['posting_date'].dt.month\n",
        "X_test_dataset['year_of_posting_date'] = X_test_dataset['posting_date'].dt.year"
      ],
      "execution_count": null,
      "outputs": []
    },
    {
      "cell_type": "code",
      "metadata": {
        "id": "2-KXFSvd-gmt"
      },
      "source": [
        "#document_create_date\n",
        "X_test_dataset['day_of_week_document_create_date'] = X_test_dataset['document_create_date'].dt.weekday \n",
        "X_test_dataset['day_of_document_create_date'] = X_test_dataset['document_create_date'].dt.day\n",
        "X_test_dataset['month_of_document_create_date'] = X_test_dataset['document_create_date'].dt.month\n",
        "X_test_dataset['year_of_document_create_date'] = X_test_dataset['document_create_date'].dt.year"
      ],
      "execution_count": null,
      "outputs": []
    },
    {
      "cell_type": "code",
      "metadata": {
        "id": "Ub80NSni-htg"
      },
      "source": [
        "#document_creat_date.1\n",
        "X_test_dataset['day_of_week_document_create_date.1'] = X_test_dataset['document_create_date.1'].dt.weekday \n",
        "X_test_dataset['day_of_document_create_date.1'] = X_test_dataset['document_create_date.1'].dt.day\n",
        "X_test_dataset['month_of_document_create_date.1'] = X_test_dataset['document_create_date.1'].dt.month\n",
        "X_test_dataset['year_of_document_create_date.1'] = X_test_dataset['document_create_date.1'].dt.year"
      ],
      "execution_count": null,
      "outputs": []
    },
    {
      "cell_type": "code",
      "metadata": {
        "id": "gloQpMeqA-eZ"
      },
      "source": [
        "X_test_dataset.drop(['due_in_date'],inplace =True ,axis=1)\n",
        "X_test_dataset.drop(['posting_date'],inplace =True ,axis=1)\n",
        "X_test_dataset.drop(['document_create_date'],inplace =True ,axis=1)\n",
        "X_test_dataset.drop(['document_create_date.1'],inplace =True ,axis=1)"
      ],
      "execution_count": null,
      "outputs": []
    },
    {
      "cell_type": "code",
      "metadata": {
        "colab": {
          "base_uri": "https://localhost:8080/"
        },
        "id": "ci-z4yfc-OWU",
        "outputId": "30ba5f28-fcbd-4f54-e6e7-fa5c9cc4e352"
      },
      "source": [
        "X_test_dataset.info()#converted the col into int/float"
      ],
      "execution_count": null,
      "outputs": [
        {
          "output_type": "stream",
          "text": [
            "<class 'pandas.core.frame.DataFrame'>\n",
            "Int64Index: 2670 entries, 0 to 13444\n",
            "Data columns (total 24 columns):\n",
            " #   Column                              Non-Null Count  Dtype  \n",
            "---  ------                              --------------  -----  \n",
            " 0   business_code                       2670 non-null   int64  \n",
            " 1   cust_number                         2670 non-null   int64  \n",
            " 2   name_customer                       2670 non-null   int64  \n",
            " 3   doc_id                              2670 non-null   float64\n",
            " 4   invoice_currency                    2670 non-null   int64  \n",
            " 5   total_open_amount                   2670 non-null   float64\n",
            " 6   cust_payment_terms                  2670 non-null   int64  \n",
            " 7   invoice_id                          2670 non-null   float64\n",
            " 8   day_of_week_due_date                2670 non-null   int64  \n",
            " 9   day_of_due_date                     2670 non-null   int64  \n",
            " 10  month_of_due_date                   2670 non-null   int64  \n",
            " 11  year_of_due_date                    2670 non-null   int64  \n",
            " 12  day_of_week_posting_date            2670 non-null   int64  \n",
            " 13  day_of_posting_date                 2670 non-null   int64  \n",
            " 14  month_of_posting_date               2670 non-null   int64  \n",
            " 15  year_of_posting_date                2670 non-null   int64  \n",
            " 16  day_of_week_document_create_date    2670 non-null   int64  \n",
            " 17  day_of_document_create_date         2670 non-null   int64  \n",
            " 18  month_of_document_create_date       2670 non-null   int64  \n",
            " 19  year_of_document_create_date        2670 non-null   int64  \n",
            " 20  day_of_week_document_create_date.1  2670 non-null   int64  \n",
            " 21  day_of_document_create_date.1       2670 non-null   int64  \n",
            " 22  month_of_document_create_date.1     2670 non-null   int64  \n",
            " 23  year_of_document_create_date.1      2670 non-null   int64  \n",
            "dtypes: float64(3), int64(21)\n",
            "memory usage: 521.5 KB\n"
          ],
          "name": "stdout"
        }
      ]
    },
    {
      "cell_type": "markdown",
      "metadata": {
        "id": "lBtfOY-wBvrl"
      },
      "source": [
        "**FINAL_PREDICTION**"
      ]
    },
    {
      "cell_type": "code",
      "metadata": {
        "id": "Q8gBBXG5BzO-"
      },
      "source": [
        "final_result = regressor.predict(X_test_dataset)#predict_it"
      ],
      "execution_count": null,
      "outputs": []
    },
    {
      "cell_type": "code",
      "metadata": {
        "id": "YC3HXvEggOQ0"
      },
      "source": [
        "final_result = pd.Series(final_result,name='delay')"
      ],
      "execution_count": null,
      "outputs": []
    },
    {
      "cell_type": "code",
      "metadata": {
        "id": "DYBmD1X_gWXy"
      },
      "source": [
        "test_dataset.reset_index(drop=True,inplace=True)\n",
        "#resetting the index of test_dataset so to merge clear_date"
      ],
      "execution_count": null,
      "outputs": []
    },
    {
      "cell_type": "code",
      "metadata": {
        "colab": {
          "base_uri": "https://localhost:8080/",
          "height": 428
        },
        "id": "qtUBdK4xgdq5",
        "outputId": "4cc65557-3ff3-4b8b-e283-44c70b0dc4cd"
      },
      "source": [
        "Final = test_dataset.merge(final_result , on = X_test_dataset.index )\n",
        "Final"
      ],
      "execution_count": null,
      "outputs": [
        {
          "output_type": "execute_result",
          "data": {
            "text/html": [
              "<div>\n",
              "<style scoped>\n",
              "    .dataframe tbody tr th:only-of-type {\n",
              "        vertical-align: middle;\n",
              "    }\n",
              "\n",
              "    .dataframe tbody tr th {\n",
              "        vertical-align: top;\n",
              "    }\n",
              "\n",
              "    .dataframe thead th {\n",
              "        text-align: right;\n",
              "    }\n",
              "</style>\n",
              "<table border=\"1\" class=\"dataframe\">\n",
              "  <thead>\n",
              "    <tr style=\"text-align: right;\">\n",
              "      <th></th>\n",
              "      <th>key_0</th>\n",
              "      <th>business_code</th>\n",
              "      <th>cust_number</th>\n",
              "      <th>name_customer</th>\n",
              "      <th>doc_id</th>\n",
              "      <th>posting_date</th>\n",
              "      <th>document_create_date</th>\n",
              "      <th>document_create_date.1</th>\n",
              "      <th>due_in_date</th>\n",
              "      <th>invoice_currency</th>\n",
              "      <th>total_open_amount</th>\n",
              "      <th>cust_payment_terms</th>\n",
              "      <th>invoice_id</th>\n",
              "      <th>delay</th>\n",
              "    </tr>\n",
              "  </thead>\n",
              "  <tbody>\n",
              "    <tr>\n",
              "      <th>0</th>\n",
              "      <td>0</td>\n",
              "      <td>1</td>\n",
              "      <td>505</td>\n",
              "      <td>308</td>\n",
              "      <td>1.930629e+09</td>\n",
              "      <td>2020-03-11</td>\n",
              "      <td>20200310</td>\n",
              "      <td>20200311</td>\n",
              "      <td>20200326.0</td>\n",
              "      <td>1</td>\n",
              "      <td>7901.99</td>\n",
              "      <td>21</td>\n",
              "      <td>1.930629e+09</td>\n",
              "      <td>-0.633600</td>\n",
              "    </tr>\n",
              "    <tr>\n",
              "      <th>1</th>\n",
              "      <td>6</td>\n",
              "      <td>1</td>\n",
              "      <td>520</td>\n",
              "      <td>2062</td>\n",
              "      <td>1.930710e+09</td>\n",
              "      <td>2020-03-28</td>\n",
              "      <td>20200327</td>\n",
              "      <td>20200328</td>\n",
              "      <td>20200412.0</td>\n",
              "      <td>1</td>\n",
              "      <td>20271.96</td>\n",
              "      <td>29</td>\n",
              "      <td>1.930710e+09</td>\n",
              "      <td>-1.949802</td>\n",
              "    </tr>\n",
              "    <tr>\n",
              "      <th>2</th>\n",
              "      <td>16</td>\n",
              "      <td>1</td>\n",
              "      <td>520</td>\n",
              "      <td>2070</td>\n",
              "      <td>1.930604e+09</td>\n",
              "      <td>2020-03-06</td>\n",
              "      <td>20200304</td>\n",
              "      <td>20200306</td>\n",
              "      <td>20200321.0</td>\n",
              "      <td>1</td>\n",
              "      <td>9731.38</td>\n",
              "      <td>29</td>\n",
              "      <td>1.930604e+09</td>\n",
              "      <td>-1.949802</td>\n",
              "    </tr>\n",
              "    <tr>\n",
              "      <th>3</th>\n",
              "      <td>21</td>\n",
              "      <td>1</td>\n",
              "      <td>505</td>\n",
              "      <td>303</td>\n",
              "      <td>1.930701e+09</td>\n",
              "      <td>2020-03-25</td>\n",
              "      <td>20200325</td>\n",
              "      <td>20200325</td>\n",
              "      <td>20200409.0</td>\n",
              "      <td>1</td>\n",
              "      <td>72568.88</td>\n",
              "      <td>21</td>\n",
              "      <td>1.930701e+09</td>\n",
              "      <td>-0.633600</td>\n",
              "    </tr>\n",
              "    <tr>\n",
              "      <th>4</th>\n",
              "      <td>22</td>\n",
              "      <td>1</td>\n",
              "      <td>520</td>\n",
              "      <td>2070</td>\n",
              "      <td>1.930699e+09</td>\n",
              "      <td>2020-03-25</td>\n",
              "      <td>20200325</td>\n",
              "      <td>20200325</td>\n",
              "      <td>20200409.0</td>\n",
              "      <td>1</td>\n",
              "      <td>20459.51</td>\n",
              "      <td>29</td>\n",
              "      <td>1.930699e+09</td>\n",
              "      <td>-1.949802</td>\n",
              "    </tr>\n",
              "    <tr>\n",
              "      <th>...</th>\n",
              "      <td>...</td>\n",
              "      <td>...</td>\n",
              "      <td>...</td>\n",
              "      <td>...</td>\n",
              "      <td>...</td>\n",
              "      <td>...</td>\n",
              "      <td>...</td>\n",
              "      <td>...</td>\n",
              "      <td>...</td>\n",
              "      <td>...</td>\n",
              "      <td>...</td>\n",
              "      <td>...</td>\n",
              "      <td>...</td>\n",
              "      <td>...</td>\n",
              "    </tr>\n",
              "    <tr>\n",
              "      <th>2665</th>\n",
              "      <td>13404</td>\n",
              "      <td>1</td>\n",
              "      <td>520</td>\n",
              "      <td>2066</td>\n",
              "      <td>1.930818e+09</td>\n",
              "      <td>2020-04-23</td>\n",
              "      <td>20200423</td>\n",
              "      <td>20200423</td>\n",
              "      <td>20200508.0</td>\n",
              "      <td>1</td>\n",
              "      <td>1717.34</td>\n",
              "      <td>29</td>\n",
              "      <td>1.930818e+09</td>\n",
              "      <td>-1.949802</td>\n",
              "    </tr>\n",
              "    <tr>\n",
              "      <th>2666</th>\n",
              "      <td>13423</td>\n",
              "      <td>1</td>\n",
              "      <td>480</td>\n",
              "      <td>1921</td>\n",
              "      <td>1.930716e+09</td>\n",
              "      <td>2020-03-27</td>\n",
              "      <td>20200328</td>\n",
              "      <td>20200327</td>\n",
              "      <td>20200411.0</td>\n",
              "      <td>1</td>\n",
              "      <td>33515.14</td>\n",
              "      <td>16</td>\n",
              "      <td>1.930716e+09</td>\n",
              "      <td>1.473992</td>\n",
              "    </tr>\n",
              "    <tr>\n",
              "      <th>2667</th>\n",
              "      <td>13426</td>\n",
              "      <td>0</td>\n",
              "      <td>236</td>\n",
              "      <td>2056</td>\n",
              "      <td>2.960622e+09</td>\n",
              "      <td>2020-03-21</td>\n",
              "      <td>20200321</td>\n",
              "      <td>20200321</td>\n",
              "      <td>20200331.0</td>\n",
              "      <td>0</td>\n",
              "      <td>12918.11</td>\n",
              "      <td>4</td>\n",
              "      <td>2.960622e+09</td>\n",
              "      <td>9.820225</td>\n",
              "    </tr>\n",
              "    <tr>\n",
              "      <th>2668</th>\n",
              "      <td>13431</td>\n",
              "      <td>1</td>\n",
              "      <td>278</td>\n",
              "      <td>551</td>\n",
              "      <td>1.930709e+09</td>\n",
              "      <td>2020-03-26</td>\n",
              "      <td>20200326</td>\n",
              "      <td>20200326</td>\n",
              "      <td>20200410.0</td>\n",
              "      <td>1</td>\n",
              "      <td>10454.77</td>\n",
              "      <td>16</td>\n",
              "      <td>1.930709e+09</td>\n",
              "      <td>1.473992</td>\n",
              "    </tr>\n",
              "    <tr>\n",
              "      <th>2669</th>\n",
              "      <td>13444</td>\n",
              "      <td>0</td>\n",
              "      <td>193</td>\n",
              "      <td>1153</td>\n",
              "      <td>2.960619e+09</td>\n",
              "      <td>2020-03-05</td>\n",
              "      <td>20200305</td>\n",
              "      <td>20200305</td>\n",
              "      <td>20200319.0</td>\n",
              "      <td>0</td>\n",
              "      <td>73720.90</td>\n",
              "      <td>4</td>\n",
              "      <td>2.960619e+09</td>\n",
              "      <td>2.776786</td>\n",
              "    </tr>\n",
              "  </tbody>\n",
              "</table>\n",
              "<p>2670 rows × 14 columns</p>\n",
              "</div>"
            ],
            "text/plain": [
              "      key_0  business_code  ...    invoice_id     delay\n",
              "0         0              1  ...  1.930629e+09 -0.633600\n",
              "1         6              1  ...  1.930710e+09 -1.949802\n",
              "2        16              1  ...  1.930604e+09 -1.949802\n",
              "3        21              1  ...  1.930701e+09 -0.633600\n",
              "4        22              1  ...  1.930699e+09 -1.949802\n",
              "...     ...            ...  ...           ...       ...\n",
              "2665  13404              1  ...  1.930818e+09 -1.949802\n",
              "2666  13423              1  ...  1.930716e+09  1.473992\n",
              "2667  13426              0  ...  2.960622e+09  9.820225\n",
              "2668  13431              1  ...  1.930709e+09  1.473992\n",
              "2669  13444              0  ...  2.960619e+09  2.776786\n",
              "\n",
              "[2670 rows x 14 columns]"
            ]
          },
          "metadata": {
            "tags": []
          },
          "execution_count": 85
        }
      ]
    },
    {
      "cell_type": "code",
      "metadata": {
        "id": "61AnYFJ0YTTQ"
      },
      "source": [
        "Final['delay']=Final['delay'].astype(int)#converting delay to int"
      ],
      "execution_count": null,
      "outputs": []
    },
    {
      "cell_type": "code",
      "metadata": {
        "colab": {
          "base_uri": "https://localhost:8080/"
        },
        "id": "GEf9SYE6bULh",
        "outputId": "07b1b377-67f6-49af-90a1-c073a46b7687"
      },
      "source": [
        "Final['delay'].value_counts()"
      ],
      "execution_count": null,
      "outputs": [
        {
          "output_type": "execute_result",
          "data": {
            "text/plain": [
              " 1     1113\n",
              "-1      983\n",
              " 0      238\n",
              " 2      140\n",
              " 9       64\n",
              "-7       42\n",
              " 7       34\n",
              "-37      20\n",
              " 19       9\n",
              " 45       6\n",
              " 35       5\n",
              " 39       4\n",
              " 50       3\n",
              " 32       3\n",
              " 51       2\n",
              " 33       1\n",
              " 76       1\n",
              " 30       1\n",
              " 57       1\n",
              "Name: delay, dtype: int64"
            ]
          },
          "metadata": {
            "tags": []
          },
          "execution_count": 87
        }
      ]
    },
    {
      "cell_type": "code",
      "metadata": {
        "colab": {
          "base_uri": "https://localhost:8080/",
          "height": 428
        },
        "id": "pHsA4FeIbtsu",
        "outputId": "f8bad487-f288-4d19-b7af-5010e8bdb727"
      },
      "source": [
        "Final['due_in_date']=pd.to_datetime(Final['due_in_date'],format='%Y%m%d')\n",
        "Final"
      ],
      "execution_count": null,
      "outputs": [
        {
          "output_type": "execute_result",
          "data": {
            "text/html": [
              "<div>\n",
              "<style scoped>\n",
              "    .dataframe tbody tr th:only-of-type {\n",
              "        vertical-align: middle;\n",
              "    }\n",
              "\n",
              "    .dataframe tbody tr th {\n",
              "        vertical-align: top;\n",
              "    }\n",
              "\n",
              "    .dataframe thead th {\n",
              "        text-align: right;\n",
              "    }\n",
              "</style>\n",
              "<table border=\"1\" class=\"dataframe\">\n",
              "  <thead>\n",
              "    <tr style=\"text-align: right;\">\n",
              "      <th></th>\n",
              "      <th>key_0</th>\n",
              "      <th>business_code</th>\n",
              "      <th>cust_number</th>\n",
              "      <th>name_customer</th>\n",
              "      <th>doc_id</th>\n",
              "      <th>posting_date</th>\n",
              "      <th>document_create_date</th>\n",
              "      <th>document_create_date.1</th>\n",
              "      <th>due_in_date</th>\n",
              "      <th>invoice_currency</th>\n",
              "      <th>total_open_amount</th>\n",
              "      <th>cust_payment_terms</th>\n",
              "      <th>invoice_id</th>\n",
              "      <th>delay</th>\n",
              "    </tr>\n",
              "  </thead>\n",
              "  <tbody>\n",
              "    <tr>\n",
              "      <th>0</th>\n",
              "      <td>0</td>\n",
              "      <td>1</td>\n",
              "      <td>505</td>\n",
              "      <td>308</td>\n",
              "      <td>1.930629e+09</td>\n",
              "      <td>2020-03-11</td>\n",
              "      <td>20200310</td>\n",
              "      <td>20200311</td>\n",
              "      <td>2020-03-26</td>\n",
              "      <td>1</td>\n",
              "      <td>7901.99</td>\n",
              "      <td>21</td>\n",
              "      <td>1.930629e+09</td>\n",
              "      <td>0</td>\n",
              "    </tr>\n",
              "    <tr>\n",
              "      <th>1</th>\n",
              "      <td>6</td>\n",
              "      <td>1</td>\n",
              "      <td>520</td>\n",
              "      <td>2062</td>\n",
              "      <td>1.930710e+09</td>\n",
              "      <td>2020-03-28</td>\n",
              "      <td>20200327</td>\n",
              "      <td>20200328</td>\n",
              "      <td>2020-04-12</td>\n",
              "      <td>1</td>\n",
              "      <td>20271.96</td>\n",
              "      <td>29</td>\n",
              "      <td>1.930710e+09</td>\n",
              "      <td>-1</td>\n",
              "    </tr>\n",
              "    <tr>\n",
              "      <th>2</th>\n",
              "      <td>16</td>\n",
              "      <td>1</td>\n",
              "      <td>520</td>\n",
              "      <td>2070</td>\n",
              "      <td>1.930604e+09</td>\n",
              "      <td>2020-03-06</td>\n",
              "      <td>20200304</td>\n",
              "      <td>20200306</td>\n",
              "      <td>2020-03-21</td>\n",
              "      <td>1</td>\n",
              "      <td>9731.38</td>\n",
              "      <td>29</td>\n",
              "      <td>1.930604e+09</td>\n",
              "      <td>-1</td>\n",
              "    </tr>\n",
              "    <tr>\n",
              "      <th>3</th>\n",
              "      <td>21</td>\n",
              "      <td>1</td>\n",
              "      <td>505</td>\n",
              "      <td>303</td>\n",
              "      <td>1.930701e+09</td>\n",
              "      <td>2020-03-25</td>\n",
              "      <td>20200325</td>\n",
              "      <td>20200325</td>\n",
              "      <td>2020-04-09</td>\n",
              "      <td>1</td>\n",
              "      <td>72568.88</td>\n",
              "      <td>21</td>\n",
              "      <td>1.930701e+09</td>\n",
              "      <td>0</td>\n",
              "    </tr>\n",
              "    <tr>\n",
              "      <th>4</th>\n",
              "      <td>22</td>\n",
              "      <td>1</td>\n",
              "      <td>520</td>\n",
              "      <td>2070</td>\n",
              "      <td>1.930699e+09</td>\n",
              "      <td>2020-03-25</td>\n",
              "      <td>20200325</td>\n",
              "      <td>20200325</td>\n",
              "      <td>2020-04-09</td>\n",
              "      <td>1</td>\n",
              "      <td>20459.51</td>\n",
              "      <td>29</td>\n",
              "      <td>1.930699e+09</td>\n",
              "      <td>-1</td>\n",
              "    </tr>\n",
              "    <tr>\n",
              "      <th>...</th>\n",
              "      <td>...</td>\n",
              "      <td>...</td>\n",
              "      <td>...</td>\n",
              "      <td>...</td>\n",
              "      <td>...</td>\n",
              "      <td>...</td>\n",
              "      <td>...</td>\n",
              "      <td>...</td>\n",
              "      <td>...</td>\n",
              "      <td>...</td>\n",
              "      <td>...</td>\n",
              "      <td>...</td>\n",
              "      <td>...</td>\n",
              "      <td>...</td>\n",
              "    </tr>\n",
              "    <tr>\n",
              "      <th>2665</th>\n",
              "      <td>13404</td>\n",
              "      <td>1</td>\n",
              "      <td>520</td>\n",
              "      <td>2066</td>\n",
              "      <td>1.930818e+09</td>\n",
              "      <td>2020-04-23</td>\n",
              "      <td>20200423</td>\n",
              "      <td>20200423</td>\n",
              "      <td>2020-05-08</td>\n",
              "      <td>1</td>\n",
              "      <td>1717.34</td>\n",
              "      <td>29</td>\n",
              "      <td>1.930818e+09</td>\n",
              "      <td>-1</td>\n",
              "    </tr>\n",
              "    <tr>\n",
              "      <th>2666</th>\n",
              "      <td>13423</td>\n",
              "      <td>1</td>\n",
              "      <td>480</td>\n",
              "      <td>1921</td>\n",
              "      <td>1.930716e+09</td>\n",
              "      <td>2020-03-27</td>\n",
              "      <td>20200328</td>\n",
              "      <td>20200327</td>\n",
              "      <td>2020-04-11</td>\n",
              "      <td>1</td>\n",
              "      <td>33515.14</td>\n",
              "      <td>16</td>\n",
              "      <td>1.930716e+09</td>\n",
              "      <td>1</td>\n",
              "    </tr>\n",
              "    <tr>\n",
              "      <th>2667</th>\n",
              "      <td>13426</td>\n",
              "      <td>0</td>\n",
              "      <td>236</td>\n",
              "      <td>2056</td>\n",
              "      <td>2.960622e+09</td>\n",
              "      <td>2020-03-21</td>\n",
              "      <td>20200321</td>\n",
              "      <td>20200321</td>\n",
              "      <td>2020-03-31</td>\n",
              "      <td>0</td>\n",
              "      <td>12918.11</td>\n",
              "      <td>4</td>\n",
              "      <td>2.960622e+09</td>\n",
              "      <td>9</td>\n",
              "    </tr>\n",
              "    <tr>\n",
              "      <th>2668</th>\n",
              "      <td>13431</td>\n",
              "      <td>1</td>\n",
              "      <td>278</td>\n",
              "      <td>551</td>\n",
              "      <td>1.930709e+09</td>\n",
              "      <td>2020-03-26</td>\n",
              "      <td>20200326</td>\n",
              "      <td>20200326</td>\n",
              "      <td>2020-04-10</td>\n",
              "      <td>1</td>\n",
              "      <td>10454.77</td>\n",
              "      <td>16</td>\n",
              "      <td>1.930709e+09</td>\n",
              "      <td>1</td>\n",
              "    </tr>\n",
              "    <tr>\n",
              "      <th>2669</th>\n",
              "      <td>13444</td>\n",
              "      <td>0</td>\n",
              "      <td>193</td>\n",
              "      <td>1153</td>\n",
              "      <td>2.960619e+09</td>\n",
              "      <td>2020-03-05</td>\n",
              "      <td>20200305</td>\n",
              "      <td>20200305</td>\n",
              "      <td>2020-03-19</td>\n",
              "      <td>0</td>\n",
              "      <td>73720.90</td>\n",
              "      <td>4</td>\n",
              "      <td>2.960619e+09</td>\n",
              "      <td>2</td>\n",
              "    </tr>\n",
              "  </tbody>\n",
              "</table>\n",
              "<p>2670 rows × 14 columns</p>\n",
              "</div>"
            ],
            "text/plain": [
              "      key_0  business_code  ...    invoice_id  delay\n",
              "0         0              1  ...  1.930629e+09      0\n",
              "1         6              1  ...  1.930710e+09     -1\n",
              "2        16              1  ...  1.930604e+09     -1\n",
              "3        21              1  ...  1.930701e+09      0\n",
              "4        22              1  ...  1.930699e+09     -1\n",
              "...     ...            ...  ...           ...    ...\n",
              "2665  13404              1  ...  1.930818e+09     -1\n",
              "2666  13423              1  ...  1.930716e+09      1\n",
              "2667  13426              0  ...  2.960622e+09      9\n",
              "2668  13431              1  ...  1.930709e+09      1\n",
              "2669  13444              0  ...  2.960619e+09      2\n",
              "\n",
              "[2670 rows x 14 columns]"
            ]
          },
          "metadata": {
            "tags": []
          },
          "execution_count": 88
        }
      ]
    },
    {
      "cell_type": "code",
      "metadata": {
        "id": "LCzc8UUmcLO9"
      },
      "source": [
        "from datetime import timedelta #finding the clear_date=due_in_date+delay\n",
        "def find_clear_date(x):\n",
        "    return x ['due_in_date'] + timedelta(days = x['delay'])\n",
        "Final['clear_date'] = Final.apply(find_clear_date,axis=1)"
      ],
      "execution_count": null,
      "outputs": []
    },
    {
      "cell_type": "code",
      "metadata": {
        "colab": {
          "base_uri": "https://localhost:8080/",
          "height": 428
        },
        "id": "pHZYdZUGbUIg",
        "outputId": "36a627ae-2922-4cbf-d146-9ba7fcddb5a7"
      },
      "source": [
        "Final"
      ],
      "execution_count": null,
      "outputs": [
        {
          "output_type": "execute_result",
          "data": {
            "text/html": [
              "<div>\n",
              "<style scoped>\n",
              "    .dataframe tbody tr th:only-of-type {\n",
              "        vertical-align: middle;\n",
              "    }\n",
              "\n",
              "    .dataframe tbody tr th {\n",
              "        vertical-align: top;\n",
              "    }\n",
              "\n",
              "    .dataframe thead th {\n",
              "        text-align: right;\n",
              "    }\n",
              "</style>\n",
              "<table border=\"1\" class=\"dataframe\">\n",
              "  <thead>\n",
              "    <tr style=\"text-align: right;\">\n",
              "      <th></th>\n",
              "      <th>key_0</th>\n",
              "      <th>business_code</th>\n",
              "      <th>cust_number</th>\n",
              "      <th>name_customer</th>\n",
              "      <th>doc_id</th>\n",
              "      <th>posting_date</th>\n",
              "      <th>document_create_date</th>\n",
              "      <th>document_create_date.1</th>\n",
              "      <th>due_in_date</th>\n",
              "      <th>invoice_currency</th>\n",
              "      <th>total_open_amount</th>\n",
              "      <th>cust_payment_terms</th>\n",
              "      <th>invoice_id</th>\n",
              "      <th>delay</th>\n",
              "      <th>clear_date</th>\n",
              "    </tr>\n",
              "  </thead>\n",
              "  <tbody>\n",
              "    <tr>\n",
              "      <th>0</th>\n",
              "      <td>0</td>\n",
              "      <td>1</td>\n",
              "      <td>505</td>\n",
              "      <td>308</td>\n",
              "      <td>1.930629e+09</td>\n",
              "      <td>2020-03-11</td>\n",
              "      <td>20200310</td>\n",
              "      <td>20200311</td>\n",
              "      <td>2020-03-26</td>\n",
              "      <td>1</td>\n",
              "      <td>7901.99</td>\n",
              "      <td>21</td>\n",
              "      <td>1.930629e+09</td>\n",
              "      <td>0</td>\n",
              "      <td>2020-03-26</td>\n",
              "    </tr>\n",
              "    <tr>\n",
              "      <th>1</th>\n",
              "      <td>6</td>\n",
              "      <td>1</td>\n",
              "      <td>520</td>\n",
              "      <td>2062</td>\n",
              "      <td>1.930710e+09</td>\n",
              "      <td>2020-03-28</td>\n",
              "      <td>20200327</td>\n",
              "      <td>20200328</td>\n",
              "      <td>2020-04-12</td>\n",
              "      <td>1</td>\n",
              "      <td>20271.96</td>\n",
              "      <td>29</td>\n",
              "      <td>1.930710e+09</td>\n",
              "      <td>-1</td>\n",
              "      <td>2020-04-11</td>\n",
              "    </tr>\n",
              "    <tr>\n",
              "      <th>2</th>\n",
              "      <td>16</td>\n",
              "      <td>1</td>\n",
              "      <td>520</td>\n",
              "      <td>2070</td>\n",
              "      <td>1.930604e+09</td>\n",
              "      <td>2020-03-06</td>\n",
              "      <td>20200304</td>\n",
              "      <td>20200306</td>\n",
              "      <td>2020-03-21</td>\n",
              "      <td>1</td>\n",
              "      <td>9731.38</td>\n",
              "      <td>29</td>\n",
              "      <td>1.930604e+09</td>\n",
              "      <td>-1</td>\n",
              "      <td>2020-03-20</td>\n",
              "    </tr>\n",
              "    <tr>\n",
              "      <th>3</th>\n",
              "      <td>21</td>\n",
              "      <td>1</td>\n",
              "      <td>505</td>\n",
              "      <td>303</td>\n",
              "      <td>1.930701e+09</td>\n",
              "      <td>2020-03-25</td>\n",
              "      <td>20200325</td>\n",
              "      <td>20200325</td>\n",
              "      <td>2020-04-09</td>\n",
              "      <td>1</td>\n",
              "      <td>72568.88</td>\n",
              "      <td>21</td>\n",
              "      <td>1.930701e+09</td>\n",
              "      <td>0</td>\n",
              "      <td>2020-04-09</td>\n",
              "    </tr>\n",
              "    <tr>\n",
              "      <th>4</th>\n",
              "      <td>22</td>\n",
              "      <td>1</td>\n",
              "      <td>520</td>\n",
              "      <td>2070</td>\n",
              "      <td>1.930699e+09</td>\n",
              "      <td>2020-03-25</td>\n",
              "      <td>20200325</td>\n",
              "      <td>20200325</td>\n",
              "      <td>2020-04-09</td>\n",
              "      <td>1</td>\n",
              "      <td>20459.51</td>\n",
              "      <td>29</td>\n",
              "      <td>1.930699e+09</td>\n",
              "      <td>-1</td>\n",
              "      <td>2020-04-08</td>\n",
              "    </tr>\n",
              "    <tr>\n",
              "      <th>...</th>\n",
              "      <td>...</td>\n",
              "      <td>...</td>\n",
              "      <td>...</td>\n",
              "      <td>...</td>\n",
              "      <td>...</td>\n",
              "      <td>...</td>\n",
              "      <td>...</td>\n",
              "      <td>...</td>\n",
              "      <td>...</td>\n",
              "      <td>...</td>\n",
              "      <td>...</td>\n",
              "      <td>...</td>\n",
              "      <td>...</td>\n",
              "      <td>...</td>\n",
              "      <td>...</td>\n",
              "    </tr>\n",
              "    <tr>\n",
              "      <th>2665</th>\n",
              "      <td>13404</td>\n",
              "      <td>1</td>\n",
              "      <td>520</td>\n",
              "      <td>2066</td>\n",
              "      <td>1.930818e+09</td>\n",
              "      <td>2020-04-23</td>\n",
              "      <td>20200423</td>\n",
              "      <td>20200423</td>\n",
              "      <td>2020-05-08</td>\n",
              "      <td>1</td>\n",
              "      <td>1717.34</td>\n",
              "      <td>29</td>\n",
              "      <td>1.930818e+09</td>\n",
              "      <td>-1</td>\n",
              "      <td>2020-05-07</td>\n",
              "    </tr>\n",
              "    <tr>\n",
              "      <th>2666</th>\n",
              "      <td>13423</td>\n",
              "      <td>1</td>\n",
              "      <td>480</td>\n",
              "      <td>1921</td>\n",
              "      <td>1.930716e+09</td>\n",
              "      <td>2020-03-27</td>\n",
              "      <td>20200328</td>\n",
              "      <td>20200327</td>\n",
              "      <td>2020-04-11</td>\n",
              "      <td>1</td>\n",
              "      <td>33515.14</td>\n",
              "      <td>16</td>\n",
              "      <td>1.930716e+09</td>\n",
              "      <td>1</td>\n",
              "      <td>2020-04-12</td>\n",
              "    </tr>\n",
              "    <tr>\n",
              "      <th>2667</th>\n",
              "      <td>13426</td>\n",
              "      <td>0</td>\n",
              "      <td>236</td>\n",
              "      <td>2056</td>\n",
              "      <td>2.960622e+09</td>\n",
              "      <td>2020-03-21</td>\n",
              "      <td>20200321</td>\n",
              "      <td>20200321</td>\n",
              "      <td>2020-03-31</td>\n",
              "      <td>0</td>\n",
              "      <td>12918.11</td>\n",
              "      <td>4</td>\n",
              "      <td>2.960622e+09</td>\n",
              "      <td>9</td>\n",
              "      <td>2020-04-09</td>\n",
              "    </tr>\n",
              "    <tr>\n",
              "      <th>2668</th>\n",
              "      <td>13431</td>\n",
              "      <td>1</td>\n",
              "      <td>278</td>\n",
              "      <td>551</td>\n",
              "      <td>1.930709e+09</td>\n",
              "      <td>2020-03-26</td>\n",
              "      <td>20200326</td>\n",
              "      <td>20200326</td>\n",
              "      <td>2020-04-10</td>\n",
              "      <td>1</td>\n",
              "      <td>10454.77</td>\n",
              "      <td>16</td>\n",
              "      <td>1.930709e+09</td>\n",
              "      <td>1</td>\n",
              "      <td>2020-04-11</td>\n",
              "    </tr>\n",
              "    <tr>\n",
              "      <th>2669</th>\n",
              "      <td>13444</td>\n",
              "      <td>0</td>\n",
              "      <td>193</td>\n",
              "      <td>1153</td>\n",
              "      <td>2.960619e+09</td>\n",
              "      <td>2020-03-05</td>\n",
              "      <td>20200305</td>\n",
              "      <td>20200305</td>\n",
              "      <td>2020-03-19</td>\n",
              "      <td>0</td>\n",
              "      <td>73720.90</td>\n",
              "      <td>4</td>\n",
              "      <td>2.960619e+09</td>\n",
              "      <td>2</td>\n",
              "      <td>2020-03-21</td>\n",
              "    </tr>\n",
              "  </tbody>\n",
              "</table>\n",
              "<p>2670 rows × 15 columns</p>\n",
              "</div>"
            ],
            "text/plain": [
              "      key_0  business_code  cust_number  ...    invoice_id  delay clear_date\n",
              "0         0              1          505  ...  1.930629e+09      0 2020-03-26\n",
              "1         6              1          520  ...  1.930710e+09     -1 2020-04-11\n",
              "2        16              1          520  ...  1.930604e+09     -1 2020-03-20\n",
              "3        21              1          505  ...  1.930701e+09      0 2020-04-09\n",
              "4        22              1          520  ...  1.930699e+09     -1 2020-04-08\n",
              "...     ...            ...          ...  ...           ...    ...        ...\n",
              "2665  13404              1          520  ...  1.930818e+09     -1 2020-05-07\n",
              "2666  13423              1          480  ...  1.930716e+09      1 2020-04-12\n",
              "2667  13426              0          236  ...  2.960622e+09      9 2020-04-09\n",
              "2668  13431              1          278  ...  1.930709e+09      1 2020-04-11\n",
              "2669  13444              0          193  ...  2.960619e+09      2 2020-03-21\n",
              "\n",
              "[2670 rows x 15 columns]"
            ]
          },
          "metadata": {
            "tags": []
          },
          "execution_count": 90
        }
      ]
    },
    {
      "cell_type": "code",
      "metadata": {
        "id": "sxMYp1qlcp7Y"
      },
      "source": [
        "#bucketization to find the aging bucket\n",
        "def bucketization(x):\n",
        "    if x<0:\n",
        "        return('(<0) Days')\n",
        "    if x in range(0,16):\n",
        "        return('(0-15) Days')\n",
        "    elif x in range(16,31):\n",
        "        return('(16-30) Days')\n",
        "    elif x in range(31,45):\n",
        "        return('(31-45) Days')\n",
        "    elif x in range(45,60):\n",
        "        return('(45-60) Days')\n",
        "    else:\n",
        "        return('( 60) Days')\n"
      ],
      "execution_count": null,
      "outputs": []
    },
    {
      "cell_type": "code",
      "metadata": {
        "id": "3DMhP0BCc728"
      },
      "source": [
        "Final['DELAY AGING BUCKET']= pd.Series([bucketization(x=Final['delay'][i])  for i in range(len(Final))]) #loop used to find the respective aging bucket with delay"
      ],
      "execution_count": null,
      "outputs": []
    },
    {
      "cell_type": "code",
      "metadata": {
        "colab": {
          "base_uri": "https://localhost:8080/",
          "height": 623
        },
        "id": "6ztxFO0Ina97",
        "outputId": "77b1fd16-9f66-48c6-9b0e-d6c364851250"
      },
      "source": [
        "Final"
      ],
      "execution_count": null,
      "outputs": [
        {
          "output_type": "execute_result",
          "data": {
            "text/html": [
              "<div>\n",
              "<style scoped>\n",
              "    .dataframe tbody tr th:only-of-type {\n",
              "        vertical-align: middle;\n",
              "    }\n",
              "\n",
              "    .dataframe tbody tr th {\n",
              "        vertical-align: top;\n",
              "    }\n",
              "\n",
              "    .dataframe thead th {\n",
              "        text-align: right;\n",
              "    }\n",
              "</style>\n",
              "<table border=\"1\" class=\"dataframe\">\n",
              "  <thead>\n",
              "    <tr style=\"text-align: right;\">\n",
              "      <th></th>\n",
              "      <th>key_0</th>\n",
              "      <th>business_code</th>\n",
              "      <th>cust_number</th>\n",
              "      <th>name_customer</th>\n",
              "      <th>doc_id</th>\n",
              "      <th>posting_date</th>\n",
              "      <th>document_create_date</th>\n",
              "      <th>document_create_date.1</th>\n",
              "      <th>due_in_date</th>\n",
              "      <th>invoice_currency</th>\n",
              "      <th>total_open_amount</th>\n",
              "      <th>cust_payment_terms</th>\n",
              "      <th>invoice_id</th>\n",
              "      <th>delay</th>\n",
              "      <th>clear_date</th>\n",
              "      <th>DELAY AGING BUCKET</th>\n",
              "    </tr>\n",
              "  </thead>\n",
              "  <tbody>\n",
              "    <tr>\n",
              "      <th>0</th>\n",
              "      <td>0</td>\n",
              "      <td>1</td>\n",
              "      <td>505</td>\n",
              "      <td>308</td>\n",
              "      <td>1.930629e+09</td>\n",
              "      <td>2020-03-11</td>\n",
              "      <td>20200310</td>\n",
              "      <td>20200311</td>\n",
              "      <td>2020-03-26</td>\n",
              "      <td>1</td>\n",
              "      <td>7901.99</td>\n",
              "      <td>21</td>\n",
              "      <td>1.930629e+09</td>\n",
              "      <td>0</td>\n",
              "      <td>2020-03-26</td>\n",
              "      <td>(0-15) Days</td>\n",
              "    </tr>\n",
              "    <tr>\n",
              "      <th>1</th>\n",
              "      <td>6</td>\n",
              "      <td>1</td>\n",
              "      <td>520</td>\n",
              "      <td>2062</td>\n",
              "      <td>1.930710e+09</td>\n",
              "      <td>2020-03-28</td>\n",
              "      <td>20200327</td>\n",
              "      <td>20200328</td>\n",
              "      <td>2020-04-12</td>\n",
              "      <td>1</td>\n",
              "      <td>20271.96</td>\n",
              "      <td>29</td>\n",
              "      <td>1.930710e+09</td>\n",
              "      <td>-1</td>\n",
              "      <td>2020-04-11</td>\n",
              "      <td>(&lt;0) Days</td>\n",
              "    </tr>\n",
              "    <tr>\n",
              "      <th>2</th>\n",
              "      <td>16</td>\n",
              "      <td>1</td>\n",
              "      <td>520</td>\n",
              "      <td>2070</td>\n",
              "      <td>1.930604e+09</td>\n",
              "      <td>2020-03-06</td>\n",
              "      <td>20200304</td>\n",
              "      <td>20200306</td>\n",
              "      <td>2020-03-21</td>\n",
              "      <td>1</td>\n",
              "      <td>9731.38</td>\n",
              "      <td>29</td>\n",
              "      <td>1.930604e+09</td>\n",
              "      <td>-1</td>\n",
              "      <td>2020-03-20</td>\n",
              "      <td>(&lt;0) Days</td>\n",
              "    </tr>\n",
              "    <tr>\n",
              "      <th>3</th>\n",
              "      <td>21</td>\n",
              "      <td>1</td>\n",
              "      <td>505</td>\n",
              "      <td>303</td>\n",
              "      <td>1.930701e+09</td>\n",
              "      <td>2020-03-25</td>\n",
              "      <td>20200325</td>\n",
              "      <td>20200325</td>\n",
              "      <td>2020-04-09</td>\n",
              "      <td>1</td>\n",
              "      <td>72568.88</td>\n",
              "      <td>21</td>\n",
              "      <td>1.930701e+09</td>\n",
              "      <td>0</td>\n",
              "      <td>2020-04-09</td>\n",
              "      <td>(0-15) Days</td>\n",
              "    </tr>\n",
              "    <tr>\n",
              "      <th>4</th>\n",
              "      <td>22</td>\n",
              "      <td>1</td>\n",
              "      <td>520</td>\n",
              "      <td>2070</td>\n",
              "      <td>1.930699e+09</td>\n",
              "      <td>2020-03-25</td>\n",
              "      <td>20200325</td>\n",
              "      <td>20200325</td>\n",
              "      <td>2020-04-09</td>\n",
              "      <td>1</td>\n",
              "      <td>20459.51</td>\n",
              "      <td>29</td>\n",
              "      <td>1.930699e+09</td>\n",
              "      <td>-1</td>\n",
              "      <td>2020-04-08</td>\n",
              "      <td>(&lt;0) Days</td>\n",
              "    </tr>\n",
              "    <tr>\n",
              "      <th>...</th>\n",
              "      <td>...</td>\n",
              "      <td>...</td>\n",
              "      <td>...</td>\n",
              "      <td>...</td>\n",
              "      <td>...</td>\n",
              "      <td>...</td>\n",
              "      <td>...</td>\n",
              "      <td>...</td>\n",
              "      <td>...</td>\n",
              "      <td>...</td>\n",
              "      <td>...</td>\n",
              "      <td>...</td>\n",
              "      <td>...</td>\n",
              "      <td>...</td>\n",
              "      <td>...</td>\n",
              "      <td>...</td>\n",
              "    </tr>\n",
              "    <tr>\n",
              "      <th>2665</th>\n",
              "      <td>13404</td>\n",
              "      <td>1</td>\n",
              "      <td>520</td>\n",
              "      <td>2066</td>\n",
              "      <td>1.930818e+09</td>\n",
              "      <td>2020-04-23</td>\n",
              "      <td>20200423</td>\n",
              "      <td>20200423</td>\n",
              "      <td>2020-05-08</td>\n",
              "      <td>1</td>\n",
              "      <td>1717.34</td>\n",
              "      <td>29</td>\n",
              "      <td>1.930818e+09</td>\n",
              "      <td>-1</td>\n",
              "      <td>2020-05-07</td>\n",
              "      <td>(&lt;0) Days</td>\n",
              "    </tr>\n",
              "    <tr>\n",
              "      <th>2666</th>\n",
              "      <td>13423</td>\n",
              "      <td>1</td>\n",
              "      <td>480</td>\n",
              "      <td>1921</td>\n",
              "      <td>1.930716e+09</td>\n",
              "      <td>2020-03-27</td>\n",
              "      <td>20200328</td>\n",
              "      <td>20200327</td>\n",
              "      <td>2020-04-11</td>\n",
              "      <td>1</td>\n",
              "      <td>33515.14</td>\n",
              "      <td>16</td>\n",
              "      <td>1.930716e+09</td>\n",
              "      <td>1</td>\n",
              "      <td>2020-04-12</td>\n",
              "      <td>(0-15) Days</td>\n",
              "    </tr>\n",
              "    <tr>\n",
              "      <th>2667</th>\n",
              "      <td>13426</td>\n",
              "      <td>0</td>\n",
              "      <td>236</td>\n",
              "      <td>2056</td>\n",
              "      <td>2.960622e+09</td>\n",
              "      <td>2020-03-21</td>\n",
              "      <td>20200321</td>\n",
              "      <td>20200321</td>\n",
              "      <td>2020-03-31</td>\n",
              "      <td>0</td>\n",
              "      <td>12918.11</td>\n",
              "      <td>4</td>\n",
              "      <td>2.960622e+09</td>\n",
              "      <td>9</td>\n",
              "      <td>2020-04-09</td>\n",
              "      <td>(0-15) Days</td>\n",
              "    </tr>\n",
              "    <tr>\n",
              "      <th>2668</th>\n",
              "      <td>13431</td>\n",
              "      <td>1</td>\n",
              "      <td>278</td>\n",
              "      <td>551</td>\n",
              "      <td>1.930709e+09</td>\n",
              "      <td>2020-03-26</td>\n",
              "      <td>20200326</td>\n",
              "      <td>20200326</td>\n",
              "      <td>2020-04-10</td>\n",
              "      <td>1</td>\n",
              "      <td>10454.77</td>\n",
              "      <td>16</td>\n",
              "      <td>1.930709e+09</td>\n",
              "      <td>1</td>\n",
              "      <td>2020-04-11</td>\n",
              "      <td>(0-15) Days</td>\n",
              "    </tr>\n",
              "    <tr>\n",
              "      <th>2669</th>\n",
              "      <td>13444</td>\n",
              "      <td>0</td>\n",
              "      <td>193</td>\n",
              "      <td>1153</td>\n",
              "      <td>2.960619e+09</td>\n",
              "      <td>2020-03-05</td>\n",
              "      <td>20200305</td>\n",
              "      <td>20200305</td>\n",
              "      <td>2020-03-19</td>\n",
              "      <td>0</td>\n",
              "      <td>73720.90</td>\n",
              "      <td>4</td>\n",
              "      <td>2.960619e+09</td>\n",
              "      <td>2</td>\n",
              "      <td>2020-03-21</td>\n",
              "      <td>(0-15) Days</td>\n",
              "    </tr>\n",
              "  </tbody>\n",
              "</table>\n",
              "<p>2670 rows × 16 columns</p>\n",
              "</div>"
            ],
            "text/plain": [
              "      key_0  business_code  cust_number  ...  delay  clear_date DELAY AGING BUCKET\n",
              "0         0              1          505  ...      0  2020-03-26        (0-15) Days\n",
              "1         6              1          520  ...     -1  2020-04-11          (<0) Days\n",
              "2        16              1          520  ...     -1  2020-03-20          (<0) Days\n",
              "3        21              1          505  ...      0  2020-04-09        (0-15) Days\n",
              "4        22              1          520  ...     -1  2020-04-08          (<0) Days\n",
              "...     ...            ...          ...  ...    ...         ...                ...\n",
              "2665  13404              1          520  ...     -1  2020-05-07          (<0) Days\n",
              "2666  13423              1          480  ...      1  2020-04-12        (0-15) Days\n",
              "2667  13426              0          236  ...      9  2020-04-09        (0-15) Days\n",
              "2668  13431              1          278  ...      1  2020-04-11        (0-15) Days\n",
              "2669  13444              0          193  ...      2  2020-03-21        (0-15) Days\n",
              "\n",
              "[2670 rows x 16 columns]"
            ]
          },
          "metadata": {
            "tags": []
          },
          "execution_count": 93
        }
      ]
    },
    {
      "cell_type": "code",
      "metadata": {
        "id": "r2iX7auaoInS"
      },
      "source": [
        "Final_1=Final #making dup dataframe to print the final result"
      ],
      "execution_count": null,
      "outputs": []
    },
    {
      "cell_type": "code",
      "metadata": {
        "id": "BBUG53-QoU70"
      },
      "source": [
        "Final_1 = Final_1.rename(columns={\"clear_date\":\"Payment_Date\"});#renaming clear_date as payment_date"
      ],
      "execution_count": null,
      "outputs": []
    },
    {
      "cell_type": "code",
      "metadata": {
        "id": "XGcxTCu5orLu"
      },
      "source": [
        "#converting the dates to datetimeformat\n",
        "Final_1['document_create_date']=pd.to_datetime(Final_1['document_create_date'],format='%Y%m%d')\n",
        "Final_1['document_create_date.1']=pd.to_datetime(Final_1['document_create_date.1'],format='%Y%m%d')\n",
        "\n"
      ],
      "execution_count": null,
      "outputs": []
    },
    {
      "cell_type": "code",
      "metadata": {
        "colab": {
          "base_uri": "https://localhost:8080/",
          "height": 623
        },
        "id": "Qfjnn9BYoNwT",
        "outputId": "1a9bcba3-349f-484f-e1b5-8579823c6b51"
      },
      "source": [
        "Final_1  #final_result"
      ],
      "execution_count": null,
      "outputs": [
        {
          "output_type": "execute_result",
          "data": {
            "text/html": [
              "<div>\n",
              "<style scoped>\n",
              "    .dataframe tbody tr th:only-of-type {\n",
              "        vertical-align: middle;\n",
              "    }\n",
              "\n",
              "    .dataframe tbody tr th {\n",
              "        vertical-align: top;\n",
              "    }\n",
              "\n",
              "    .dataframe thead th {\n",
              "        text-align: right;\n",
              "    }\n",
              "</style>\n",
              "<table border=\"1\" class=\"dataframe\">\n",
              "  <thead>\n",
              "    <tr style=\"text-align: right;\">\n",
              "      <th></th>\n",
              "      <th>key_0</th>\n",
              "      <th>business_code</th>\n",
              "      <th>cust_number</th>\n",
              "      <th>name_customer</th>\n",
              "      <th>doc_id</th>\n",
              "      <th>posting_date</th>\n",
              "      <th>document_create_date</th>\n",
              "      <th>document_create_date.1</th>\n",
              "      <th>due_in_date</th>\n",
              "      <th>invoice_currency</th>\n",
              "      <th>total_open_amount</th>\n",
              "      <th>cust_payment_terms</th>\n",
              "      <th>invoice_id</th>\n",
              "      <th>delay</th>\n",
              "      <th>Payment_Date</th>\n",
              "      <th>DELAY AGING BUCKET</th>\n",
              "    </tr>\n",
              "  </thead>\n",
              "  <tbody>\n",
              "    <tr>\n",
              "      <th>0</th>\n",
              "      <td>0</td>\n",
              "      <td>1</td>\n",
              "      <td>505</td>\n",
              "      <td>308</td>\n",
              "      <td>1.930629e+09</td>\n",
              "      <td>2020-03-11</td>\n",
              "      <td>2020-03-10</td>\n",
              "      <td>2020-03-11</td>\n",
              "      <td>2020-03-26</td>\n",
              "      <td>1</td>\n",
              "      <td>7901.99</td>\n",
              "      <td>21</td>\n",
              "      <td>1.930629e+09</td>\n",
              "      <td>0</td>\n",
              "      <td>2020-03-26</td>\n",
              "      <td>(0-15) Days</td>\n",
              "    </tr>\n",
              "    <tr>\n",
              "      <th>1</th>\n",
              "      <td>6</td>\n",
              "      <td>1</td>\n",
              "      <td>520</td>\n",
              "      <td>2062</td>\n",
              "      <td>1.930710e+09</td>\n",
              "      <td>2020-03-28</td>\n",
              "      <td>2020-03-27</td>\n",
              "      <td>2020-03-28</td>\n",
              "      <td>2020-04-12</td>\n",
              "      <td>1</td>\n",
              "      <td>20271.96</td>\n",
              "      <td>29</td>\n",
              "      <td>1.930710e+09</td>\n",
              "      <td>-1</td>\n",
              "      <td>2020-04-11</td>\n",
              "      <td>(&lt;0) Days</td>\n",
              "    </tr>\n",
              "    <tr>\n",
              "      <th>2</th>\n",
              "      <td>16</td>\n",
              "      <td>1</td>\n",
              "      <td>520</td>\n",
              "      <td>2070</td>\n",
              "      <td>1.930604e+09</td>\n",
              "      <td>2020-03-06</td>\n",
              "      <td>2020-03-04</td>\n",
              "      <td>2020-03-06</td>\n",
              "      <td>2020-03-21</td>\n",
              "      <td>1</td>\n",
              "      <td>9731.38</td>\n",
              "      <td>29</td>\n",
              "      <td>1.930604e+09</td>\n",
              "      <td>-1</td>\n",
              "      <td>2020-03-20</td>\n",
              "      <td>(&lt;0) Days</td>\n",
              "    </tr>\n",
              "    <tr>\n",
              "      <th>3</th>\n",
              "      <td>21</td>\n",
              "      <td>1</td>\n",
              "      <td>505</td>\n",
              "      <td>303</td>\n",
              "      <td>1.930701e+09</td>\n",
              "      <td>2020-03-25</td>\n",
              "      <td>2020-03-25</td>\n",
              "      <td>2020-03-25</td>\n",
              "      <td>2020-04-09</td>\n",
              "      <td>1</td>\n",
              "      <td>72568.88</td>\n",
              "      <td>21</td>\n",
              "      <td>1.930701e+09</td>\n",
              "      <td>0</td>\n",
              "      <td>2020-04-09</td>\n",
              "      <td>(0-15) Days</td>\n",
              "    </tr>\n",
              "    <tr>\n",
              "      <th>4</th>\n",
              "      <td>22</td>\n",
              "      <td>1</td>\n",
              "      <td>520</td>\n",
              "      <td>2070</td>\n",
              "      <td>1.930699e+09</td>\n",
              "      <td>2020-03-25</td>\n",
              "      <td>2020-03-25</td>\n",
              "      <td>2020-03-25</td>\n",
              "      <td>2020-04-09</td>\n",
              "      <td>1</td>\n",
              "      <td>20459.51</td>\n",
              "      <td>29</td>\n",
              "      <td>1.930699e+09</td>\n",
              "      <td>-1</td>\n",
              "      <td>2020-04-08</td>\n",
              "      <td>(&lt;0) Days</td>\n",
              "    </tr>\n",
              "    <tr>\n",
              "      <th>...</th>\n",
              "      <td>...</td>\n",
              "      <td>...</td>\n",
              "      <td>...</td>\n",
              "      <td>...</td>\n",
              "      <td>...</td>\n",
              "      <td>...</td>\n",
              "      <td>...</td>\n",
              "      <td>...</td>\n",
              "      <td>...</td>\n",
              "      <td>...</td>\n",
              "      <td>...</td>\n",
              "      <td>...</td>\n",
              "      <td>...</td>\n",
              "      <td>...</td>\n",
              "      <td>...</td>\n",
              "      <td>...</td>\n",
              "    </tr>\n",
              "    <tr>\n",
              "      <th>2665</th>\n",
              "      <td>13404</td>\n",
              "      <td>1</td>\n",
              "      <td>520</td>\n",
              "      <td>2066</td>\n",
              "      <td>1.930818e+09</td>\n",
              "      <td>2020-04-23</td>\n",
              "      <td>2020-04-23</td>\n",
              "      <td>2020-04-23</td>\n",
              "      <td>2020-05-08</td>\n",
              "      <td>1</td>\n",
              "      <td>1717.34</td>\n",
              "      <td>29</td>\n",
              "      <td>1.930818e+09</td>\n",
              "      <td>-1</td>\n",
              "      <td>2020-05-07</td>\n",
              "      <td>(&lt;0) Days</td>\n",
              "    </tr>\n",
              "    <tr>\n",
              "      <th>2666</th>\n",
              "      <td>13423</td>\n",
              "      <td>1</td>\n",
              "      <td>480</td>\n",
              "      <td>1921</td>\n",
              "      <td>1.930716e+09</td>\n",
              "      <td>2020-03-27</td>\n",
              "      <td>2020-03-28</td>\n",
              "      <td>2020-03-27</td>\n",
              "      <td>2020-04-11</td>\n",
              "      <td>1</td>\n",
              "      <td>33515.14</td>\n",
              "      <td>16</td>\n",
              "      <td>1.930716e+09</td>\n",
              "      <td>1</td>\n",
              "      <td>2020-04-12</td>\n",
              "      <td>(0-15) Days</td>\n",
              "    </tr>\n",
              "    <tr>\n",
              "      <th>2667</th>\n",
              "      <td>13426</td>\n",
              "      <td>0</td>\n",
              "      <td>236</td>\n",
              "      <td>2056</td>\n",
              "      <td>2.960622e+09</td>\n",
              "      <td>2020-03-21</td>\n",
              "      <td>2020-03-21</td>\n",
              "      <td>2020-03-21</td>\n",
              "      <td>2020-03-31</td>\n",
              "      <td>0</td>\n",
              "      <td>12918.11</td>\n",
              "      <td>4</td>\n",
              "      <td>2.960622e+09</td>\n",
              "      <td>9</td>\n",
              "      <td>2020-04-09</td>\n",
              "      <td>(0-15) Days</td>\n",
              "    </tr>\n",
              "    <tr>\n",
              "      <th>2668</th>\n",
              "      <td>13431</td>\n",
              "      <td>1</td>\n",
              "      <td>278</td>\n",
              "      <td>551</td>\n",
              "      <td>1.930709e+09</td>\n",
              "      <td>2020-03-26</td>\n",
              "      <td>2020-03-26</td>\n",
              "      <td>2020-03-26</td>\n",
              "      <td>2020-04-10</td>\n",
              "      <td>1</td>\n",
              "      <td>10454.77</td>\n",
              "      <td>16</td>\n",
              "      <td>1.930709e+09</td>\n",
              "      <td>1</td>\n",
              "      <td>2020-04-11</td>\n",
              "      <td>(0-15) Days</td>\n",
              "    </tr>\n",
              "    <tr>\n",
              "      <th>2669</th>\n",
              "      <td>13444</td>\n",
              "      <td>0</td>\n",
              "      <td>193</td>\n",
              "      <td>1153</td>\n",
              "      <td>2.960619e+09</td>\n",
              "      <td>2020-03-05</td>\n",
              "      <td>2020-03-05</td>\n",
              "      <td>2020-03-05</td>\n",
              "      <td>2020-03-19</td>\n",
              "      <td>0</td>\n",
              "      <td>73720.90</td>\n",
              "      <td>4</td>\n",
              "      <td>2.960619e+09</td>\n",
              "      <td>2</td>\n",
              "      <td>2020-03-21</td>\n",
              "      <td>(0-15) Days</td>\n",
              "    </tr>\n",
              "  </tbody>\n",
              "</table>\n",
              "<p>2670 rows × 16 columns</p>\n",
              "</div>"
            ],
            "text/plain": [
              "      key_0  business_code  cust_number  ...  delay  Payment_Date DELAY AGING BUCKET\n",
              "0         0              1          505  ...      0    2020-03-26        (0-15) Days\n",
              "1         6              1          520  ...     -1    2020-04-11          (<0) Days\n",
              "2        16              1          520  ...     -1    2020-03-20          (<0) Days\n",
              "3        21              1          505  ...      0    2020-04-09        (0-15) Days\n",
              "4        22              1          520  ...     -1    2020-04-08          (<0) Days\n",
              "...     ...            ...          ...  ...    ...           ...                ...\n",
              "2665  13404              1          520  ...     -1    2020-05-07          (<0) Days\n",
              "2666  13423              1          480  ...      1    2020-04-12        (0-15) Days\n",
              "2667  13426              0          236  ...      9    2020-04-09        (0-15) Days\n",
              "2668  13431              1          278  ...      1    2020-04-11        (0-15) Days\n",
              "2669  13444              0          193  ...      2    2020-03-21        (0-15) Days\n",
              "\n",
              "[2670 rows x 16 columns]"
            ]
          },
          "metadata": {
            "tags": []
          },
          "execution_count": 97
        }
      ]
    },
    {
      "cell_type": "code",
      "metadata": {
        "id": "n7n7qDrNOUTc"
      },
      "source": [
        ""
      ],
      "execution_count": null,
      "outputs": []
    },
    {
      "cell_type": "code",
      "metadata": {
        "id": "IQvsxRic3fBW"
      },
      "source": [
        ""
      ],
      "execution_count": null,
      "outputs": []
    }
  ]
}